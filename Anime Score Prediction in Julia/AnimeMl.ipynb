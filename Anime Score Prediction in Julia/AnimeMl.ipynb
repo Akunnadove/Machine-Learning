{
 "cells": [
  {
   "cell_type": "markdown",
   "id": "d00b35ed",
   "metadata": {},
   "source": [
    "# DATA CLEANING\n"
   ]
  },
  {
   "cell_type": "markdown",
   "id": "0492c03e",
   "metadata": {},
   "source": [
    "### Import Libraries"
   ]
  },
  {
   "cell_type": "code",
   "execution_count": 1,
   "id": "4ce2245b",
   "metadata": {},
   "outputs": [],
   "source": [
    "using DataFrames"
   ]
  },
  {
   "cell_type": "code",
   "execution_count": 2,
   "id": "0af14054",
   "metadata": {},
   "outputs": [],
   "source": [
    "using CSV"
   ]
  },
  {
   "cell_type": "code",
   "execution_count": 3,
   "id": "107de51e",
   "metadata": {},
   "outputs": [],
   "source": [
    "using Plots"
   ]
  },
  {
   "cell_type": "code",
   "execution_count": 4,
   "id": "90b2e06a",
   "metadata": {},
   "outputs": [],
   "source": [
    "using GLM"
   ]
  },
  {
   "cell_type": "code",
   "execution_count": 5,
   "id": "223728ef",
   "metadata": {},
   "outputs": [],
   "source": [
    "using Lathe"
   ]
  },
  {
   "cell_type": "code",
   "execution_count": 6,
   "id": "11c59b26",
   "metadata": {},
   "outputs": [],
   "source": [
    "using Statistics "
   ]
  },
  {
   "cell_type": "code",
   "execution_count": 7,
   "id": "d5e079be",
   "metadata": {},
   "outputs": [],
   "source": [
    "using StatsPlots"
   ]
  },
  {
   "cell_type": "code",
   "execution_count": 8,
   "id": "72e6ed59",
   "metadata": {
    "scrolled": true
   },
   "outputs": [],
   "source": [
    "using MLBase"
   ]
  },
  {
   "cell_type": "markdown",
   "id": "a07be892",
   "metadata": {},
   "source": [
    "### Import Dataset"
   ]
  },
  {
   "cell_type": "code",
   "execution_count": 9,
   "id": "65f0ed4e",
   "metadata": {
    "scrolled": true
   },
   "outputs": [
    {
     "data": {
      "text/html": [
       "<table class=\"data-frame\"><thead><tr><th></th><th>Rank</th><th>Title</th><th>Popularity</th><th>Genre</th></tr><tr><th></th><th>Int64</th><th>String</th><th>Int64</th><th>String?</th></tr></thead><tbody><p>7 rows × 12 columns (omitted printing of 8 columns)</p><tr><th>1</th><td>1</td><td>Shingeki no Kyojin: The Final Season - Kanketsu-hen</td><td>609</td><td>Action, Drama, Suspense</td></tr><tr><th>2</th><td>2</td><td>Fullmetal Alchemist: Brotherhood</td><td>3</td><td>Action, Adventure, Drama, Fantasy</td></tr><tr><th>3</th><td>3</td><td>Bleach: Sennen Kessen-hen</td><td>508</td><td>Action, Adventure, Fantasy</td></tr><tr><th>4</th><td>4</td><td>Steins;Gate</td><td>13</td><td>Drama, Sci-Fi, Suspense</td></tr><tr><th>5</th><td>5</td><td>Gintama\\xb0</td><td>335</td><td>Action, Comedy, Sci-Fi</td></tr><tr><th>6</th><td>6</td><td>Kaguya-sama wa Kokurasetai: Ultra Romantic</td><td>221</td><td>Comedy, Romance</td></tr><tr><th>7</th><td>7</td><td>Shingeki no Kyojin Season 3 Part 2</td><td>26</td><td>Action, Drama</td></tr></tbody></table>"
      ],
      "text/latex": [
       "\\begin{tabular}{r|ccccc}\n",
       "\t& Rank & Title & Popularity & Genre & \\\\\n",
       "\t\\hline\n",
       "\t& Int64 & String & Int64 & String? & \\\\\n",
       "\t\\hline\n",
       "\t1 & 1 & Shingeki no Kyojin: The Final Season - Kanketsu-hen & 609 & Action, Drama, Suspense & $\\dots$ \\\\\n",
       "\t2 & 2 & Fullmetal Alchemist: Brotherhood & 3 & Action, Adventure, Drama, Fantasy & $\\dots$ \\\\\n",
       "\t3 & 3 & Bleach: Sennen Kessen-hen & 508 & Action, Adventure, Fantasy & $\\dots$ \\\\\n",
       "\t4 & 4 & Steins;Gate & 13 & Drama, Sci-Fi, Suspense & $\\dots$ \\\\\n",
       "\t5 & 5 & Gintama\\textbackslash{}xb0 & 335 & Action, Comedy, Sci-Fi & $\\dots$ \\\\\n",
       "\t6 & 6 & Kaguya-sama wa Kokurasetai: Ultra Romantic & 221 & Comedy, Romance & $\\dots$ \\\\\n",
       "\t7 & 7 & Shingeki no Kyojin Season 3 Part 2 & 26 & Action, Drama & $\\dots$ \\\\\n",
       "\\end{tabular}\n"
      ],
      "text/plain": [
       "\u001b[1m7×12 DataFrame\u001b[0m\n",
       "\u001b[1m Row \u001b[0m│\u001b[1m Rank  \u001b[0m\u001b[1m Title                             \u001b[0m\u001b[1m Popularity \u001b[0m\u001b[1m Genre            \u001b[0m ⋯\n",
       "\u001b[1m     \u001b[0m│\u001b[90m Int64 \u001b[0m\u001b[90m String                            \u001b[0m\u001b[90m Int64      \u001b[0m\u001b[90m String?          \u001b[0m ⋯\n",
       "─────┼──────────────────────────────────────────────────────────────────────────\n",
       "   1 │     1  Shingeki no Kyojin: The Final Se…         609  Action, Drama, Su ⋯\n",
       "   2 │     2  Fullmetal Alchemist: Brotherhood            3  Action, Adventure\n",
       "   3 │     3  Bleach: Sennen Kessen-hen                 508  Action, Adventure\n",
       "   4 │     4  Steins;Gate                                13  Drama, Sci-Fi, Su\n",
       "   5 │     5  Gintama\\xb0                               335  Action, Comedy, S ⋯\n",
       "   6 │     6  Kaguya-sama wa Kokurasetai: Ultr…         221  Comedy, Romance\n",
       "   7 │     7  Shingeki no Kyojin Season 3 Part…          26  Action, Drama\n",
       "\u001b[36m                                                               9 columns omitted\u001b[0m"
      ]
     },
     "execution_count": 9,
     "metadata": {},
     "output_type": "execute_result"
    }
   ],
   "source": [
    "anime = CSV.read(\"C:/Users/Akunna Anyamkpa/Downloads/AnimeMl/top250_anime.csv\", DataFrame)\n",
    " first(anime,7)"
   ]
  },
  {
   "cell_type": "markdown",
   "id": "a8f86702",
   "metadata": {},
   "source": [
    "### Check number of rows and columns"
   ]
  },
  {
   "cell_type": "code",
   "execution_count": 10,
   "id": "46d04023",
   "metadata": {},
   "outputs": [
    {
     "data": {
      "text/plain": [
       "(250, 12)"
      ]
     },
     "execution_count": 10,
     "metadata": {},
     "output_type": "execute_result"
    }
   ],
   "source": [
    "size(anime)"
   ]
  },
  {
   "cell_type": "markdown",
   "id": "8cb1ac95",
   "metadata": {},
   "source": [
    "### Check column names"
   ]
  },
  {
   "cell_type": "code",
   "execution_count": 11,
   "id": "b363d878",
   "metadata": {
    "scrolled": true
   },
   "outputs": [
    {
     "data": {
      "text/plain": [
       "12-element Vector{String}:\n",
       " \"Rank\"\n",
       " \"Title\"\n",
       " \"Popularity\"\n",
       " \"Genre\"\n",
       " \"Studio\"\n",
       " \"Type\"\n",
       " \"Episodes\"\n",
       " \"Duration\"\n",
       " \"Start_date\"\n",
       " \"End_date\"\n",
       " \"Members\"\n",
       " \"Score\""
      ]
     },
     "execution_count": 11,
     "metadata": {},
     "output_type": "execute_result"
    }
   ],
   "source": [
    "names(anime)"
   ]
  },
  {
   "cell_type": "markdown",
   "id": "6ce7c000",
   "metadata": {},
   "source": [
    "### Data Profiling"
   ]
  },
  {
   "cell_type": "code",
   "execution_count": 12,
   "id": "dffcedb5",
   "metadata": {},
   "outputs": [
    {
     "data": {
      "text/html": [
       "<table class=\"data-frame\"><thead><tr><th></th><th>variable</th><th>mean</th><th>min</th><th>median</th><th>max</th></tr><tr><th></th><th>Symbol</th><th>Union…</th><th>Any</th><th>Union…</th><th>Any</th></tr></thead><tbody><p>12 rows × 7 columns (omitted printing of 2 columns)</p><tr><th>1</th><td>Rank</td><td>125.5</td><td>1</td><td>125.5</td><td>250</td></tr><tr><th>2</th><td>Title</td><td></td><td>3-gatsu no Lion</td><td></td><td>Zoku Owarimonogatari</td></tr><tr><th>3</th><td>Popularity</td><td>855.46</td><td>1</td><td>490.0</td><td>5794</td></tr><tr><th>4</th><td>Genre</td><td></td><td> Action, Award Winning, Drama, Sci-Fi</td><td></td><td>Supernatural, Suspense</td></tr><tr><th>5</th><td>Studio</td><td></td><td>8bit</td><td></td><td>ufotable</td></tr><tr><th>6</th><td>Type</td><td></td><td>Movie</td><td></td><td>TV</td></tr><tr><th>7</th><td>Episodes</td><td>17.7912</td><td>1</td><td>12.0</td><td>201</td></tr><tr><th>8</th><td>Duration</td><td>41.72</td><td>3</td><td>24.0</td><td>161</td></tr><tr><th>9</th><td>Start_date</td><td></td><td>#VALUE!</td><td></td><td>Sep-22</td></tr><tr><th>10</th><td>End_date</td><td></td><td>#VALUE!</td><td></td><td>Sep-99</td></tr><tr><th>11</th><td>Members</td><td>6.64259e5</td><td>10566</td><td>415455.0</td><td>3673536</td></tr><tr><th>12</th><td>Score</td><td>8.54668</td><td>8.29</td><td>8.505</td><td>9.17</td></tr></tbody></table>"
      ],
      "text/latex": [
       "\\begin{tabular}{r|cccccc}\n",
       "\t& variable & mean & min & median & max & \\\\\n",
       "\t\\hline\n",
       "\t& Symbol & Union… & Any & Union… & Any & \\\\\n",
       "\t\\hline\n",
       "\t1 & Rank & 125.5 & 1 & 125.5 & 250 & $\\dots$ \\\\\n",
       "\t2 & Title &  & 3-gatsu no Lion &  & Zoku Owarimonogatari & $\\dots$ \\\\\n",
       "\t3 & Popularity & 855.46 & 1 & 490.0 & 5794 & $\\dots$ \\\\\n",
       "\t4 & Genre &  &  Action, Award Winning, Drama, Sci-Fi &  & Supernatural, Suspense & $\\dots$ \\\\\n",
       "\t5 & Studio &  & 8bit &  & ufotable & $\\dots$ \\\\\n",
       "\t6 & Type &  & Movie &  & TV & $\\dots$ \\\\\n",
       "\t7 & Episodes & 17.7912 & 1 & 12.0 & 201 & $\\dots$ \\\\\n",
       "\t8 & Duration & 41.72 & 3 & 24.0 & 161 & $\\dots$ \\\\\n",
       "\t9 & Start\\_date &  & \\#VALUE! &  & Sep-22 & $\\dots$ \\\\\n",
       "\t10 & End\\_date &  & \\#VALUE! &  & Sep-99 & $\\dots$ \\\\\n",
       "\t11 & Members & 6.64259e5 & 10566 & 415455.0 & 3673536 & $\\dots$ \\\\\n",
       "\t12 & Score & 8.54668 & 8.29 & 8.505 & 9.17 & $\\dots$ \\\\\n",
       "\\end{tabular}\n"
      ],
      "text/plain": [
       "\u001b[1m12×7 DataFrame\u001b[0m\n",
       "\u001b[1m Row \u001b[0m│\u001b[1m variable   \u001b[0m\u001b[1m mean      \u001b[0m\u001b[1m min                               \u001b[0m\u001b[1m median   \u001b[0m\u001b[1m max\u001b[0m ⋯\n",
       "\u001b[1m     \u001b[0m│\u001b[90m Symbol     \u001b[0m\u001b[90m Union…    \u001b[0m\u001b[90m Any                               \u001b[0m\u001b[90m Union…   \u001b[0m\u001b[90m Any\u001b[0m ⋯\n",
       "─────┼──────────────────────────────────────────────────────────────────────────\n",
       "   1 │ Rank        125.5      1                                  125.5     250 ⋯\n",
       "   2 │ Title      \u001b[90m           \u001b[0m 3-gatsu no Lion                   \u001b[90m          \u001b[0m Zok\n",
       "   3 │ Popularity  855.46     1                                  490.0     579\n",
       "   4 │ Genre      \u001b[90m           \u001b[0m  Action, Award Winning, Drama, S… \u001b[90m          \u001b[0m Sup\n",
       "   5 │ Studio     \u001b[90m           \u001b[0m 8bit                              \u001b[90m          \u001b[0m ufo ⋯\n",
       "   6 │ Type       \u001b[90m           \u001b[0m Movie                             \u001b[90m          \u001b[0m TV\n",
       "   7 │ Episodes    17.7912    1                                  12.0      201\n",
       "   8 │ Duration    41.72      3                                  24.0      161\n",
       "   9 │ Start_date \u001b[90m           \u001b[0m #VALUE!                           \u001b[90m          \u001b[0m Sep ⋯\n",
       "  10 │ End_date   \u001b[90m           \u001b[0m #VALUE!                           \u001b[90m          \u001b[0m Sep\n",
       "  11 │ Members     6.64259e5  10566                              415455.0  367\n",
       "  12 │ Score       8.54668    8.29                               8.505     9.1\n",
       "\u001b[36m                                                               3 columns omitted\u001b[0m"
      ]
     },
     "execution_count": 12,
     "metadata": {},
     "output_type": "execute_result"
    }
   ],
   "source": [
    "describe(anime)"
   ]
  },
  {
   "cell_type": "markdown",
   "id": "99b2f172",
   "metadata": {},
   "source": [
    "### Sum the total number of missing values"
   ]
  },
  {
   "cell_type": "code",
   "execution_count": 13,
   "id": "6b557534",
   "metadata": {},
   "outputs": [
    {
     "name": "stdout",
     "output_type": "stream",
     "text": [
      "Total number of missing values: 8\n"
     ]
    }
   ],
   "source": [
    "# count the total number of missing values in the DataFrame\n",
    "n_missing = sum.(ismissing, eachcol(anime))\n",
    "\n",
    "# print the result\n",
    "println(\"Total number of missing values: \", sum(n_missing))"
   ]
  },
  {
   "cell_type": "markdown",
   "id": "e524f429",
   "metadata": {},
   "source": [
    "### Drop rows with missing values"
   ]
  },
  {
   "cell_type": "code",
   "execution_count": 19,
   "id": "72a634f6",
   "metadata": {},
   "outputs": [
    {
     "data": {
      "text/html": [
       "<table class=\"data-frame\"><thead><tr><th></th><th>Rank</th><th>Title</th><th>Popularity</th><th>Genre</th></tr><tr><th></th><th>Int64</th><th>String</th><th>Int64</th><th>String</th></tr></thead><tbody><p>5 rows × 12 columns (omitted printing of 8 columns)</p><tr><th>1</th><td>1</td><td>Shingeki no Kyojin: The Final Season - Kanketsu-hen</td><td>609</td><td>Action, Drama, Suspense</td></tr><tr><th>2</th><td>2</td><td>Fullmetal Alchemist: Brotherhood</td><td>3</td><td>Action, Adventure, Drama, Fantasy</td></tr><tr><th>3</th><td>3</td><td>Bleach: Sennen Kessen-hen</td><td>508</td><td>Action, Adventure, Fantasy</td></tr><tr><th>4</th><td>4</td><td>Steins;Gate</td><td>13</td><td>Drama, Sci-Fi, Suspense</td></tr><tr><th>5</th><td>5</td><td>Gintama\\xb0</td><td>335</td><td>Action, Comedy, Sci-Fi</td></tr></tbody></table>"
      ],
      "text/latex": [
       "\\begin{tabular}{r|ccccc}\n",
       "\t& Rank & Title & Popularity & Genre & \\\\\n",
       "\t\\hline\n",
       "\t& Int64 & String & Int64 & String & \\\\\n",
       "\t\\hline\n",
       "\t1 & 1 & Shingeki no Kyojin: The Final Season - Kanketsu-hen & 609 & Action, Drama, Suspense & $\\dots$ \\\\\n",
       "\t2 & 2 & Fullmetal Alchemist: Brotherhood & 3 & Action, Adventure, Drama, Fantasy & $\\dots$ \\\\\n",
       "\t3 & 3 & Bleach: Sennen Kessen-hen & 508 & Action, Adventure, Fantasy & $\\dots$ \\\\\n",
       "\t4 & 4 & Steins;Gate & 13 & Drama, Sci-Fi, Suspense & $\\dots$ \\\\\n",
       "\t5 & 5 & Gintama\\textbackslash{}xb0 & 335 & Action, Comedy, Sci-Fi & $\\dots$ \\\\\n",
       "\\end{tabular}\n"
      ],
      "text/plain": [
       "\u001b[1m5×12 DataFrame\u001b[0m\n",
       "\u001b[1m Row \u001b[0m│\u001b[1m Rank  \u001b[0m\u001b[1m Title                             \u001b[0m\u001b[1m Popularity \u001b[0m\u001b[1m Genre            \u001b[0m ⋯\n",
       "\u001b[1m     \u001b[0m│\u001b[90m Int64 \u001b[0m\u001b[90m String                            \u001b[0m\u001b[90m Int64      \u001b[0m\u001b[90m String           \u001b[0m ⋯\n",
       "─────┼──────────────────────────────────────────────────────────────────────────\n",
       "   1 │     1  Shingeki no Kyojin: The Final Se…         609  Action, Drama, Su ⋯\n",
       "   2 │     2  Fullmetal Alchemist: Brotherhood            3  Action, Adventure\n",
       "   3 │     3  Bleach: Sennen Kessen-hen                 508  Action, Adventure\n",
       "   4 │     4  Steins;Gate                                13  Drama, Sci-Fi, Su\n",
       "   5 │     5  Gintama\\xb0                               335  Action, Comedy, S ⋯\n",
       "\u001b[36m                                                               9 columns omitted\u001b[0m"
      ]
     },
     "execution_count": 19,
     "metadata": {},
     "output_type": "execute_result"
    }
   ],
   "source": [
    "dropmissing!(anime)\n",
    "first(anime, 5)"
   ]
  },
  {
   "cell_type": "markdown",
   "id": "f0f9743d",
   "metadata": {},
   "source": [
    "### Re-Sum the total number of missing values"
   ]
  },
  {
   "cell_type": "code",
   "execution_count": 17,
   "id": "15928d68",
   "metadata": {},
   "outputs": [
    {
     "name": "stdout",
     "output_type": "stream",
     "text": [
      "Total number of missing values: 0\n"
     ]
    }
   ],
   "source": [
    "# count the total number of missing values in the DataFrame\n",
    "n_missing = sum.(ismissing, eachcol(anime))\n",
    "\n",
    "# print the result\n",
    "println(\"Total number of missing values: \", sum(n_missing))"
   ]
  },
  {
   "cell_type": "markdown",
   "id": "8c0fecbf",
   "metadata": {},
   "source": [
    "### Detect Outliers"
   ]
  },
  {
   "cell_type": "code",
   "execution_count": 20,
   "id": "4ffa3b82",
   "metadata": {
    "scrolled": true
   },
   "outputs": [
    {
     "data": {
      "image/svg+xml": [
       "<?xml version=\"1.0\" encoding=\"utf-8\"?>\n",
       "<svg xmlns=\"http://www.w3.org/2000/svg\" xmlns:xlink=\"http://www.w3.org/1999/xlink\" width=\"600\" height=\"400\" viewBox=\"0 0 2400 1600\">\n",
       "<defs>\n",
       "  <clipPath id=\"clip810\">\n",
       "    <rect x=\"0\" y=\"0\" width=\"2400\" height=\"1600\"/>\n",
       "  </clipPath>\n",
       "</defs>\n",
       "<path clip-path=\"url(#clip810)\" d=\"M0 1600 L2400 1600 L2400 0 L0 0  Z\" fill=\"#ffffff\" fill-rule=\"evenodd\" fill-opacity=\"1\"/>\n",
       "<defs>\n",
       "  <clipPath id=\"clip811\">\n",
       "    <rect x=\"480\" y=\"0\" width=\"1681\" height=\"1600\"/>\n",
       "  </clipPath>\n",
       "</defs>\n",
       "<path clip-path=\"url(#clip810)\" d=\"M219.774 1486.45 L2352.76 1486.45 L2352.76 123.472 L219.774 123.472  Z\" fill=\"#ffffff\" fill-rule=\"evenodd\" fill-opacity=\"1\"/>\n",
       "<defs>\n",
       "  <clipPath id=\"clip812\">\n",
       "    <rect x=\"219\" y=\"123\" width=\"2134\" height=\"1364\"/>\n",
       "  </clipPath>\n",
       "</defs>\n",
       "<polyline clip-path=\"url(#clip812)\" style=\"stroke:#000000; stroke-linecap:round; stroke-linejoin:round; stroke-width:2; stroke-opacity:0.1; fill:none\" points=\"280.141,1486.45 280.141,123.472 \"/>\n",
       "<polyline clip-path=\"url(#clip812)\" style=\"stroke:#000000; stroke-linecap:round; stroke-linejoin:round; stroke-width:2; stroke-opacity:0.1; fill:none\" points=\"783.203,1486.45 783.203,123.472 \"/>\n",
       "<polyline clip-path=\"url(#clip812)\" style=\"stroke:#000000; stroke-linecap:round; stroke-linejoin:round; stroke-width:2; stroke-opacity:0.1; fill:none\" points=\"1286.26,1486.45 1286.26,123.472 \"/>\n",
       "<polyline clip-path=\"url(#clip812)\" style=\"stroke:#000000; stroke-linecap:round; stroke-linejoin:round; stroke-width:2; stroke-opacity:0.1; fill:none\" points=\"1789.33,1486.45 1789.33,123.472 \"/>\n",
       "<polyline clip-path=\"url(#clip812)\" style=\"stroke:#000000; stroke-linecap:round; stroke-linejoin:round; stroke-width:2; stroke-opacity:0.1; fill:none\" points=\"2292.39,1486.45 2292.39,123.472 \"/>\n",
       "<polyline clip-path=\"url(#clip810)\" style=\"stroke:#000000; stroke-linecap:round; stroke-linejoin:round; stroke-width:4; stroke-opacity:1; fill:none\" points=\"219.774,1486.45 2352.76,1486.45 \"/>\n",
       "<polyline clip-path=\"url(#clip810)\" style=\"stroke:#000000; stroke-linecap:round; stroke-linejoin:round; stroke-width:4; stroke-opacity:1; fill:none\" points=\"280.141,1486.45 280.141,1467.55 \"/>\n",
       "<polyline clip-path=\"url(#clip810)\" style=\"stroke:#000000; stroke-linecap:round; stroke-linejoin:round; stroke-width:4; stroke-opacity:1; fill:none\" points=\"783.203,1486.45 783.203,1467.55 \"/>\n",
       "<polyline clip-path=\"url(#clip810)\" style=\"stroke:#000000; stroke-linecap:round; stroke-linejoin:round; stroke-width:4; stroke-opacity:1; fill:none\" points=\"1286.26,1486.45 1286.26,1467.55 \"/>\n",
       "<polyline clip-path=\"url(#clip810)\" style=\"stroke:#000000; stroke-linecap:round; stroke-linejoin:round; stroke-width:4; stroke-opacity:1; fill:none\" points=\"1789.33,1486.45 1789.33,1467.55 \"/>\n",
       "<polyline clip-path=\"url(#clip810)\" style=\"stroke:#000000; stroke-linecap:round; stroke-linejoin:round; stroke-width:4; stroke-opacity:1; fill:none\" points=\"2292.39,1486.45 2292.39,1467.55 \"/>\n",
       "<path clip-path=\"url(#clip810)\" d=\"M257.444 1517.37 Q253.833 1517.37 252.005 1520.93 Q250.199 1524.47 250.199 1531.6 Q250.199 1538.71 252.005 1542.27 Q253.833 1545.82 257.444 1545.82 Q261.079 1545.82 262.884 1542.27 Q264.713 1538.71 264.713 1531.6 Q264.713 1524.47 262.884 1520.93 Q261.079 1517.37 257.444 1517.37 M257.444 1513.66 Q263.255 1513.66 266.31 1518.27 Q269.389 1522.85 269.389 1531.6 Q269.389 1540.33 266.31 1544.94 Q263.255 1549.52 257.444 1549.52 Q251.634 1549.52 248.556 1544.94 Q245.5 1540.33 245.5 1531.6 Q245.5 1522.85 248.556 1518.27 Q251.634 1513.66 257.444 1513.66 Z\" fill=\"#000000\" fill-rule=\"nonzero\" fill-opacity=\"1\" /><path clip-path=\"url(#clip810)\" d=\"M277.606 1542.97 L282.491 1542.97 L282.491 1548.85 L277.606 1548.85 L277.606 1542.97 Z\" fill=\"#000000\" fill-rule=\"nonzero\" fill-opacity=\"1\" /><path clip-path=\"url(#clip810)\" d=\"M303.254 1529.7 Q300.106 1529.7 298.254 1531.86 Q296.426 1534.01 296.426 1537.76 Q296.426 1541.49 298.254 1543.66 Q300.106 1545.82 303.254 1545.82 Q306.403 1545.82 308.231 1543.66 Q310.083 1541.49 310.083 1537.76 Q310.083 1534.01 308.231 1531.86 Q306.403 1529.7 303.254 1529.7 M312.537 1515.05 L312.537 1519.31 Q310.778 1518.48 308.972 1518.04 Q307.19 1517.6 305.43 1517.6 Q300.801 1517.6 298.347 1520.72 Q295.916 1523.85 295.569 1530.17 Q296.935 1528.15 298.995 1527.09 Q301.055 1526 303.532 1526 Q308.74 1526 311.75 1529.17 Q314.782 1532.32 314.782 1537.76 Q314.782 1543.08 311.634 1546.3 Q308.486 1549.52 303.254 1549.52 Q297.259 1549.52 294.088 1544.94 Q290.917 1540.33 290.917 1531.6 Q290.917 1523.41 294.805 1518.55 Q298.694 1513.66 305.245 1513.66 Q307.004 1513.66 308.787 1514.01 Q310.592 1514.36 312.537 1515.05 Z\" fill=\"#000000\" fill-rule=\"nonzero\" fill-opacity=\"1\" /><path clip-path=\"url(#clip810)\" d=\"M760.634 1517.37 Q757.023 1517.37 755.194 1520.93 Q753.388 1524.47 753.388 1531.6 Q753.388 1538.71 755.194 1542.27 Q757.023 1545.82 760.634 1545.82 Q764.268 1545.82 766.073 1542.27 Q767.902 1538.71 767.902 1531.6 Q767.902 1524.47 766.073 1520.93 Q764.268 1517.37 760.634 1517.37 M760.634 1513.66 Q766.444 1513.66 769.499 1518.27 Q772.578 1522.85 772.578 1531.6 Q772.578 1540.33 769.499 1544.94 Q766.444 1549.52 760.634 1549.52 Q754.823 1549.52 751.745 1544.94 Q748.689 1540.33 748.689 1531.6 Q748.689 1522.85 751.745 1518.27 Q754.823 1513.66 760.634 1513.66 Z\" fill=\"#000000\" fill-rule=\"nonzero\" fill-opacity=\"1\" /><path clip-path=\"url(#clip810)\" d=\"M780.796 1542.97 L785.68 1542.97 L785.68 1548.85 L780.796 1548.85 L780.796 1542.97 Z\" fill=\"#000000\" fill-rule=\"nonzero\" fill-opacity=\"1\" /><path clip-path=\"url(#clip810)\" d=\"M805.865 1532.44 Q802.532 1532.44 800.61 1534.22 Q798.712 1536 798.712 1539.13 Q798.712 1542.25 800.61 1544.03 Q802.532 1545.82 805.865 1545.82 Q809.198 1545.82 811.119 1544.03 Q813.041 1542.23 813.041 1539.13 Q813.041 1536 811.119 1534.22 Q809.221 1532.44 805.865 1532.44 M801.189 1530.45 Q798.18 1529.7 796.49 1527.64 Q794.823 1525.58 794.823 1522.62 Q794.823 1518.48 797.763 1516.07 Q800.726 1513.66 805.865 1513.66 Q811.027 1513.66 813.967 1516.07 Q816.906 1518.48 816.906 1522.62 Q816.906 1525.58 815.217 1527.64 Q813.55 1529.7 810.564 1530.45 Q813.944 1531.23 815.819 1533.52 Q817.717 1535.82 817.717 1539.13 Q817.717 1544.15 814.638 1546.83 Q811.582 1549.52 805.865 1549.52 Q800.147 1549.52 797.069 1546.83 Q794.013 1544.15 794.013 1539.13 Q794.013 1535.82 795.911 1533.52 Q797.809 1531.23 801.189 1530.45 M799.476 1523.06 Q799.476 1525.75 801.143 1527.25 Q802.832 1528.76 805.865 1528.76 Q808.874 1528.76 810.564 1527.25 Q812.277 1525.75 812.277 1523.06 Q812.277 1520.38 810.564 1518.87 Q808.874 1517.37 805.865 1517.37 Q802.832 1517.37 801.143 1518.87 Q799.476 1520.38 799.476 1523.06 Z\" fill=\"#000000\" fill-rule=\"nonzero\" fill-opacity=\"1\" /><path clip-path=\"url(#clip810)\" d=\"M1253.42 1544.91 L1261.06 1544.91 L1261.06 1518.55 L1252.75 1520.21 L1252.75 1515.95 L1261.01 1514.29 L1265.69 1514.29 L1265.69 1544.91 L1273.33 1544.91 L1273.33 1548.85 L1253.42 1548.85 L1253.42 1544.91 Z\" fill=\"#000000\" fill-rule=\"nonzero\" fill-opacity=\"1\" /><path clip-path=\"url(#clip810)\" d=\"M1282.77 1542.97 L1287.65 1542.97 L1287.65 1548.85 L1282.77 1548.85 L1282.77 1542.97 Z\" fill=\"#000000\" fill-rule=\"nonzero\" fill-opacity=\"1\" /><path clip-path=\"url(#clip810)\" d=\"M1307.84 1517.37 Q1304.23 1517.37 1302.4 1520.93 Q1300.59 1524.47 1300.59 1531.6 Q1300.59 1538.71 1302.4 1542.27 Q1304.23 1545.82 1307.84 1545.82 Q1311.47 1545.82 1313.28 1542.27 Q1315.11 1538.71 1315.11 1531.6 Q1315.11 1524.47 1313.28 1520.93 Q1311.47 1517.37 1307.84 1517.37 M1307.84 1513.66 Q1313.65 1513.66 1316.7 1518.27 Q1319.78 1522.85 1319.78 1531.6 Q1319.78 1540.33 1316.7 1544.94 Q1313.65 1549.52 1307.84 1549.52 Q1302.03 1549.52 1298.95 1544.94 Q1295.89 1540.33 1295.89 1531.6 Q1295.89 1522.85 1298.95 1518.27 Q1302.03 1513.66 1307.84 1513.66 Z\" fill=\"#000000\" fill-rule=\"nonzero\" fill-opacity=\"1\" /><path clip-path=\"url(#clip810)\" d=\"M1757.28 1544.91 L1764.92 1544.91 L1764.92 1518.55 L1756.61 1520.21 L1756.61 1515.95 L1764.87 1514.29 L1769.55 1514.29 L1769.55 1544.91 L1777.19 1544.91 L1777.19 1548.85 L1757.28 1548.85 L1757.28 1544.91 Z\" fill=\"#000000\" fill-rule=\"nonzero\" fill-opacity=\"1\" /><path clip-path=\"url(#clip810)\" d=\"M1786.63 1542.97 L1791.51 1542.97 L1791.51 1548.85 L1786.63 1548.85 L1786.63 1542.97 Z\" fill=\"#000000\" fill-rule=\"nonzero\" fill-opacity=\"1\" /><path clip-path=\"url(#clip810)\" d=\"M1805.73 1544.91 L1822.05 1544.91 L1822.05 1548.85 L1800.1 1548.85 L1800.1 1544.91 Q1802.76 1542.16 1807.35 1537.53 Q1811.95 1532.88 1813.13 1531.53 Q1815.38 1529.01 1816.26 1527.27 Q1817.16 1525.51 1817.16 1523.82 Q1817.16 1521.07 1815.22 1519.33 Q1813.3 1517.6 1810.19 1517.6 Q1808 1517.6 1805.54 1518.36 Q1803.11 1519.13 1800.33 1520.68 L1800.33 1515.95 Q1803.16 1514.82 1805.61 1514.24 Q1808.06 1513.66 1810.1 1513.66 Q1815.47 1513.66 1818.67 1516.35 Q1821.86 1519.03 1821.86 1523.52 Q1821.86 1525.65 1821.05 1527.57 Q1820.26 1529.47 1818.16 1532.07 Q1817.58 1532.74 1814.48 1535.95 Q1811.38 1539.15 1805.73 1544.91 Z\" fill=\"#000000\" fill-rule=\"nonzero\" fill-opacity=\"1\" /><path clip-path=\"url(#clip810)\" d=\"M2259.3 1544.91 L2266.94 1544.91 L2266.94 1518.55 L2258.63 1520.21 L2258.63 1515.95 L2266.89 1514.29 L2271.57 1514.29 L2271.57 1544.91 L2279.21 1544.91 L2279.21 1548.85 L2259.3 1548.85 L2259.3 1544.91 Z\" fill=\"#000000\" fill-rule=\"nonzero\" fill-opacity=\"1\" /><path clip-path=\"url(#clip810)\" d=\"M2288.65 1542.97 L2293.53 1542.97 L2293.53 1548.85 L2288.65 1548.85 L2288.65 1542.97 Z\" fill=\"#000000\" fill-rule=\"nonzero\" fill-opacity=\"1\" /><path clip-path=\"url(#clip810)\" d=\"M2316.57 1518.36 L2304.76 1536.81 L2316.57 1536.81 L2316.57 1518.36 M2315.34 1514.29 L2321.22 1514.29 L2321.22 1536.81 L2326.15 1536.81 L2326.15 1540.7 L2321.22 1540.7 L2321.22 1548.85 L2316.57 1548.85 L2316.57 1540.7 L2300.96 1540.7 L2300.96 1536.19 L2315.34 1514.29 Z\" fill=\"#000000\" fill-rule=\"nonzero\" fill-opacity=\"1\" /><polyline clip-path=\"url(#clip812)\" style=\"stroke:#000000; stroke-linecap:round; stroke-linejoin:round; stroke-width:2; stroke-opacity:0.1; fill:none\" points=\"219.774,1287.14 2352.76,1287.14 \"/>\n",
       "<polyline clip-path=\"url(#clip812)\" style=\"stroke:#000000; stroke-linecap:round; stroke-linejoin:round; stroke-width:2; stroke-opacity:0.1; fill:none\" points=\"219.774,994.912 2352.76,994.912 \"/>\n",
       "<polyline clip-path=\"url(#clip812)\" style=\"stroke:#000000; stroke-linecap:round; stroke-linejoin:round; stroke-width:2; stroke-opacity:0.1; fill:none\" points=\"219.774,702.678 2352.76,702.678 \"/>\n",
       "<polyline clip-path=\"url(#clip812)\" style=\"stroke:#000000; stroke-linecap:round; stroke-linejoin:round; stroke-width:2; stroke-opacity:0.1; fill:none\" points=\"219.774,410.445 2352.76,410.445 \"/>\n",
       "<polyline clip-path=\"url(#clip810)\" style=\"stroke:#000000; stroke-linecap:round; stroke-linejoin:round; stroke-width:4; stroke-opacity:1; fill:none\" points=\"219.774,1486.45 219.774,123.472 \"/>\n",
       "<polyline clip-path=\"url(#clip810)\" style=\"stroke:#000000; stroke-linecap:round; stroke-linejoin:round; stroke-width:4; stroke-opacity:1; fill:none\" points=\"219.774,1287.14 238.671,1287.14 \"/>\n",
       "<polyline clip-path=\"url(#clip810)\" style=\"stroke:#000000; stroke-linecap:round; stroke-linejoin:round; stroke-width:4; stroke-opacity:1; fill:none\" points=\"219.774,994.912 238.671,994.912 \"/>\n",
       "<polyline clip-path=\"url(#clip810)\" style=\"stroke:#000000; stroke-linecap:round; stroke-linejoin:round; stroke-width:4; stroke-opacity:1; fill:none\" points=\"219.774,702.678 238.671,702.678 \"/>\n",
       "<polyline clip-path=\"url(#clip810)\" style=\"stroke:#000000; stroke-linecap:round; stroke-linejoin:round; stroke-width:4; stroke-opacity:1; fill:none\" points=\"219.774,410.445 238.671,410.445 \"/>\n",
       "<path clip-path=\"url(#clip810)\" d=\"M126.112 1288.01 Q122.779 1288.01 120.857 1289.8 Q118.959 1291.58 118.959 1294.7 Q118.959 1297.83 120.857 1299.61 Q122.779 1301.39 126.112 1301.39 Q129.445 1301.39 131.367 1299.61 Q133.288 1297.8 133.288 1294.7 Q133.288 1291.58 131.367 1289.8 Q129.468 1288.01 126.112 1288.01 M121.436 1286.02 Q118.427 1285.28 116.737 1283.22 Q115.07 1281.16 115.07 1278.2 Q115.07 1274.05 118.01 1271.65 Q120.973 1269.24 126.112 1269.24 Q131.274 1269.24 134.214 1271.65 Q137.154 1274.05 137.154 1278.2 Q137.154 1281.16 135.464 1283.22 Q133.797 1285.28 130.811 1286.02 Q134.191 1286.81 136.066 1289.1 Q137.964 1291.39 137.964 1294.7 Q137.964 1299.73 134.885 1302.41 Q131.83 1305.1 126.112 1305.1 Q120.394 1305.1 117.316 1302.41 Q114.26 1299.73 114.26 1294.7 Q114.26 1291.39 116.158 1289.1 Q118.056 1286.81 121.436 1286.02 M119.723 1278.64 Q119.723 1281.32 121.39 1282.83 Q123.08 1284.33 126.112 1284.33 Q129.121 1284.33 130.811 1282.83 Q132.524 1281.32 132.524 1278.64 Q132.524 1275.95 130.811 1274.45 Q129.121 1272.94 126.112 1272.94 Q123.08 1272.94 121.39 1274.45 Q119.723 1275.95 119.723 1278.64 Z\" fill=\"#000000\" fill-rule=\"nonzero\" fill-opacity=\"1\" /><path clip-path=\"url(#clip810)\" d=\"M146.274 1298.55 L151.158 1298.55 L151.158 1304.42 L146.274 1304.42 L146.274 1298.55 Z\" fill=\"#000000\" fill-rule=\"nonzero\" fill-opacity=\"1\" /><path clip-path=\"url(#clip810)\" d=\"M174.19 1273.94 L162.385 1292.39 L174.19 1292.39 L174.19 1273.94 M172.964 1269.86 L178.843 1269.86 L178.843 1292.39 L183.774 1292.39 L183.774 1296.28 L178.843 1296.28 L178.843 1304.42 L174.19 1304.42 L174.19 1296.28 L158.589 1296.28 L158.589 1291.76 L172.964 1269.86 Z\" fill=\"#000000\" fill-rule=\"nonzero\" fill-opacity=\"1\" /><path clip-path=\"url(#clip810)\" d=\"M126.436 995.78 Q123.103 995.78 121.181 997.562 Q119.283 999.344 119.283 1002.47 Q119.283 1005.59 121.181 1007.38 Q123.103 1009.16 126.436 1009.16 Q129.769 1009.16 131.691 1007.38 Q133.612 1005.57 133.612 1002.47 Q133.612 999.344 131.691 997.562 Q129.792 995.78 126.436 995.78 M121.76 993.789 Q118.751 993.048 117.061 990.988 Q115.394 988.928 115.394 985.965 Q115.394 981.821 118.334 979.414 Q121.297 977.007 126.436 977.007 Q131.598 977.007 134.538 979.414 Q137.478 981.821 137.478 985.965 Q137.478 988.928 135.788 990.988 Q134.121 993.048 131.135 993.789 Q134.515 994.576 136.39 996.868 Q138.288 999.159 138.288 1002.47 Q138.288 1007.49 135.209 1010.18 Q132.154 1012.86 126.436 1012.86 Q120.718 1012.86 117.64 1010.18 Q114.584 1007.49 114.584 1002.47 Q114.584 999.159 116.482 996.868 Q118.381 994.576 121.76 993.789 M120.047 986.405 Q120.047 989.09 121.714 990.594 Q123.404 992.099 126.436 992.099 Q129.445 992.099 131.135 990.594 Q132.848 989.09 132.848 986.405 Q132.848 983.72 131.135 982.215 Q129.445 980.71 126.436 980.71 Q123.404 980.71 121.714 982.215 Q120.047 983.72 120.047 986.405 Z\" fill=\"#000000\" fill-rule=\"nonzero\" fill-opacity=\"1\" /><path clip-path=\"url(#clip810)\" d=\"M146.598 1006.31 L151.482 1006.31 L151.482 1012.19 L146.598 1012.19 L146.598 1006.31 Z\" fill=\"#000000\" fill-rule=\"nonzero\" fill-opacity=\"1\" /><path clip-path=\"url(#clip810)\" d=\"M172.246 993.048 Q169.098 993.048 167.246 995.201 Q165.417 997.354 165.417 1001.1 Q165.417 1004.83 167.246 1007.01 Q169.098 1009.16 172.246 1009.16 Q175.394 1009.16 177.223 1007.01 Q179.075 1004.83 179.075 1001.1 Q179.075 997.354 177.223 995.201 Q175.394 993.048 172.246 993.048 M181.528 978.395 L181.528 982.655 Q179.769 981.821 177.964 981.382 Q176.181 980.942 174.422 980.942 Q169.792 980.942 167.339 984.067 Q164.908 987.192 164.561 993.511 Q165.927 991.497 167.987 990.432 Q170.047 989.344 172.524 989.344 Q177.732 989.344 180.741 992.516 Q183.774 995.664 183.774 1001.1 Q183.774 1006.43 180.626 1009.65 Q177.477 1012.86 172.246 1012.86 Q166.251 1012.86 163.079 1008.28 Q159.908 1003.67 159.908 994.946 Q159.908 986.752 163.797 981.891 Q167.686 977.007 174.237 977.007 Q175.996 977.007 177.778 977.354 Q179.584 977.701 181.528 978.395 Z\" fill=\"#000000\" fill-rule=\"nonzero\" fill-opacity=\"1\" /><path clip-path=\"url(#clip810)\" d=\"M126.691 703.546 Q123.357 703.546 121.436 705.329 Q119.538 707.111 119.538 710.236 Q119.538 713.361 121.436 715.144 Q123.357 716.926 126.691 716.926 Q130.024 716.926 131.945 715.144 Q133.867 713.338 133.867 710.236 Q133.867 707.111 131.945 705.329 Q130.047 703.546 126.691 703.546 M122.015 701.556 Q119.006 700.815 117.316 698.755 Q115.649 696.695 115.649 693.732 Q115.649 689.588 118.589 687.181 Q121.552 684.773 126.691 684.773 Q131.853 684.773 134.792 687.181 Q137.732 689.588 137.732 693.732 Q137.732 696.695 136.042 698.755 Q134.376 700.815 131.39 701.556 Q134.769 702.343 136.644 704.634 Q138.542 706.926 138.542 710.236 Q138.542 715.259 135.464 717.944 Q132.408 720.63 126.691 720.63 Q120.973 720.63 117.894 717.944 Q114.839 715.259 114.839 710.236 Q114.839 706.926 116.737 704.634 Q118.635 702.343 122.015 701.556 M120.302 694.171 Q120.302 696.857 121.968 698.361 Q123.658 699.866 126.691 699.866 Q129.7 699.866 131.39 698.361 Q133.103 696.857 133.103 694.171 Q133.103 691.486 131.39 689.982 Q129.7 688.477 126.691 688.477 Q123.658 688.477 121.968 689.982 Q120.302 691.486 120.302 694.171 Z\" fill=\"#000000\" fill-rule=\"nonzero\" fill-opacity=\"1\" /><path clip-path=\"url(#clip810)\" d=\"M146.853 714.079 L151.737 714.079 L151.737 719.958 L146.853 719.958 L146.853 714.079 Z\" fill=\"#000000\" fill-rule=\"nonzero\" fill-opacity=\"1\" /><path clip-path=\"url(#clip810)\" d=\"M171.922 703.546 Q168.589 703.546 166.667 705.329 Q164.769 707.111 164.769 710.236 Q164.769 713.361 166.667 715.144 Q168.589 716.926 171.922 716.926 Q175.255 716.926 177.176 715.144 Q179.098 713.338 179.098 710.236 Q179.098 707.111 177.176 705.329 Q175.278 703.546 171.922 703.546 M167.246 701.556 Q164.237 700.815 162.547 698.755 Q160.88 696.695 160.88 693.732 Q160.88 689.588 163.82 687.181 Q166.783 684.773 171.922 684.773 Q177.084 684.773 180.024 687.181 Q182.963 689.588 182.963 693.732 Q182.963 696.695 181.274 698.755 Q179.607 700.815 176.621 701.556 Q180.001 702.343 181.876 704.634 Q183.774 706.926 183.774 710.236 Q183.774 715.259 180.695 717.944 Q177.639 720.63 171.922 720.63 Q166.204 720.63 163.126 717.944 Q160.07 715.259 160.07 710.236 Q160.07 706.926 161.968 704.634 Q163.866 702.343 167.246 701.556 M165.533 694.171 Q165.533 696.857 167.2 698.361 Q168.889 699.866 171.922 699.866 Q174.931 699.866 176.621 698.361 Q178.334 696.857 178.334 694.171 Q178.334 691.486 176.621 689.982 Q174.931 688.477 171.922 688.477 Q168.889 688.477 167.2 689.982 Q165.533 691.486 165.533 694.171 Z\" fill=\"#000000\" fill-rule=\"nonzero\" fill-opacity=\"1\" /><path clip-path=\"url(#clip810)\" d=\"M116.737 427.008 L116.737 422.748 Q118.496 423.582 120.302 424.021 Q122.107 424.461 123.843 424.461 Q128.473 424.461 130.904 421.359 Q133.357 418.234 133.704 411.892 Q132.362 413.883 130.302 414.947 Q128.242 416.012 125.742 416.012 Q120.556 416.012 117.524 412.887 Q114.515 409.739 114.515 404.299 Q114.515 398.975 117.663 395.758 Q120.811 392.54 126.043 392.54 Q132.038 392.54 135.186 397.147 Q138.357 401.73 138.357 410.48 Q138.357 418.651 134.468 423.535 Q130.603 428.396 124.052 428.396 Q122.293 428.396 120.487 428.049 Q118.681 427.702 116.737 427.008 M126.043 412.355 Q129.191 412.355 131.019 410.202 Q132.871 408.049 132.871 404.299 Q132.871 400.573 131.019 398.42 Q129.191 396.244 126.043 396.244 Q122.894 396.244 121.043 398.42 Q119.214 400.573 119.214 404.299 Q119.214 408.049 121.043 410.202 Q122.894 412.355 126.043 412.355 Z\" fill=\"#000000\" fill-rule=\"nonzero\" fill-opacity=\"1\" /><path clip-path=\"url(#clip810)\" d=\"M146.76 421.846 L151.644 421.846 L151.644 427.725 L146.76 427.725 L146.76 421.846 Z\" fill=\"#000000\" fill-rule=\"nonzero\" fill-opacity=\"1\" /><path clip-path=\"url(#clip810)\" d=\"M171.829 396.244 Q168.218 396.244 166.39 399.809 Q164.584 403.35 164.584 410.48 Q164.584 417.586 166.39 421.151 Q168.218 424.693 171.829 424.693 Q175.464 424.693 177.269 421.151 Q179.098 417.586 179.098 410.48 Q179.098 403.35 177.269 399.809 Q175.464 396.244 171.829 396.244 M171.829 392.54 Q177.639 392.54 180.695 397.147 Q183.774 401.73 183.774 410.48 Q183.774 419.207 180.695 423.813 Q177.639 428.396 171.829 428.396 Q166.019 428.396 162.94 423.813 Q159.885 419.207 159.885 410.48 Q159.885 401.73 162.94 397.147 Q166.019 392.54 171.829 392.54 Z\" fill=\"#000000\" fill-rule=\"nonzero\" fill-opacity=\"1\" /><path clip-path=\"url(#clip810)\" d=\"M18.0438 861.774 L24.314 861.774 Q22.5634 865.434 21.704 868.681 Q20.8447 871.927 20.8447 874.951 Q20.8447 880.203 22.8817 883.067 Q24.9187 885.9 28.6745 885.9 Q31.8255 885.9 33.4488 884.022 Q35.0402 882.112 36.0269 876.829 L36.8226 872.946 Q38.1912 865.752 41.6605 862.347 Q45.098 858.909 50.8908 858.909 Q57.7976 858.909 61.3624 863.556 Q64.9272 868.171 64.9272 877.115 Q64.9272 880.489 64.1633 884.309 Q63.3994 888.096 61.9035 892.17 L55.2831 892.17 Q57.4793 888.255 58.5933 884.5 Q59.7073 880.744 59.7073 877.115 Q59.7073 871.609 57.543 868.617 Q55.3786 865.625 51.3682 865.625 Q47.8671 865.625 45.8937 867.79 Q43.9204 869.922 42.9337 874.824 L42.1698 878.739 Q40.7375 885.932 37.682 889.146 Q34.6264 892.361 29.1837 892.361 Q22.8817 892.361 19.2532 887.937 Q15.6248 883.481 15.6248 875.683 Q15.6248 872.341 16.2295 868.872 Q16.8343 865.402 18.0438 861.774 Z\" fill=\"#000000\" fill-rule=\"nonzero\" fill-opacity=\"1\" /><path clip-path=\"url(#clip810)\" d=\"M29.7248 823.484 L35.1993 823.484 Q33.8307 825.967 33.1623 828.481 Q32.4621 830.964 32.4621 833.51 Q32.4621 839.208 36.0905 842.359 Q39.6872 845.51 46.212 845.51 Q52.7369 845.51 56.3653 842.359 Q59.9619 839.208 59.9619 833.51 Q59.9619 830.964 59.2935 828.481 Q58.5933 825.967 57.2247 823.484 L62.6355 823.484 Q63.7814 825.935 64.3543 828.577 Q64.9272 831.187 64.9272 834.147 Q64.9272 842.199 59.8664 846.942 Q54.8057 851.684 46.212 851.684 Q37.491 851.684 32.4939 846.91 Q27.4968 842.104 27.4968 833.765 Q27.4968 831.059 28.0697 828.481 Q28.6108 825.903 29.7248 823.484 Z\" fill=\"#000000\" fill-rule=\"nonzero\" fill-opacity=\"1\" /><path clip-path=\"url(#clip810)\" d=\"M32.4621 799.485 Q32.4621 804.196 36.1542 806.933 Q39.8145 809.671 46.212 809.671 Q52.6095 809.671 56.3017 806.965 Q59.9619 804.228 59.9619 799.485 Q59.9619 794.807 56.2698 792.069 Q52.5777 789.332 46.212 789.332 Q39.8781 789.332 36.186 792.069 Q32.4621 794.807 32.4621 799.485 M27.4968 799.485 Q27.4968 791.847 32.4621 787.486 Q37.4273 783.126 46.212 783.126 Q54.9649 783.126 59.9619 787.486 Q64.9272 791.847 64.9272 799.485 Q64.9272 807.156 59.9619 811.517 Q54.9649 815.845 46.212 815.845 Q37.4273 815.845 32.4621 811.517 Q27.4968 807.156 27.4968 799.485 Z\" fill=\"#000000\" fill-rule=\"nonzero\" fill-opacity=\"1\" /><path clip-path=\"url(#clip810)\" d=\"M33.8307 752.761 Q33.2578 753.748 33.0032 754.926 Q32.7167 756.071 32.7167 757.472 Q32.7167 762.437 35.9632 765.111 Q39.1779 767.752 45.2253 767.752 L64.0042 767.752 L64.0042 773.641 L28.3562 773.641 L28.3562 767.752 L33.8944 767.752 Q30.6479 765.906 29.0883 762.946 Q27.4968 759.986 27.4968 755.753 Q27.4968 755.148 27.5923 754.416 Q27.656 753.684 27.8151 752.793 L33.8307 752.761 Z\" fill=\"#000000\" fill-rule=\"nonzero\" fill-opacity=\"1\" /><path clip-path=\"url(#clip810)\" d=\"M44.7161 717.559 L47.5806 717.559 L47.5806 744.486 Q53.6281 744.104 56.8109 740.857 Q59.9619 737.579 59.9619 731.754 Q59.9619 728.381 59.1344 725.23 Q58.3069 722.047 56.6518 718.927 L62.1899 718.927 Q63.5267 722.078 64.227 725.389 Q64.9272 728.699 64.9272 732.104 Q64.9272 740.635 59.9619 745.632 Q54.9967 750.597 46.5303 750.597 Q37.7774 750.597 32.6531 745.886 Q27.4968 741.144 27.4968 733.123 Q27.4968 725.93 32.1438 721.76 Q36.7589 717.559 44.7161 717.559 M42.9973 723.415 Q38.1912 723.479 35.3266 726.121 Q32.4621 728.731 32.4621 733.059 Q32.4621 737.961 35.2312 740.921 Q38.0002 743.849 43.0292 744.295 L42.9973 723.415 Z\" fill=\"#000000\" fill-rule=\"nonzero\" fill-opacity=\"1\" /><path clip-path=\"url(#clip810)\" d=\"M974.73 43.6931 L974.73 65.8515 L987.855 65.8515 Q994.458 65.8515 997.618 63.1374 Q1000.82 60.3828 1000.82 54.752 Q1000.82 49.0808 997.618 46.4072 Q994.458 43.6931 987.855 43.6931 L974.73 43.6931 M974.73 18.8205 L974.73 37.0496 L986.842 37.0496 Q992.838 37.0496 995.754 34.8216 Q998.711 32.5531 998.711 27.935 Q998.711 23.3575 995.754 21.089 Q992.838 18.8205 986.842 18.8205 L974.73 18.8205 M966.547 12.096 L987.45 12.096 Q996.807 12.096 1001.87 15.9849 Q1006.93 19.8737 1006.93 27.0438 Q1006.93 32.5936 1004.34 35.8748 Q1001.75 39.156 996.726 39.9662 Q1002.76 41.2625 1006.08 45.3944 Q1009.45 49.4858 1009.45 55.6432 Q1009.45 63.745 1003.94 68.1605 Q998.428 72.576 988.26 72.576 L966.547 72.576 L966.547 12.096 Z\" fill=\"#000000\" fill-rule=\"nonzero\" fill-opacity=\"1\" /><path clip-path=\"url(#clip810)\" d=\"M1040.72 32.4315 Q1034.72 32.4315 1031.24 37.1306 Q1027.76 41.7891 1027.76 49.9314 Q1027.76 58.0738 1031.2 62.7728 Q1034.68 67.4314 1040.72 67.4314 Q1046.67 67.4314 1050.16 62.7323 Q1053.64 58.0333 1053.64 49.9314 Q1053.64 41.8701 1050.16 37.1711 Q1046.67 32.4315 1040.72 32.4315 M1040.72 26.1121 Q1050.44 26.1121 1055.99 32.4315 Q1061.54 38.7509 1061.54 49.9314 Q1061.54 61.0714 1055.99 67.4314 Q1050.44 73.7508 1040.72 73.7508 Q1030.96 73.7508 1025.41 67.4314 Q1019.9 61.0714 1019.9 49.9314 Q1019.9 38.7509 1025.41 32.4315 Q1030.96 26.1121 1040.72 26.1121 Z\" fill=\"#000000\" fill-rule=\"nonzero\" fill-opacity=\"1\" /><path clip-path=\"url(#clip810)\" d=\"M1109.06 27.2059 L1092.65 49.2833 L1109.91 72.576 L1101.12 72.576 L1087.91 54.752 L1074.71 72.576 L1065.92 72.576 L1083.54 48.8377 L1067.41 27.2059 L1076.21 27.2059 L1088.24 43.369 L1100.27 27.2059 L1109.06 27.2059 Z\" fill=\"#000000\" fill-rule=\"nonzero\" fill-opacity=\"1\" /><path clip-path=\"url(#clip810)\" d=\"M1155.32 18.8205 L1155.32 41.5461 L1165.61 41.5461 Q1171.32 41.5461 1174.44 38.5889 Q1177.56 35.6318 1177.56 30.163 Q1177.56 24.7348 1174.44 21.7777 Q1171.32 18.8205 1165.61 18.8205 L1155.32 18.8205 M1147.14 12.096 L1165.61 12.096 Q1175.78 12.096 1180.96 16.714 Q1186.19 21.2916 1186.19 30.163 Q1186.19 39.1155 1180.96 43.6931 Q1175.78 48.2706 1165.61 48.2706 L1155.32 48.2706 L1155.32 72.576 L1147.14 72.576 L1147.14 12.096 Z\" fill=\"#000000\" fill-rule=\"nonzero\" fill-opacity=\"1\" /><path clip-path=\"url(#clip810)\" d=\"M1196.84 9.54393 L1204.29 9.54393 L1204.29 72.576 L1196.84 72.576 L1196.84 9.54393 Z\" fill=\"#000000\" fill-rule=\"nonzero\" fill-opacity=\"1\" /><path clip-path=\"url(#clip810)\" d=\"M1237.47 32.4315 Q1231.48 32.4315 1227.99 37.1306 Q1224.51 41.7891 1224.51 49.9314 Q1224.51 58.0738 1227.95 62.7728 Q1231.44 67.4314 1237.47 67.4314 Q1243.43 67.4314 1246.91 62.7323 Q1250.39 58.0333 1250.39 49.9314 Q1250.39 41.8701 1246.91 37.1711 Q1243.43 32.4315 1237.47 32.4315 M1237.47 26.1121 Q1247.19 26.1121 1252.74 32.4315 Q1258.29 38.7509 1258.29 49.9314 Q1258.29 61.0714 1252.74 67.4314 Q1247.19 73.7508 1237.47 73.7508 Q1227.71 73.7508 1222.16 67.4314 Q1216.65 61.0714 1216.65 49.9314 Q1216.65 38.7509 1222.16 32.4315 Q1227.71 26.1121 1237.47 26.1121 Z\" fill=\"#000000\" fill-rule=\"nonzero\" fill-opacity=\"1\" /><path clip-path=\"url(#clip810)\" d=\"M1278.02 14.324 L1278.02 27.2059 L1293.37 27.2059 L1293.37 32.9987 L1278.02 32.9987 L1278.02 57.6282 Q1278.02 63.1779 1279.52 64.7578 Q1281.06 66.3376 1285.72 66.3376 L1293.37 66.3376 L1293.37 72.576 L1285.72 72.576 Q1277.09 72.576 1273.81 69.3758 Q1270.53 66.1351 1270.53 57.6282 L1270.53 32.9987 L1265.06 32.9987 L1265.06 27.2059 L1270.53 27.2059 L1270.53 14.324 L1278.02 14.324 Z\" fill=\"#000000\" fill-rule=\"nonzero\" fill-opacity=\"1\" /><path clip-path=\"url(#clip810)\" d=\"M1325.78 46.5287 L1347.62 46.5287 L1347.62 53.1722 L1325.78 53.1722 L1325.78 46.5287 Z\" fill=\"#000000\" fill-rule=\"nonzero\" fill-opacity=\"1\" /><path clip-path=\"url(#clip810)\" d=\"M1422.44 14.0809 L1422.44 22.0612 Q1417.78 19.8332 1413.65 18.7395 Q1409.51 17.6457 1405.67 17.6457 Q1398.98 17.6457 1395.34 20.2383 Q1391.73 22.8309 1391.73 27.611 Q1391.73 31.6214 1394.12 33.6873 Q1396.55 35.7128 1403.28 36.9686 L1408.22 37.9813 Q1417.37 39.7232 1421.71 44.1387 Q1426.08 48.5136 1426.08 55.8863 Q1426.08 64.6767 1420.17 69.2137 Q1414.29 73.7508 1402.91 73.7508 Q1398.62 73.7508 1393.76 72.7785 Q1388.93 71.8063 1383.75 69.9024 L1383.75 61.4765 Q1388.73 64.2716 1393.51 65.6895 Q1398.29 67.1073 1402.91 67.1073 Q1409.92 67.1073 1413.73 64.3527 Q1417.53 61.598 1417.53 56.4939 Q1417.53 52.0379 1414.78 49.5264 Q1412.07 47.0148 1405.83 45.759 L1400.84 44.7868 Q1391.69 42.9639 1387.6 39.075 Q1383.51 35.1862 1383.51 28.2591 Q1383.51 20.2383 1389.14 15.6203 Q1394.81 11.0023 1404.73 11.0023 Q1408.99 11.0023 1413.4 11.7719 Q1417.82 12.5416 1422.44 14.0809 Z\" fill=\"#000000\" fill-rule=\"nonzero\" fill-opacity=\"1\" /><path clip-path=\"url(#clip810)\" d=\"M1471.17 28.9478 L1471.17 35.9153 Q1468.01 34.1734 1464.81 33.3227 Q1461.65 32.4315 1458.41 32.4315 Q1451.16 32.4315 1447.15 37.0496 Q1443.14 41.6271 1443.14 49.9314 Q1443.14 58.2358 1447.15 62.8538 Q1451.16 67.4314 1458.41 67.4314 Q1461.65 67.4314 1464.81 66.5807 Q1468.01 65.6895 1471.17 63.9476 L1471.17 70.8341 Q1468.05 72.2924 1464.69 73.0216 Q1461.37 73.7508 1457.6 73.7508 Q1447.35 73.7508 1441.31 67.3098 Q1435.28 60.8689 1435.28 49.9314 Q1435.28 38.832 1441.35 32.472 Q1447.47 26.1121 1458.08 26.1121 Q1461.53 26.1121 1464.81 26.8413 Q1468.09 27.5299 1471.17 28.9478 Z\" fill=\"#000000\" fill-rule=\"nonzero\" fill-opacity=\"1\" /><path clip-path=\"url(#clip810)\" d=\"M1501.71 32.4315 Q1495.72 32.4315 1492.23 37.1306 Q1488.75 41.7891 1488.75 49.9314 Q1488.75 58.0738 1492.19 62.7728 Q1495.68 67.4314 1501.71 67.4314 Q1507.67 67.4314 1511.15 62.7323 Q1514.63 58.0333 1514.63 49.9314 Q1514.63 41.8701 1511.15 37.1711 Q1507.67 32.4315 1501.71 32.4315 M1501.71 26.1121 Q1511.43 26.1121 1516.98 32.4315 Q1522.53 38.7509 1522.53 49.9314 Q1522.53 61.0714 1516.98 67.4314 Q1511.43 73.7508 1501.71 73.7508 Q1491.95 73.7508 1486.4 67.4314 Q1480.89 61.0714 1480.89 49.9314 Q1480.89 38.7509 1486.4 32.4315 Q1491.95 26.1121 1501.71 26.1121 Z\" fill=\"#000000\" fill-rule=\"nonzero\" fill-opacity=\"1\" /><path clip-path=\"url(#clip810)\" d=\"M1561.18 34.1734 Q1559.92 33.4443 1558.42 33.1202 Q1556.97 32.7556 1555.18 32.7556 Q1548.86 32.7556 1545.46 36.8875 Q1542.1 40.9789 1542.1 48.6757 L1542.1 72.576 L1534.61 72.576 L1534.61 27.2059 L1542.1 27.2059 L1542.1 34.2544 Q1544.45 30.1225 1548.22 28.1376 Q1551.98 26.1121 1557.37 26.1121 Q1558.14 26.1121 1559.07 26.2337 Q1560 26.3147 1561.14 26.5172 L1561.18 34.1734 Z\" fill=\"#000000\" fill-rule=\"nonzero\" fill-opacity=\"1\" /><path clip-path=\"url(#clip810)\" d=\"M1605.98 48.0275 L1605.98 51.6733 L1571.71 51.6733 Q1572.2 59.3701 1576.33 63.421 Q1580.5 67.4314 1587.92 67.4314 Q1592.21 67.4314 1596.22 66.3781 Q1600.27 65.3249 1604.24 63.2184 L1604.24 70.267 Q1600.23 71.9684 1596.02 72.8596 Q1591.8 73.7508 1587.47 73.7508 Q1576.61 73.7508 1570.25 67.4314 Q1563.93 61.1119 1563.93 50.3365 Q1563.93 39.1965 1569.93 32.6746 Q1575.97 26.1121 1586.17 26.1121 Q1595.33 26.1121 1600.64 32.0264 Q1605.98 37.9003 1605.98 48.0275 M1598.53 45.84 Q1598.45 39.7232 1595.09 36.0774 Q1591.76 32.4315 1586.25 32.4315 Q1580.02 32.4315 1576.25 35.9558 Q1572.52 39.4801 1571.95 45.8805 L1598.53 45.84 Z\" fill=\"#000000\" fill-rule=\"nonzero\" fill-opacity=\"1\" /><path clip-path=\"url(#clip812)\" d=\"M1286.26 1447.87 L783.203 1447.87 L1789.33 1447.87 L1286.26 1447.87 L1286.26 1305.41 L1286.26 1447.87  Z\" fill=\"#009af9\" fill-rule=\"evenodd\" fill-opacity=\"1\"/>\n",
       "<polyline clip-path=\"url(#clip812)\" style=\"stroke:#000000; stroke-linecap:round; stroke-linejoin:round; stroke-width:4; stroke-opacity:1; fill:none\" points=\"1286.26,1447.87 783.203,1447.87 1789.33,1447.87 1286.26,1447.87 1286.26,1305.41 1286.26,1447.87 \"/>\n",
       "<path clip-path=\"url(#clip812)\" d=\"M2292.39 1305.41 L2292.39 1126.42 L280.141 1126.42 L280.141 1305.41 L2292.39 1305.41 L2292.39 1126.42 L2292.39 1305.41  Z\" fill=\"#009af9\" fill-rule=\"evenodd\" fill-opacity=\"1\"/>\n",
       "<polyline clip-path=\"url(#clip812)\" style=\"stroke:#000000; stroke-linecap:round; stroke-linejoin:round; stroke-width:4; stroke-opacity:1; fill:none\" points=\"2292.39,1305.41 2292.39,1126.42 280.141,1126.42 280.141,1305.41 2292.39,1305.41 2292.39,1126.42 2292.39,1305.41 \"/>\n",
       "<path clip-path=\"url(#clip812)\" d=\"M2292.39 907.242 L280.141 907.242 L280.141 1126.42 L2292.39 1126.42 L2292.39 907.242 L1286.26 907.242 L2292.39 907.242  Z\" fill=\"#009af9\" fill-rule=\"evenodd\" fill-opacity=\"1\"/>\n",
       "<polyline clip-path=\"url(#clip812)\" style=\"stroke:#000000; stroke-linecap:round; stroke-linejoin:round; stroke-width:4; stroke-opacity:1; fill:none\" points=\"2292.39,907.242 280.141,907.242 280.141,1126.42 2292.39,1126.42 2292.39,907.242 1286.26,907.242 2292.39,907.242 \"/>\n",
       "<path clip-path=\"url(#clip812)\" d=\"M1286.26 322.775 L783.203 322.775 L1789.33 322.775 L1286.26 322.775 L1286.26 907.242 L1286.26 322.775  Z\" fill=\"#009af9\" fill-rule=\"evenodd\" fill-opacity=\"1\"/>\n",
       "<polyline clip-path=\"url(#clip812)\" style=\"stroke:#000000; stroke-linecap:round; stroke-linejoin:round; stroke-width:4; stroke-opacity:1; fill:none\" points=\"1286.26,322.775 783.203,322.775 1789.33,322.775 1286.26,322.775 1286.26,907.242 1286.26,322.775 \"/>\n",
       "<circle clip-path=\"url(#clip812)\" cx=\"1286.26\" cy=\"162.047\" r=\"14.4\" fill=\"#009af9\" fill-rule=\"evenodd\" fill-opacity=\"1\" stroke=\"#000000\" stroke-opacity=\"1\" stroke-width=\"3.2\"/>\n",
       "<circle clip-path=\"url(#clip812)\" cx=\"1286.26\" cy=\"249.717\" r=\"14.4\" fill=\"#009af9\" fill-rule=\"evenodd\" fill-opacity=\"1\" stroke=\"#000000\" stroke-opacity=\"1\" stroke-width=\"3.2\"/>\n",
       "<circle clip-path=\"url(#clip812)\" cx=\"1286.26\" cy=\"278.94\" r=\"14.4\" fill=\"#009af9\" fill-rule=\"evenodd\" fill-opacity=\"1\" stroke=\"#000000\" stroke-opacity=\"1\" stroke-width=\"3.2\"/>\n",
       "<circle clip-path=\"url(#clip812)\" cx=\"1286.26\" cy=\"293.552\" r=\"14.4\" fill=\"#009af9\" fill-rule=\"evenodd\" fill-opacity=\"1\" stroke=\"#000000\" stroke-opacity=\"1\" stroke-width=\"3.2\"/>\n",
       "<circle clip-path=\"url(#clip812)\" cx=\"1286.26\" cy=\"308.164\" r=\"14.4\" fill=\"#009af9\" fill-rule=\"evenodd\" fill-opacity=\"1\" stroke=\"#000000\" stroke-opacity=\"1\" stroke-width=\"3.2\"/>\n",
       "<polyline clip-path=\"url(#clip812)\" style=\"stroke:#009af9; stroke-linecap:round; stroke-linejoin:round; stroke-width:0; stroke-opacity:1; fill:none\" points=\"1286.26,1447.87 783.203,1447.87 1789.33,1447.87 1286.26,1447.87 1286.26,1305.41 \"/>\n",
       "<polyline clip-path=\"url(#clip812)\" style=\"stroke:#009af9; stroke-linecap:round; stroke-linejoin:round; stroke-width:0; stroke-opacity:1; fill:none\" points=\"2292.39,1305.41 2292.39,1126.42 280.141,1126.42 280.141,1305.41 2292.39,1305.41 2292.39,1126.42 \"/>\n",
       "<polyline clip-path=\"url(#clip812)\" style=\"stroke:#009af9; stroke-linecap:round; stroke-linejoin:round; stroke-width:0; stroke-opacity:1; fill:none\" points=\"2292.39,907.242 280.141,907.242 280.141,1126.42 2292.39,1126.42 2292.39,907.242 1286.26,907.242 \"/>\n",
       "<polyline clip-path=\"url(#clip812)\" style=\"stroke:#009af9; stroke-linecap:round; stroke-linejoin:round; stroke-width:0; stroke-opacity:1; fill:none\" points=\"1286.26,322.775 783.203,322.775 1789.33,322.775 1286.26,322.775 1286.26,907.242 \"/>\n",
       "<path clip-path=\"url(#clip810)\" d=\"M2015.93 272.585 L2281.66 272.585 L2281.66 168.905 L2015.93 168.905  Z\" fill=\"#ffffff\" fill-rule=\"evenodd\" fill-opacity=\"1\"/>\n",
       "<polyline clip-path=\"url(#clip810)\" style=\"stroke:#000000; stroke-linecap:round; stroke-linejoin:round; stroke-width:4; stroke-opacity:1; fill:none\" points=\"2015.93,272.585 2281.66,272.585 2281.66,168.905 2015.93,168.905 2015.93,272.585 \"/>\n",
       "<path clip-path=\"url(#clip810)\" d=\"M2039.63 241.481 L2181.83 241.481 L2181.83 200.009 L2039.63 200.009 L2039.63 241.481  Z\" fill=\"#009af9\" fill-rule=\"evenodd\" fill-opacity=\"1\"/>\n",
       "<polyline clip-path=\"url(#clip810)\" style=\"stroke:#000000; stroke-linecap:round; stroke-linejoin:round; stroke-width:4; stroke-opacity:1; fill:none\" points=\"2039.63,241.481 2181.83,241.481 2181.83,200.009 2039.63,200.009 2039.63,241.481 \"/>\n",
       "<path clip-path=\"url(#clip810)\" d=\"M2219.37 240.432 Q2217.56 245.062 2215.85 246.474 Q2214.14 247.886 2211.27 247.886 L2207.86 247.886 L2207.86 244.321 L2210.36 244.321 Q2212.12 244.321 2213.1 243.488 Q2214.07 242.654 2215.25 239.552 L2216.01 237.608 L2205.53 212.099 L2210.04 212.099 L2218.14 232.377 L2226.24 212.099 L2230.76 212.099 L2219.37 240.432 Z\" fill=\"#000000\" fill-rule=\"nonzero\" fill-opacity=\"1\" /><path clip-path=\"url(#clip810)\" d=\"M2238.05 234.089 L2245.69 234.089 L2245.69 207.724 L2237.38 209.391 L2237.38 205.131 L2245.64 203.465 L2250.32 203.465 L2250.32 234.089 L2257.96 234.089 L2257.96 238.025 L2238.05 238.025 L2238.05 234.089 Z\" fill=\"#000000\" fill-rule=\"nonzero\" fill-opacity=\"1\" /></svg>\n"
      ]
     },
     "execution_count": 20,
     "metadata": {},
     "output_type": "execute_result"
    }
   ],
   "source": [
    "boxplot(anime.Score, title = \"Box Plot - Score\", ylabel =\"Score\")"
   ]
  },
  {
   "cell_type": "markdown",
   "id": "cf3186af",
   "metadata": {},
   "source": [
    "### Remove Outlier"
   ]
  },
  {
   "cell_type": "code",
   "execution_count": 21,
   "id": "16b577de",
   "metadata": {},
   "outputs": [],
   "source": [
    "first_percentile = percentile(anime.Score, 25)\n",
    "iqr_value = iqr(anime.Score)\n",
    "anime = anime[anime.Score .>  (first_percentile - 1.5*iqr_value),:];"
   ]
  },
  {
   "cell_type": "code",
   "execution_count": 22,
   "id": "fec55767",
   "metadata": {},
   "outputs": [
    {
     "data": {
      "image/svg+xml": [
       "<?xml version=\"1.0\" encoding=\"utf-8\"?>\n",
       "<svg xmlns=\"http://www.w3.org/2000/svg\" xmlns:xlink=\"http://www.w3.org/1999/xlink\" width=\"600\" height=\"400\" viewBox=\"0 0 2400 1600\">\n",
       "<defs>\n",
       "  <clipPath id=\"clip850\">\n",
       "    <rect x=\"0\" y=\"0\" width=\"2400\" height=\"1600\"/>\n",
       "  </clipPath>\n",
       "</defs>\n",
       "<path clip-path=\"url(#clip850)\" d=\"M0 1600 L2400 1600 L2400 0 L0 0  Z\" fill=\"#ffffff\" fill-rule=\"evenodd\" fill-opacity=\"1\"/>\n",
       "<defs>\n",
       "  <clipPath id=\"clip851\">\n",
       "    <rect x=\"480\" y=\"0\" width=\"1681\" height=\"1600\"/>\n",
       "  </clipPath>\n",
       "</defs>\n",
       "<path clip-path=\"url(#clip850)\" d=\"M219.38 1486.45 L2352.76 1486.45 L2352.76 123.472 L219.38 123.472  Z\" fill=\"#ffffff\" fill-rule=\"evenodd\" fill-opacity=\"1\"/>\n",
       "<defs>\n",
       "  <clipPath id=\"clip852\">\n",
       "    <rect x=\"219\" y=\"123\" width=\"2134\" height=\"1364\"/>\n",
       "  </clipPath>\n",
       "</defs>\n",
       "<polyline clip-path=\"url(#clip852)\" style=\"stroke:#000000; stroke-linecap:round; stroke-linejoin:round; stroke-width:2; stroke-opacity:0.1; fill:none\" points=\"579.71,1486.45 579.71,123.472 \"/>\n",
       "<polyline clip-path=\"url(#clip852)\" style=\"stroke:#000000; stroke-linecap:round; stroke-linejoin:round; stroke-width:2; stroke-opacity:0.1; fill:none\" points=\"947.605,1486.45 947.605,123.472 \"/>\n",
       "<polyline clip-path=\"url(#clip852)\" style=\"stroke:#000000; stroke-linecap:round; stroke-linejoin:round; stroke-width:2; stroke-opacity:0.1; fill:none\" points=\"1315.5,1486.45 1315.5,123.472 \"/>\n",
       "<polyline clip-path=\"url(#clip852)\" style=\"stroke:#000000; stroke-linecap:round; stroke-linejoin:round; stroke-width:2; stroke-opacity:0.1; fill:none\" points=\"1683.39,1486.45 1683.39,123.472 \"/>\n",
       "<polyline clip-path=\"url(#clip852)\" style=\"stroke:#000000; stroke-linecap:round; stroke-linejoin:round; stroke-width:2; stroke-opacity:0.1; fill:none\" points=\"2051.29,1486.45 2051.29,123.472 \"/>\n",
       "<polyline clip-path=\"url(#clip850)\" style=\"stroke:#000000; stroke-linecap:round; stroke-linejoin:round; stroke-width:4; stroke-opacity:1; fill:none\" points=\"219.38,1486.45 2352.76,1486.45 \"/>\n",
       "<polyline clip-path=\"url(#clip850)\" style=\"stroke:#000000; stroke-linecap:round; stroke-linejoin:round; stroke-width:4; stroke-opacity:1; fill:none\" points=\"579.71,1486.45 579.71,1467.55 \"/>\n",
       "<polyline clip-path=\"url(#clip850)\" style=\"stroke:#000000; stroke-linecap:round; stroke-linejoin:round; stroke-width:4; stroke-opacity:1; fill:none\" points=\"947.605,1486.45 947.605,1467.55 \"/>\n",
       "<polyline clip-path=\"url(#clip850)\" style=\"stroke:#000000; stroke-linecap:round; stroke-linejoin:round; stroke-width:4; stroke-opacity:1; fill:none\" points=\"1315.5,1486.45 1315.5,1467.55 \"/>\n",
       "<polyline clip-path=\"url(#clip850)\" style=\"stroke:#000000; stroke-linecap:round; stroke-linejoin:round; stroke-width:4; stroke-opacity:1; fill:none\" points=\"1683.39,1486.45 1683.39,1467.55 \"/>\n",
       "<polyline clip-path=\"url(#clip850)\" style=\"stroke:#000000; stroke-linecap:round; stroke-linejoin:round; stroke-width:4; stroke-opacity:1; fill:none\" points=\"2051.29,1486.45 2051.29,1467.55 \"/>\n",
       "<path clip-path=\"url(#clip850)\" d=\"M542.465 1532.44 Q539.131 1532.44 537.21 1534.22 Q535.312 1536 535.312 1539.13 Q535.312 1542.25 537.21 1544.03 Q539.131 1545.82 542.465 1545.82 Q545.798 1545.82 547.719 1544.03 Q549.641 1542.23 549.641 1539.13 Q549.641 1536 547.719 1534.22 Q545.821 1532.44 542.465 1532.44 M537.789 1530.45 Q534.78 1529.7 533.09 1527.64 Q531.423 1525.58 531.423 1522.62 Q531.423 1518.48 534.363 1516.07 Q537.326 1513.66 542.465 1513.66 Q547.627 1513.66 550.567 1516.07 Q553.506 1518.48 553.506 1522.62 Q553.506 1525.58 551.817 1527.64 Q550.15 1529.7 547.164 1530.45 Q550.543 1531.23 552.418 1533.52 Q554.317 1535.82 554.317 1539.13 Q554.317 1544.15 551.238 1546.83 Q548.182 1549.52 542.465 1549.52 Q536.747 1549.52 533.669 1546.83 Q530.613 1544.15 530.613 1539.13 Q530.613 1535.82 532.511 1533.52 Q534.409 1531.23 537.789 1530.45 M536.076 1523.06 Q536.076 1525.75 537.743 1527.25 Q539.432 1528.76 542.465 1528.76 Q545.474 1528.76 547.164 1527.25 Q548.877 1525.75 548.877 1523.06 Q548.877 1520.38 547.164 1518.87 Q545.474 1517.37 542.465 1517.37 Q539.432 1517.37 537.743 1518.87 Q536.076 1520.38 536.076 1523.06 Z\" fill=\"#000000\" fill-rule=\"nonzero\" fill-opacity=\"1\" /><path clip-path=\"url(#clip850)\" d=\"M562.627 1542.97 L567.511 1542.97 L567.511 1548.85 L562.627 1548.85 L562.627 1542.97 Z\" fill=\"#000000\" fill-rule=\"nonzero\" fill-opacity=\"1\" /><path clip-path=\"url(#clip850)\" d=\"M581.724 1544.91 L598.043 1544.91 L598.043 1548.85 L576.099 1548.85 L576.099 1544.91 Q578.761 1542.16 583.344 1537.53 Q587.951 1532.88 589.131 1531.53 Q591.377 1529.01 592.256 1527.27 Q593.159 1525.51 593.159 1523.82 Q593.159 1521.07 591.215 1519.33 Q589.293 1517.6 586.191 1517.6 Q583.992 1517.6 581.539 1518.36 Q579.108 1519.13 576.33 1520.68 L576.33 1515.95 Q579.154 1514.82 581.608 1514.24 Q584.062 1513.66 586.099 1513.66 Q591.469 1513.66 594.664 1516.35 Q597.858 1519.03 597.858 1523.52 Q597.858 1525.65 597.048 1527.57 Q596.261 1529.47 594.154 1532.07 Q593.576 1532.74 590.474 1535.95 Q587.372 1539.15 581.724 1544.91 Z\" fill=\"#000000\" fill-rule=\"nonzero\" fill-opacity=\"1\" /><path clip-path=\"url(#clip850)\" d=\"M607.904 1514.29 L626.261 1514.29 L626.261 1518.22 L612.187 1518.22 L612.187 1526.7 Q613.205 1526.35 614.224 1526.19 Q615.242 1526 616.261 1526 Q622.048 1526 625.427 1529.17 Q628.807 1532.34 628.807 1537.76 Q628.807 1543.34 625.335 1546.44 Q621.863 1549.52 615.543 1549.52 Q613.367 1549.52 611.099 1549.15 Q608.853 1548.78 606.446 1548.04 L606.446 1543.34 Q608.529 1544.47 610.751 1545.03 Q612.974 1545.58 615.451 1545.58 Q619.455 1545.58 621.793 1543.48 Q624.131 1541.37 624.131 1537.76 Q624.131 1534.15 621.793 1532.04 Q619.455 1529.94 615.451 1529.94 Q613.576 1529.94 611.701 1530.35 Q609.849 1530.77 607.904 1531.65 L607.904 1514.29 Z\" fill=\"#000000\" fill-rule=\"nonzero\" fill-opacity=\"1\" /><path clip-path=\"url(#clip850)\" d=\"M909.862 1532.44 Q906.529 1532.44 904.607 1534.22 Q902.709 1536 902.709 1539.13 Q902.709 1542.25 904.607 1544.03 Q906.529 1545.82 909.862 1545.82 Q913.195 1545.82 915.117 1544.03 Q917.038 1542.23 917.038 1539.13 Q917.038 1536 915.117 1534.22 Q913.218 1532.44 909.862 1532.44 M905.186 1530.45 Q902.177 1529.7 900.487 1527.64 Q898.82 1525.58 898.82 1522.62 Q898.82 1518.48 901.76 1516.07 Q904.723 1513.66 909.862 1513.66 Q915.024 1513.66 917.964 1516.07 Q920.904 1518.48 920.904 1522.62 Q920.904 1525.58 919.214 1527.64 Q917.547 1529.7 914.561 1530.45 Q917.941 1531.23 919.816 1533.52 Q921.714 1535.82 921.714 1539.13 Q921.714 1544.15 918.635 1546.83 Q915.58 1549.52 909.862 1549.52 Q904.144 1549.52 901.066 1546.83 Q898.01 1544.15 898.01 1539.13 Q898.01 1535.82 899.908 1533.52 Q901.806 1531.23 905.186 1530.45 M903.473 1523.06 Q903.473 1525.75 905.14 1527.25 Q906.83 1528.76 909.862 1528.76 Q912.871 1528.76 914.561 1527.25 Q916.274 1525.75 916.274 1523.06 Q916.274 1520.38 914.561 1518.87 Q912.871 1517.37 909.862 1517.37 Q906.83 1517.37 905.14 1518.87 Q903.473 1520.38 903.473 1523.06 Z\" fill=\"#000000\" fill-rule=\"nonzero\" fill-opacity=\"1\" /><path clip-path=\"url(#clip850)\" d=\"M930.024 1542.97 L934.908 1542.97 L934.908 1548.85 L930.024 1548.85 L930.024 1542.97 Z\" fill=\"#000000\" fill-rule=\"nonzero\" fill-opacity=\"1\" /><path clip-path=\"url(#clip850)\" d=\"M945.14 1514.29 L963.496 1514.29 L963.496 1518.22 L949.422 1518.22 L949.422 1526.7 Q950.44 1526.35 951.459 1526.19 Q952.477 1526 953.496 1526 Q959.283 1526 962.663 1529.17 Q966.042 1532.34 966.042 1537.76 Q966.042 1543.34 962.57 1546.44 Q959.098 1549.52 952.778 1549.52 Q950.602 1549.52 948.334 1549.15 Q946.089 1548.78 943.681 1548.04 L943.681 1543.34 Q945.765 1544.47 947.987 1545.03 Q950.209 1545.58 952.686 1545.58 Q956.69 1545.58 959.028 1543.48 Q961.366 1541.37 961.366 1537.76 Q961.366 1534.15 959.028 1532.04 Q956.69 1529.94 952.686 1529.94 Q950.811 1529.94 948.936 1530.35 Q947.084 1530.77 945.14 1531.65 L945.14 1514.29 Z\" fill=\"#000000\" fill-rule=\"nonzero\" fill-opacity=\"1\" /><path clip-path=\"url(#clip850)\" d=\"M985.255 1517.37 Q981.644 1517.37 979.815 1520.93 Q978.01 1524.47 978.01 1531.6 Q978.01 1538.71 979.815 1542.27 Q981.644 1545.82 985.255 1545.82 Q988.889 1545.82 990.695 1542.27 Q992.524 1538.71 992.524 1531.6 Q992.524 1524.47 990.695 1520.93 Q988.889 1517.37 985.255 1517.37 M985.255 1513.66 Q991.065 1513.66 994.121 1518.27 Q997.199 1522.85 997.199 1531.6 Q997.199 1540.33 994.121 1544.94 Q991.065 1549.52 985.255 1549.52 Q979.445 1549.52 976.366 1544.94 Q973.311 1540.33 973.311 1531.6 Q973.311 1522.85 976.366 1518.27 Q979.445 1513.66 985.255 1513.66 Z\" fill=\"#000000\" fill-rule=\"nonzero\" fill-opacity=\"1\" /><path clip-path=\"url(#clip850)\" d=\"M1278.25 1532.44 Q1274.92 1532.44 1273 1534.22 Q1271.1 1536 1271.1 1539.13 Q1271.1 1542.25 1273 1544.03 Q1274.92 1545.82 1278.25 1545.82 Q1281.59 1545.82 1283.51 1544.03 Q1285.43 1542.23 1285.43 1539.13 Q1285.43 1536 1283.51 1534.22 Q1281.61 1532.44 1278.25 1532.44 M1273.58 1530.45 Q1270.57 1529.7 1268.88 1527.64 Q1267.21 1525.58 1267.21 1522.62 Q1267.21 1518.48 1270.15 1516.07 Q1273.12 1513.66 1278.25 1513.66 Q1283.42 1513.66 1286.36 1516.07 Q1289.3 1518.48 1289.3 1522.62 Q1289.3 1525.58 1287.61 1527.64 Q1285.94 1529.7 1282.95 1530.45 Q1286.33 1531.23 1288.21 1533.52 Q1290.11 1535.82 1290.11 1539.13 Q1290.11 1544.15 1287.03 1546.83 Q1283.97 1549.52 1278.25 1549.52 Q1272.54 1549.52 1269.46 1546.83 Q1266.4 1544.15 1266.4 1539.13 Q1266.4 1535.82 1268.3 1533.52 Q1270.2 1531.23 1273.58 1530.45 M1271.87 1523.06 Q1271.87 1525.75 1273.53 1527.25 Q1275.22 1528.76 1278.25 1528.76 Q1281.26 1528.76 1282.95 1527.25 Q1284.67 1525.75 1284.67 1523.06 Q1284.67 1520.38 1282.95 1518.87 Q1281.26 1517.37 1278.25 1517.37 Q1275.22 1517.37 1273.53 1518.87 Q1271.87 1520.38 1271.87 1523.06 Z\" fill=\"#000000\" fill-rule=\"nonzero\" fill-opacity=\"1\" /><path clip-path=\"url(#clip850)\" d=\"M1298.42 1542.97 L1303.3 1542.97 L1303.3 1548.85 L1298.42 1548.85 L1298.42 1542.97 Z\" fill=\"#000000\" fill-rule=\"nonzero\" fill-opacity=\"1\" /><path clip-path=\"url(#clip850)\" d=\"M1312.31 1514.29 L1334.53 1514.29 L1334.53 1516.28 L1321.98 1548.85 L1317.1 1548.85 L1328.9 1518.22 L1312.31 1518.22 L1312.31 1514.29 Z\" fill=\"#000000\" fill-rule=\"nonzero\" fill-opacity=\"1\" /><path clip-path=\"url(#clip850)\" d=\"M1343.69 1514.29 L1362.05 1514.29 L1362.05 1518.22 L1347.98 1518.22 L1347.98 1526.7 Q1348.99 1526.35 1350.01 1526.19 Q1351.03 1526 1352.05 1526 Q1357.84 1526 1361.22 1529.17 Q1364.6 1532.34 1364.6 1537.76 Q1364.6 1543.34 1361.12 1546.44 Q1357.65 1549.52 1351.33 1549.52 Q1349.16 1549.52 1346.89 1549.15 Q1344.64 1548.78 1342.24 1548.04 L1342.24 1543.34 Q1344.32 1544.47 1346.54 1545.03 Q1348.76 1545.58 1351.24 1545.58 Q1355.24 1545.58 1357.58 1543.48 Q1359.92 1541.37 1359.92 1537.76 Q1359.92 1534.15 1357.58 1532.04 Q1355.24 1529.94 1351.24 1529.94 Q1349.37 1529.94 1347.49 1530.35 Q1345.64 1530.77 1343.69 1531.65 L1343.69 1514.29 Z\" fill=\"#000000\" fill-rule=\"nonzero\" fill-opacity=\"1\" /><path clip-path=\"url(#clip850)\" d=\"M1635.91 1548.13 L1635.91 1543.87 Q1637.67 1544.7 1639.47 1545.14 Q1641.28 1545.58 1643.01 1545.58 Q1647.64 1545.58 1650.07 1542.48 Q1652.53 1539.36 1652.87 1533.01 Q1651.53 1535.01 1649.47 1536.07 Q1647.41 1537.13 1644.91 1537.13 Q1639.73 1537.13 1636.69 1534.01 Q1633.68 1530.86 1633.68 1525.42 Q1633.68 1520.1 1636.83 1516.88 Q1639.98 1513.66 1645.21 1513.66 Q1651.21 1513.66 1654.36 1518.27 Q1657.53 1522.85 1657.53 1531.6 Q1657.53 1539.77 1653.64 1544.66 Q1649.77 1549.52 1643.22 1549.52 Q1641.46 1549.52 1639.66 1549.17 Q1637.85 1548.82 1635.91 1548.13 M1645.21 1533.48 Q1648.36 1533.48 1650.19 1531.32 Q1652.04 1529.17 1652.04 1525.42 Q1652.04 1521.7 1650.19 1519.54 Q1648.36 1517.37 1645.21 1517.37 Q1642.06 1517.37 1640.21 1519.54 Q1638.38 1521.7 1638.38 1525.42 Q1638.38 1529.17 1640.21 1531.32 Q1642.06 1533.48 1645.21 1533.48 Z\" fill=\"#000000\" fill-rule=\"nonzero\" fill-opacity=\"1\" /><path clip-path=\"url(#clip850)\" d=\"M1665.93 1542.97 L1670.81 1542.97 L1670.81 1548.85 L1665.93 1548.85 L1665.93 1542.97 Z\" fill=\"#000000\" fill-rule=\"nonzero\" fill-opacity=\"1\" /><path clip-path=\"url(#clip850)\" d=\"M1691 1517.37 Q1687.39 1517.37 1685.56 1520.93 Q1683.75 1524.47 1683.75 1531.6 Q1683.75 1538.71 1685.56 1542.27 Q1687.39 1545.82 1691 1545.82 Q1694.63 1545.82 1696.44 1542.27 Q1698.27 1538.71 1698.27 1531.6 Q1698.27 1524.47 1696.44 1520.93 Q1694.63 1517.37 1691 1517.37 M1691 1513.66 Q1696.81 1513.66 1699.86 1518.27 Q1702.94 1522.85 1702.94 1531.6 Q1702.94 1540.33 1699.86 1544.94 Q1696.81 1549.52 1691 1549.52 Q1685.19 1549.52 1682.11 1544.94 Q1679.05 1540.33 1679.05 1531.6 Q1679.05 1522.85 1682.11 1518.27 Q1685.19 1513.66 1691 1513.66 Z\" fill=\"#000000\" fill-rule=\"nonzero\" fill-opacity=\"1\" /><path clip-path=\"url(#clip850)\" d=\"M1721.16 1517.37 Q1717.55 1517.37 1715.72 1520.93 Q1713.92 1524.47 1713.92 1531.6 Q1713.92 1538.71 1715.72 1542.27 Q1717.55 1545.82 1721.16 1545.82 Q1724.79 1545.82 1726.6 1542.27 Q1728.43 1538.71 1728.43 1531.6 Q1728.43 1524.47 1726.6 1520.93 Q1724.79 1517.37 1721.16 1517.37 M1721.16 1513.66 Q1726.97 1513.66 1730.03 1518.27 Q1733.1 1522.85 1733.1 1531.6 Q1733.1 1540.33 1730.03 1544.94 Q1726.97 1549.52 1721.16 1549.52 Q1715.35 1549.52 1712.27 1544.94 Q1709.22 1540.33 1709.22 1531.6 Q1709.22 1522.85 1712.27 1518.27 Q1715.35 1513.66 1721.16 1513.66 Z\" fill=\"#000000\" fill-rule=\"nonzero\" fill-opacity=\"1\" /><path clip-path=\"url(#clip850)\" d=\"M2004.3 1548.13 L2004.3 1543.87 Q2006.06 1544.7 2007.86 1545.14 Q2009.67 1545.58 2011.41 1545.58 Q2016.03 1545.58 2018.47 1542.48 Q2020.92 1539.36 2021.27 1533.01 Q2019.92 1535.01 2017.86 1536.07 Q2015.8 1537.13 2013.3 1537.13 Q2008.12 1537.13 2005.09 1534.01 Q2002.08 1530.86 2002.08 1525.42 Q2002.08 1520.1 2005.22 1516.88 Q2008.37 1513.66 2013.6 1513.66 Q2019.6 1513.66 2022.75 1518.27 Q2025.92 1522.85 2025.92 1531.6 Q2025.92 1539.77 2022.03 1544.66 Q2018.16 1549.52 2011.61 1549.52 Q2009.85 1549.52 2008.05 1549.17 Q2006.24 1548.82 2004.3 1548.13 M2013.6 1533.48 Q2016.75 1533.48 2018.58 1531.32 Q2020.43 1529.17 2020.43 1525.42 Q2020.43 1521.7 2018.58 1519.54 Q2016.75 1517.37 2013.6 1517.37 Q2010.46 1517.37 2008.6 1519.54 Q2006.78 1521.7 2006.78 1525.42 Q2006.78 1529.17 2008.6 1531.32 Q2010.46 1533.48 2013.6 1533.48 Z\" fill=\"#000000\" fill-rule=\"nonzero\" fill-opacity=\"1\" /><path clip-path=\"url(#clip850)\" d=\"M2034.32 1542.97 L2039.21 1542.97 L2039.21 1548.85 L2034.32 1548.85 L2034.32 1542.97 Z\" fill=\"#000000\" fill-rule=\"nonzero\" fill-opacity=\"1\" /><path clip-path=\"url(#clip850)\" d=\"M2053.42 1544.91 L2069.74 1544.91 L2069.74 1548.85 L2047.79 1548.85 L2047.79 1544.91 Q2050.46 1542.16 2055.04 1537.53 Q2059.65 1532.88 2060.83 1531.53 Q2063.07 1529.01 2063.95 1527.27 Q2064.85 1525.51 2064.85 1523.82 Q2064.85 1521.07 2062.91 1519.33 Q2060.99 1517.6 2057.89 1517.6 Q2055.69 1517.6 2053.23 1518.36 Q2050.8 1519.13 2048.03 1520.68 L2048.03 1515.95 Q2050.85 1514.82 2053.3 1514.24 Q2055.76 1513.66 2057.79 1513.66 Q2063.16 1513.66 2066.36 1516.35 Q2069.55 1519.03 2069.55 1523.52 Q2069.55 1525.65 2068.74 1527.57 Q2067.96 1529.47 2065.85 1532.07 Q2065.27 1532.74 2062.17 1535.95 Q2059.07 1539.15 2053.42 1544.91 Z\" fill=\"#000000\" fill-rule=\"nonzero\" fill-opacity=\"1\" /><path clip-path=\"url(#clip850)\" d=\"M2079.6 1514.29 L2097.96 1514.29 L2097.96 1518.22 L2083.88 1518.22 L2083.88 1526.7 Q2084.9 1526.35 2085.92 1526.19 Q2086.94 1526 2087.96 1526 Q2093.74 1526 2097.12 1529.17 Q2100.5 1532.34 2100.5 1537.76 Q2100.5 1543.34 2097.03 1546.44 Q2093.56 1549.52 2087.24 1549.52 Q2085.06 1549.52 2082.79 1549.15 Q2080.55 1548.78 2078.14 1548.04 L2078.14 1543.34 Q2080.22 1544.47 2082.45 1545.03 Q2084.67 1545.58 2087.15 1545.58 Q2091.15 1545.58 2093.49 1543.48 Q2095.83 1541.37 2095.83 1537.76 Q2095.83 1534.15 2093.49 1532.04 Q2091.15 1529.94 2087.15 1529.94 Q2085.27 1529.94 2083.4 1530.35 Q2081.54 1530.77 2079.6 1531.65 L2079.6 1514.29 Z\" fill=\"#000000\" fill-rule=\"nonzero\" fill-opacity=\"1\" /><polyline clip-path=\"url(#clip852)\" style=\"stroke:#000000; stroke-linecap:round; stroke-linejoin:round; stroke-width:2; stroke-opacity:0.1; fill:none\" points=\"219.38,1447.9 2352.76,1447.9 \"/>\n",
       "<polyline clip-path=\"url(#clip852)\" style=\"stroke:#000000; stroke-linecap:round; stroke-linejoin:round; stroke-width:2; stroke-opacity:0.1; fill:none\" points=\"219.38,1160.89 2352.76,1160.89 \"/>\n",
       "<polyline clip-path=\"url(#clip852)\" style=\"stroke:#000000; stroke-linecap:round; stroke-linejoin:round; stroke-width:2; stroke-opacity:0.1; fill:none\" points=\"219.38,873.882 2352.76,873.882 \"/>\n",
       "<polyline clip-path=\"url(#clip852)\" style=\"stroke:#000000; stroke-linecap:round; stroke-linejoin:round; stroke-width:2; stroke-opacity:0.1; fill:none\" points=\"219.38,586.875 2352.76,586.875 \"/>\n",
       "<polyline clip-path=\"url(#clip852)\" style=\"stroke:#000000; stroke-linecap:round; stroke-linejoin:round; stroke-width:2; stroke-opacity:0.1; fill:none\" points=\"219.38,299.868 2352.76,299.868 \"/>\n",
       "<polyline clip-path=\"url(#clip850)\" style=\"stroke:#000000; stroke-linecap:round; stroke-linejoin:round; stroke-width:4; stroke-opacity:1; fill:none\" points=\"219.38,1486.45 219.38,123.472 \"/>\n",
       "<polyline clip-path=\"url(#clip850)\" style=\"stroke:#000000; stroke-linecap:round; stroke-linejoin:round; stroke-width:4; stroke-opacity:1; fill:none\" points=\"219.38,1447.9 238.278,1447.9 \"/>\n",
       "<polyline clip-path=\"url(#clip850)\" style=\"stroke:#000000; stroke-linecap:round; stroke-linejoin:round; stroke-width:4; stroke-opacity:1; fill:none\" points=\"219.38,1160.89 238.278,1160.89 \"/>\n",
       "<polyline clip-path=\"url(#clip850)\" style=\"stroke:#000000; stroke-linecap:round; stroke-linejoin:round; stroke-width:4; stroke-opacity:1; fill:none\" points=\"219.38,873.882 238.278,873.882 \"/>\n",
       "<polyline clip-path=\"url(#clip850)\" style=\"stroke:#000000; stroke-linecap:round; stroke-linejoin:round; stroke-width:4; stroke-opacity:1; fill:none\" points=\"219.38,586.875 238.278,586.875 \"/>\n",
       "<polyline clip-path=\"url(#clip850)\" style=\"stroke:#000000; stroke-linecap:round; stroke-linejoin:round; stroke-width:4; stroke-opacity:1; fill:none\" points=\"219.38,299.868 238.278,299.868 \"/>\n",
       "<path clip-path=\"url(#clip850)\" d=\"M126.205 1433.69 Q122.593 1433.69 120.765 1437.26 Q118.959 1440.8 118.959 1447.93 Q118.959 1455.04 120.765 1458.6 Q122.593 1462.14 126.205 1462.14 Q129.839 1462.14 131.644 1458.6 Q133.473 1455.04 133.473 1447.93 Q133.473 1440.8 131.644 1437.26 Q129.839 1433.69 126.205 1433.69 M126.205 1429.99 Q132.015 1429.99 135.07 1434.6 Q138.149 1439.18 138.149 1447.93 Q138.149 1456.66 135.07 1461.26 Q132.015 1465.85 126.205 1465.85 Q120.394 1465.85 117.316 1461.26 Q114.26 1456.66 114.26 1447.93 Q114.26 1439.18 117.316 1434.6 Q120.394 1429.99 126.205 1429.99 Z\" fill=\"#000000\" fill-rule=\"nonzero\" fill-opacity=\"1\" /><path clip-path=\"url(#clip850)\" d=\"M146.366 1459.3 L151.251 1459.3 L151.251 1465.18 L146.366 1465.18 L146.366 1459.3 Z\" fill=\"#000000\" fill-rule=\"nonzero\" fill-opacity=\"1\" /><path clip-path=\"url(#clip850)\" d=\"M171.436 1433.69 Q167.825 1433.69 165.996 1437.26 Q164.19 1440.8 164.19 1447.93 Q164.19 1455.04 165.996 1458.6 Q167.825 1462.14 171.436 1462.14 Q175.07 1462.14 176.876 1458.6 Q178.704 1455.04 178.704 1447.93 Q178.704 1440.8 176.876 1437.26 Q175.07 1433.69 171.436 1433.69 M171.436 1429.99 Q177.246 1429.99 180.301 1434.6 Q183.38 1439.18 183.38 1447.93 Q183.38 1456.66 180.301 1461.26 Q177.246 1465.85 171.436 1465.85 Q165.626 1465.85 162.547 1461.26 Q159.491 1456.66 159.491 1447.93 Q159.491 1439.18 162.547 1434.6 Q165.626 1429.99 171.436 1429.99 Z\" fill=\"#000000\" fill-rule=\"nonzero\" fill-opacity=\"1\" /><path clip-path=\"url(#clip850)\" d=\"M127.2 1146.69 Q123.589 1146.69 121.76 1150.25 Q119.955 1153.79 119.955 1160.92 Q119.955 1168.03 121.76 1171.59 Q123.589 1175.14 127.2 1175.14 Q130.834 1175.14 132.64 1171.59 Q134.468 1168.03 134.468 1160.92 Q134.468 1153.79 132.64 1150.25 Q130.834 1146.69 127.2 1146.69 M127.2 1142.98 Q133.01 1142.98 136.066 1147.59 Q139.144 1152.17 139.144 1160.92 Q139.144 1169.65 136.066 1174.26 Q133.01 1178.84 127.2 1178.84 Q121.39 1178.84 118.311 1174.26 Q115.256 1169.65 115.256 1160.92 Q115.256 1152.17 118.311 1147.59 Q121.39 1142.98 127.2 1142.98 Z\" fill=\"#000000\" fill-rule=\"nonzero\" fill-opacity=\"1\" /><path clip-path=\"url(#clip850)\" d=\"M147.362 1172.29 L152.246 1172.29 L152.246 1178.17 L147.362 1178.17 L147.362 1172.29 Z\" fill=\"#000000\" fill-rule=\"nonzero\" fill-opacity=\"1\" /><path clip-path=\"url(#clip850)\" d=\"M162.477 1143.61 L180.834 1143.61 L180.834 1147.54 L166.76 1147.54 L166.76 1156.02 Q167.778 1155.67 168.797 1155.51 Q169.815 1155.32 170.834 1155.32 Q176.621 1155.32 180.001 1158.49 Q183.38 1161.66 183.38 1167.08 Q183.38 1172.66 179.908 1175.76 Q176.436 1178.84 170.116 1178.84 Q167.94 1178.84 165.672 1178.47 Q163.427 1178.1 161.019 1177.36 L161.019 1172.66 Q163.102 1173.79 165.325 1174.35 Q167.547 1174.91 170.024 1174.91 Q174.028 1174.91 176.366 1172.8 Q178.704 1170.69 178.704 1167.08 Q178.704 1163.47 176.366 1161.36 Q174.028 1159.26 170.024 1159.26 Q168.149 1159.26 166.274 1159.67 Q164.422 1160.09 162.477 1160.97 L162.477 1143.61 Z\" fill=\"#000000\" fill-rule=\"nonzero\" fill-opacity=\"1\" /><path clip-path=\"url(#clip850)\" d=\"M117.015 887.227 L124.654 887.227 L124.654 860.861 L116.343 862.528 L116.343 858.269 L124.607 856.602 L129.283 856.602 L129.283 887.227 L136.922 887.227 L136.922 891.162 L117.015 891.162 L117.015 887.227 Z\" fill=\"#000000\" fill-rule=\"nonzero\" fill-opacity=\"1\" /><path clip-path=\"url(#clip850)\" d=\"M146.366 885.282 L151.251 885.282 L151.251 891.162 L146.366 891.162 L146.366 885.282 Z\" fill=\"#000000\" fill-rule=\"nonzero\" fill-opacity=\"1\" /><path clip-path=\"url(#clip850)\" d=\"M171.436 859.681 Q167.825 859.681 165.996 863.246 Q164.19 866.787 164.19 873.917 Q164.19 881.023 165.996 884.588 Q167.825 888.13 171.436 888.13 Q175.07 888.13 176.876 884.588 Q178.704 881.023 178.704 873.917 Q178.704 866.787 176.876 863.246 Q175.07 859.681 171.436 859.681 M171.436 855.977 Q177.246 855.977 180.301 860.583 Q183.38 865.167 183.38 873.917 Q183.38 882.644 180.301 887.25 Q177.246 891.833 171.436 891.833 Q165.626 891.833 162.547 887.25 Q159.491 882.644 159.491 873.917 Q159.491 865.167 162.547 860.583 Q165.626 855.977 171.436 855.977 Z\" fill=\"#000000\" fill-rule=\"nonzero\" fill-opacity=\"1\" /><path clip-path=\"url(#clip850)\" d=\"M118.01 600.22 L125.649 600.22 L125.649 573.854 L117.339 575.521 L117.339 571.262 L125.603 569.595 L130.279 569.595 L130.279 600.22 L137.917 600.22 L137.917 604.155 L118.01 604.155 L118.01 600.22 Z\" fill=\"#000000\" fill-rule=\"nonzero\" fill-opacity=\"1\" /><path clip-path=\"url(#clip850)\" d=\"M147.362 598.276 L152.246 598.276 L152.246 604.155 L147.362 604.155 L147.362 598.276 Z\" fill=\"#000000\" fill-rule=\"nonzero\" fill-opacity=\"1\" /><path clip-path=\"url(#clip850)\" d=\"M162.477 569.595 L180.834 569.595 L180.834 573.53 L166.76 573.53 L166.76 582.003 Q167.778 581.655 168.797 581.493 Q169.815 581.308 170.834 581.308 Q176.621 581.308 180.001 584.479 Q183.38 587.651 183.38 593.067 Q183.38 598.646 179.908 601.748 Q176.436 604.826 170.116 604.826 Q167.94 604.826 165.672 604.456 Q163.427 604.086 161.019 603.345 L161.019 598.646 Q163.102 599.78 165.325 600.336 Q167.547 600.891 170.024 600.891 Q174.028 600.891 176.366 598.785 Q178.704 596.678 178.704 593.067 Q178.704 589.456 176.366 587.35 Q174.028 585.243 170.024 585.243 Q168.149 585.243 166.274 585.66 Q164.422 586.077 162.477 586.956 L162.477 569.595 Z\" fill=\"#000000\" fill-rule=\"nonzero\" fill-opacity=\"1\" /><path clip-path=\"url(#clip850)\" d=\"M120.232 313.213 L136.552 313.213 L136.552 317.148 L114.607 317.148 L114.607 313.213 Q117.269 310.459 121.853 305.829 Q126.459 301.176 127.64 299.834 Q129.885 297.31 130.765 295.574 Q131.667 293.815 131.667 292.125 Q131.667 289.371 129.723 287.635 Q127.802 285.898 124.7 285.898 Q122.501 285.898 120.047 286.662 Q117.617 287.426 114.839 288.977 L114.839 284.255 Q117.663 283.121 120.117 282.542 Q122.57 281.963 124.607 281.963 Q129.978 281.963 133.172 284.649 Q136.367 287.334 136.367 291.824 Q136.367 293.954 135.556 295.875 Q134.769 297.773 132.663 300.366 Q132.084 301.037 128.982 304.255 Q125.88 307.449 120.232 313.213 Z\" fill=\"#000000\" fill-rule=\"nonzero\" fill-opacity=\"1\" /><path clip-path=\"url(#clip850)\" d=\"M146.366 311.269 L151.251 311.269 L151.251 317.148 L146.366 317.148 L146.366 311.269 Z\" fill=\"#000000\" fill-rule=\"nonzero\" fill-opacity=\"1\" /><path clip-path=\"url(#clip850)\" d=\"M171.436 285.667 Q167.825 285.667 165.996 289.232 Q164.19 292.773 164.19 299.903 Q164.19 307.009 165.996 310.574 Q167.825 314.116 171.436 314.116 Q175.07 314.116 176.876 310.574 Q178.704 307.009 178.704 299.903 Q178.704 292.773 176.876 289.232 Q175.07 285.667 171.436 285.667 M171.436 281.963 Q177.246 281.963 180.301 286.57 Q183.38 291.153 183.38 299.903 Q183.38 308.63 180.301 313.236 Q177.246 317.82 171.436 317.82 Q165.626 317.82 162.547 313.236 Q159.491 308.63 159.491 299.903 Q159.491 291.153 162.547 286.57 Q165.626 281.963 171.436 281.963 Z\" fill=\"#000000\" fill-rule=\"nonzero\" fill-opacity=\"1\" /><path clip-path=\"url(#clip850)\" d=\"M16.4842 969.163 L16.4842 941.855 L21.895 941.855 L21.895 962.734 L35.8996 962.734 L35.8996 943.892 L41.3104 943.892 L41.3104 962.734 L64.0042 962.734 L64.0042 969.163 L16.4842 969.163 Z\" fill=\"#000000\" fill-rule=\"nonzero\" fill-opacity=\"1\" /><path clip-path=\"url(#clip850)\" d=\"M33.8307 916.01 Q33.2578 916.996 33.0032 918.174 Q32.7167 919.32 32.7167 920.72 Q32.7167 925.686 35.9632 928.359 Q39.1779 931.001 45.2253 931.001 L64.0042 931.001 L64.0042 936.889 L28.3562 936.889 L28.3562 931.001 L33.8944 931.001 Q30.6479 929.155 29.0883 926.195 Q27.4968 923.235 27.4968 919.002 Q27.4968 918.397 27.5923 917.665 Q27.656 916.933 27.8151 916.042 L33.8307 916.01 Z\" fill=\"#000000\" fill-rule=\"nonzero\" fill-opacity=\"1\" /><path clip-path=\"url(#clip850)\" d=\"M44.7161 880.807 L47.5806 880.807 L47.5806 907.734 Q53.6281 907.352 56.8109 904.106 Q59.9619 900.828 59.9619 895.003 Q59.9619 891.629 59.1344 888.478 Q58.3069 885.295 56.6518 882.176 L62.1899 882.176 Q63.5267 885.327 64.227 888.637 Q64.9272 891.947 64.9272 895.353 Q64.9272 903.883 59.9619 908.88 Q54.9967 913.845 46.5303 913.845 Q37.7774 913.845 32.6531 909.135 Q27.4968 904.392 27.4968 896.372 Q27.4968 889.178 32.1438 885.009 Q36.7589 880.807 44.7161 880.807 M42.9973 886.664 Q38.1912 886.728 35.3266 889.369 Q32.4621 891.979 32.4621 896.308 Q32.4621 901.209 35.2312 904.17 Q38.0002 907.098 43.0292 907.543 L42.9973 886.664 Z\" fill=\"#000000\" fill-rule=\"nonzero\" fill-opacity=\"1\" /><path clip-path=\"url(#clip850)\" d=\"M46.212 867.694 Q52.6732 867.694 56.3653 865.052 Q60.0256 862.379 60.0256 857.732 Q60.0256 853.085 56.3653 850.411 Q52.6732 847.738 46.212 847.738 Q39.7508 847.738 36.0905 850.411 Q32.3984 853.085 32.3984 857.732 Q32.3984 862.379 36.0905 865.052 Q39.7508 867.694 46.212 867.694 M58.657 847.738 Q61.8398 849.584 63.3994 852.416 Q64.9272 855.217 64.9272 859.164 Q64.9272 865.625 59.771 869.699 Q54.6147 873.741 46.212 873.741 Q37.8093 873.741 32.6531 869.699 Q27.4968 865.625 27.4968 859.164 Q27.4968 855.217 29.0564 852.416 Q30.5842 849.584 33.7671 847.738 L28.3562 847.738 L28.3562 841.881 L77.5631 841.881 L77.5631 847.738 L58.657 847.738 Z\" fill=\"#000000\" fill-rule=\"nonzero\" fill-opacity=\"1\" /><path clip-path=\"url(#clip850)\" d=\"M49.9359 830.423 L28.3562 830.423 L28.3562 824.566 L49.7131 824.566 Q54.7739 824.566 57.3202 822.593 Q59.8346 820.62 59.8346 816.673 Q59.8346 811.93 56.8109 809.193 Q53.7872 806.424 48.5673 806.424 L28.3562 806.424 L28.3562 800.568 L64.0042 800.568 L64.0042 806.424 L58.5296 806.424 Q61.7762 808.557 63.3676 811.389 Q64.9272 814.19 64.9272 817.914 Q64.9272 824.057 61.1078 827.24 Q57.2883 830.423 49.9359 830.423 M27.4968 815.686 L27.4968 815.686 Z\" fill=\"#000000\" fill-rule=\"nonzero\" fill-opacity=\"1\" /><path clip-path=\"url(#clip850)\" d=\"M44.7161 758.013 L47.5806 758.013 L47.5806 784.94 Q53.6281 784.558 56.8109 781.311 Q59.9619 778.033 59.9619 772.208 Q59.9619 768.835 59.1344 765.684 Q58.3069 762.501 56.6518 759.382 L62.1899 759.382 Q63.5267 762.533 64.227 765.843 Q64.9272 769.153 64.9272 772.559 Q64.9272 781.089 59.9619 786.086 Q54.9967 791.051 46.5303 791.051 Q37.7774 791.051 32.6531 786.34 Q27.4968 781.598 27.4968 773.577 Q27.4968 766.384 32.1438 762.214 Q36.7589 758.013 44.7161 758.013 M42.9973 763.869 Q38.1912 763.933 35.3266 766.575 Q32.4621 769.185 32.4621 773.513 Q32.4621 778.415 35.2312 781.375 Q38.0002 784.303 43.0292 784.749 L42.9973 763.869 Z\" fill=\"#000000\" fill-rule=\"nonzero\" fill-opacity=\"1\" /><path clip-path=\"url(#clip850)\" d=\"M42.4881 718.768 L64.0042 718.768 L64.0042 724.625 L42.679 724.625 Q37.6183 724.625 35.1038 726.598 Q32.5894 728.572 32.5894 732.518 Q32.5894 737.261 35.6131 739.998 Q38.6368 742.735 43.8567 742.735 L64.0042 742.735 L64.0042 748.623 L28.3562 748.623 L28.3562 742.735 L33.8944 742.735 Q30.6797 740.635 29.0883 737.802 Q27.4968 734.937 27.4968 731.213 Q27.4968 725.07 31.3163 721.919 Q35.1038 718.768 42.4881 718.768 Z\" fill=\"#000000\" fill-rule=\"nonzero\" fill-opacity=\"1\" /><path clip-path=\"url(#clip850)\" d=\"M29.7248 681.433 L35.1993 681.433 Q33.8307 683.916 33.1623 686.431 Q32.4621 688.913 32.4621 691.459 Q32.4621 697.157 36.0905 700.308 Q39.6872 703.459 46.212 703.459 Q52.7369 703.459 56.3653 700.308 Q59.9619 697.157 59.9619 691.459 Q59.9619 688.913 59.2935 686.431 Q58.5933 683.916 57.2247 681.433 L62.6355 681.433 Q63.7814 683.884 64.3543 686.526 Q64.9272 689.136 64.9272 692.096 Q64.9272 700.149 59.8664 704.891 Q54.8057 709.634 46.212 709.634 Q37.491 709.634 32.4939 704.859 Q27.4968 700.053 27.4968 691.714 Q27.4968 689.009 28.0697 686.431 Q28.6108 683.852 29.7248 681.433 Z\" fill=\"#000000\" fill-rule=\"nonzero\" fill-opacity=\"1\" /><path clip-path=\"url(#clip850)\" d=\"M67.3143 656.416 Q73.68 658.899 75.6216 661.254 Q77.5631 663.609 77.5631 667.556 L77.5631 672.235 L72.6615 672.235 L72.6615 668.798 Q72.6615 666.379 71.5157 665.042 Q70.3699 663.705 66.1048 662.082 L63.4312 661.031 L28.3562 675.45 L28.3562 669.243 L56.238 658.103 L28.3562 646.963 L28.3562 640.757 L67.3143 656.416 Z\" fill=\"#000000\" fill-rule=\"nonzero\" fill-opacity=\"1\" /><path clip-path=\"url(#clip850)\" d=\"M893.941 18.8205 L893.941 65.8515 L903.825 65.8515 Q916.342 65.8515 922.135 60.1802 Q927.968 54.509 927.968 42.2752 Q927.968 30.1225 922.135 24.4918 Q916.342 18.8205 903.825 18.8205 L893.941 18.8205 M885.758 12.096 L902.569 12.096 Q920.15 12.096 928.373 19.4281 Q936.597 26.7198 936.597 42.2752 Q936.597 57.9117 928.333 65.2439 Q920.069 72.576 902.569 72.576 L885.758 72.576 L885.758 12.096 Z\" fill=\"#000000\" fill-rule=\"nonzero\" fill-opacity=\"1\" /><path clip-path=\"url(#clip850)\" d=\"M988.124 48.0275 L988.124 51.6733 L953.853 51.6733 Q954.339 59.3701 958.471 63.421 Q962.644 67.4314 970.057 67.4314 Q974.351 67.4314 978.361 66.3781 Q982.412 65.3249 986.382 63.2184 L986.382 70.267 Q982.372 71.9684 978.159 72.8596 Q973.946 73.7508 969.611 73.7508 Q958.755 73.7508 952.395 67.4314 Q946.076 61.1119 946.076 50.3365 Q946.076 39.1965 952.071 32.6746 Q958.107 26.1121 968.315 26.1121 Q977.47 26.1121 982.777 32.0264 Q988.124 37.9003 988.124 48.0275 M980.67 45.84 Q980.589 39.7232 977.227 36.0774 Q973.905 32.4315 968.396 32.4315 Q962.158 32.4315 958.39 35.9558 Q954.664 39.4801 954.096 45.8805 L980.67 45.84 Z\" fill=\"#000000\" fill-rule=\"nonzero\" fill-opacity=\"1\" /><path clip-path=\"url(#clip850)\" d=\"M1038.07 45.1919 L1038.07 72.576 L1030.62 72.576 L1030.62 45.4349 Q1030.62 38.994 1028.11 35.7938 Q1025.59 32.5936 1020.57 32.5936 Q1014.54 32.5936 1011.05 36.4419 Q1007.57 40.2903 1007.57 46.9338 L1007.57 72.576 L1000.07 72.576 L1000.07 27.2059 L1007.57 27.2059 L1007.57 34.2544 Q1010.24 30.163 1013.85 28.1376 Q1017.49 26.1121 1022.23 26.1121 Q1030.05 26.1121 1034.06 30.9732 Q1038.07 35.7938 1038.07 45.1919 Z\" fill=\"#000000\" fill-rule=\"nonzero\" fill-opacity=\"1\" /><path clip-path=\"url(#clip850)\" d=\"M1081.86 28.5427 L1081.86 35.5912 Q1078.7 33.9709 1075.3 33.1607 Q1071.9 32.3505 1068.25 32.3505 Q1062.7 32.3505 1059.91 34.0519 Q1057.15 35.7533 1057.15 39.156 Q1057.15 41.7486 1059.14 43.2475 Q1061.12 44.7058 1067.12 46.0426 L1069.67 46.6097 Q1077.61 48.3111 1080.93 51.4303 Q1084.29 54.509 1084.29 60.0587 Q1084.29 66.3781 1079.27 70.0644 Q1074.29 73.7508 1065.54 73.7508 Q1061.89 73.7508 1057.92 73.0216 Q1053.99 72.3329 1049.62 70.9151 L1049.62 63.2184 Q1053.75 65.3654 1057.76 66.4591 Q1061.77 67.5124 1065.7 67.5124 Q1070.97 67.5124 1073.8 65.73 Q1076.64 63.9071 1076.64 60.6258 Q1076.64 57.5877 1074.57 55.9673 Q1072.54 54.3469 1065.62 52.8481 L1063.03 52.2405 Q1056.1 50.7821 1053.02 47.7845 Q1049.94 44.7463 1049.94 39.4801 Q1049.94 33.0797 1054.48 29.5959 Q1059.01 26.1121 1067.36 26.1121 Q1071.49 26.1121 1075.14 26.7198 Q1078.78 27.3274 1081.86 28.5427 Z\" fill=\"#000000\" fill-rule=\"nonzero\" fill-opacity=\"1\" /><path clip-path=\"url(#clip850)\" d=\"M1096.16 27.2059 L1103.62 27.2059 L1103.62 72.576 L1096.16 72.576 L1096.16 27.2059 M1096.16 9.54393 L1103.62 9.54393 L1103.62 18.9825 L1096.16 18.9825 L1096.16 9.54393 Z\" fill=\"#000000\" fill-rule=\"nonzero\" fill-opacity=\"1\" /><path clip-path=\"url(#clip850)\" d=\"M1126.58 14.324 L1126.58 27.2059 L1141.94 27.2059 L1141.94 32.9987 L1126.58 32.9987 L1126.58 57.6282 Q1126.58 63.1779 1128.08 64.7578 Q1129.62 66.3376 1134.28 66.3376 L1141.94 66.3376 L1141.94 72.576 L1134.28 72.576 Q1125.65 72.576 1122.37 69.3758 Q1119.09 66.1351 1119.09 57.6282 L1119.09 32.9987 L1113.62 32.9987 L1113.62 27.2059 L1119.09 27.2059 L1119.09 14.324 L1126.58 14.324 Z\" fill=\"#000000\" fill-rule=\"nonzero\" fill-opacity=\"1\" /><path clip-path=\"url(#clip850)\" d=\"M1170.62 76.7889 Q1167.46 84.8907 1164.46 87.3618 Q1161.46 89.8329 1156.44 89.8329 L1150.48 89.8329 L1150.48 83.5945 L1154.86 83.5945 Q1157.94 83.5945 1159.64 82.1361 Q1161.34 80.6778 1163.41 75.2496 L1164.74 71.8468 L1146.39 27.2059 L1154.29 27.2059 L1168.47 62.6918 L1182.65 27.2059 L1190.55 27.2059 L1170.62 76.7889 Z\" fill=\"#000000\" fill-rule=\"nonzero\" fill-opacity=\"1\" /><path clip-path=\"url(#clip850)\" d=\"M1235.72 18.8205 L1235.72 41.5461 L1246 41.5461 Q1251.72 41.5461 1254.84 38.5889 Q1257.95 35.6318 1257.95 30.163 Q1257.95 24.7348 1254.84 21.7777 Q1251.72 18.8205 1246 18.8205 L1235.72 18.8205 M1227.53 12.096 L1246 12.096 Q1256.17 12.096 1261.36 16.714 Q1266.58 21.2916 1266.58 30.163 Q1266.58 39.1155 1261.36 43.6931 Q1256.17 48.2706 1246 48.2706 L1235.72 48.2706 L1235.72 72.576 L1227.53 72.576 L1227.53 12.096 Z\" fill=\"#000000\" fill-rule=\"nonzero\" fill-opacity=\"1\" /><path clip-path=\"url(#clip850)\" d=\"M1277.24 9.54393 L1284.69 9.54393 L1284.69 72.576 L1277.24 72.576 L1277.24 9.54393 Z\" fill=\"#000000\" fill-rule=\"nonzero\" fill-opacity=\"1\" /><path clip-path=\"url(#clip850)\" d=\"M1317.87 32.4315 Q1311.87 32.4315 1308.39 37.1306 Q1304.9 41.7891 1304.9 49.9314 Q1304.9 58.0738 1308.35 62.7728 Q1311.83 67.4314 1317.87 67.4314 Q1323.82 67.4314 1327.31 62.7323 Q1330.79 58.0333 1330.79 49.9314 Q1330.79 41.8701 1327.31 37.1711 Q1323.82 32.4315 1317.87 32.4315 M1317.87 26.1121 Q1327.59 26.1121 1333.14 32.4315 Q1338.69 38.7509 1338.69 49.9314 Q1338.69 61.0714 1333.14 67.4314 Q1327.59 73.7508 1317.87 73.7508 Q1308.1 73.7508 1302.56 67.4314 Q1297.05 61.0714 1297.05 49.9314 Q1297.05 38.7509 1302.56 32.4315 Q1308.1 26.1121 1317.87 26.1121 Z\" fill=\"#000000\" fill-rule=\"nonzero\" fill-opacity=\"1\" /><path clip-path=\"url(#clip850)\" d=\"M1358.42 14.324 L1358.42 27.2059 L1373.77 27.2059 L1373.77 32.9987 L1358.42 32.9987 L1358.42 57.6282 Q1358.42 63.1779 1359.92 64.7578 Q1361.46 66.3376 1366.11 66.3376 L1373.77 66.3376 L1373.77 72.576 L1366.11 72.576 Q1357.49 72.576 1354.2 69.3758 Q1350.92 66.1351 1350.92 57.6282 L1350.92 32.9987 L1345.45 32.9987 L1345.45 27.2059 L1350.92 27.2059 L1350.92 14.324 L1358.42 14.324 Z\" fill=\"#000000\" fill-rule=\"nonzero\" fill-opacity=\"1\" /><path clip-path=\"url(#clip850)\" d=\"M1406.18 46.5287 L1428.01 46.5287 L1428.01 53.1722 L1406.18 53.1722 L1406.18 46.5287 Z\" fill=\"#000000\" fill-rule=\"nonzero\" fill-opacity=\"1\" /><path clip-path=\"url(#clip850)\" d=\"M1502.83 14.0809 L1502.83 22.0612 Q1498.17 19.8332 1494.04 18.7395 Q1489.91 17.6457 1486.06 17.6457 Q1479.38 17.6457 1475.73 20.2383 Q1472.13 22.8309 1472.13 27.611 Q1472.13 31.6214 1474.52 33.6873 Q1476.95 35.7128 1483.67 36.9686 L1488.61 37.9813 Q1497.77 39.7232 1502.1 44.1387 Q1506.48 48.5136 1506.48 55.8863 Q1506.48 64.6767 1500.56 69.2137 Q1494.69 73.7508 1483.31 73.7508 Q1479.01 73.7508 1474.15 72.7785 Q1469.33 71.8063 1464.15 69.9024 L1464.15 61.4765 Q1469.13 64.2716 1473.91 65.6895 Q1478.69 67.1073 1483.31 67.1073 Q1490.31 67.1073 1494.12 64.3527 Q1497.93 61.598 1497.93 56.4939 Q1497.93 52.0379 1495.18 49.5264 Q1492.46 47.0148 1486.22 45.759 L1481.24 44.7868 Q1472.09 42.9639 1467.99 39.075 Q1463.9 35.1862 1463.9 28.2591 Q1463.9 20.2383 1469.53 15.6203 Q1475.2 11.0023 1485.13 11.0023 Q1489.38 11.0023 1493.8 11.7719 Q1498.21 12.5416 1502.83 14.0809 Z\" fill=\"#000000\" fill-rule=\"nonzero\" fill-opacity=\"1\" /><path clip-path=\"url(#clip850)\" d=\"M1551.56 28.9478 L1551.56 35.9153 Q1548.4 34.1734 1545.2 33.3227 Q1542.04 32.4315 1538.8 32.4315 Q1531.55 32.4315 1527.54 37.0496 Q1523.53 41.6271 1523.53 49.9314 Q1523.53 58.2358 1527.54 62.8538 Q1531.55 67.4314 1538.8 67.4314 Q1542.04 67.4314 1545.2 66.5807 Q1548.4 65.6895 1551.56 63.9476 L1551.56 70.8341 Q1548.45 72.2924 1545.08 73.0216 Q1541.76 73.7508 1537.99 73.7508 Q1527.74 73.7508 1521.71 67.3098 Q1515.67 60.8689 1515.67 49.9314 Q1515.67 38.832 1521.75 32.472 Q1527.87 26.1121 1538.48 26.1121 Q1541.92 26.1121 1545.2 26.8413 Q1548.49 27.5299 1551.56 28.9478 Z\" fill=\"#000000\" fill-rule=\"nonzero\" fill-opacity=\"1\" /><path clip-path=\"url(#clip850)\" d=\"M1582.11 32.4315 Q1576.11 32.4315 1572.63 37.1306 Q1569.15 41.7891 1569.15 49.9314 Q1569.15 58.0738 1572.59 62.7728 Q1576.07 67.4314 1582.11 67.4314 Q1588.06 67.4314 1591.55 62.7323 Q1595.03 58.0333 1595.03 49.9314 Q1595.03 41.8701 1591.55 37.1711 Q1588.06 32.4315 1582.11 32.4315 M1582.11 26.1121 Q1591.83 26.1121 1597.38 32.4315 Q1602.93 38.7509 1602.93 49.9314 Q1602.93 61.0714 1597.38 67.4314 Q1591.83 73.7508 1582.11 73.7508 Q1572.35 73.7508 1566.8 67.4314 Q1561.29 61.0714 1561.29 49.9314 Q1561.29 38.7509 1566.8 32.4315 Q1572.35 26.1121 1582.11 26.1121 Z\" fill=\"#000000\" fill-rule=\"nonzero\" fill-opacity=\"1\" /><path clip-path=\"url(#clip850)\" d=\"M1641.58 34.1734 Q1640.32 33.4443 1638.82 33.1202 Q1637.36 32.7556 1635.58 32.7556 Q1629.26 32.7556 1625.86 36.8875 Q1622.5 40.9789 1622.5 48.6757 L1622.5 72.576 L1615 72.576 L1615 27.2059 L1622.5 27.2059 L1622.5 34.2544 Q1624.85 30.1225 1628.61 28.1376 Q1632.38 26.1121 1637.77 26.1121 Q1638.54 26.1121 1639.47 26.2337 Q1640.4 26.3147 1641.53 26.5172 L1641.58 34.1734 Z\" fill=\"#000000\" fill-rule=\"nonzero\" fill-opacity=\"1\" /><path clip-path=\"url(#clip850)\" d=\"M1686.38 48.0275 L1686.38 51.6733 L1652.11 51.6733 Q1652.59 59.3701 1656.73 63.421 Q1660.9 67.4314 1668.31 67.4314 Q1672.61 67.4314 1676.62 66.3781 Q1680.67 65.3249 1684.64 63.2184 L1684.64 70.267 Q1680.63 71.9684 1676.41 72.8596 Q1672.2 73.7508 1667.87 73.7508 Q1657.01 73.7508 1650.65 67.4314 Q1644.33 61.1119 1644.33 50.3365 Q1644.33 39.1965 1650.33 32.6746 Q1656.36 26.1121 1666.57 26.1121 Q1675.72 26.1121 1681.03 32.0264 Q1686.38 37.9003 1686.38 48.0275 M1678.92 45.84 Q1678.84 39.7232 1675.48 36.0774 Q1672.16 32.4315 1666.65 32.4315 Q1660.41 32.4315 1656.64 35.9558 Q1652.92 39.4801 1652.35 45.8805 L1678.92 45.84 Z\" fill=\"#000000\" fill-rule=\"nonzero\" fill-opacity=\"1\" /><polyline clip-path=\"url(#clip852)\" style=\"stroke:#009af9; stroke-linecap:round; stroke-linejoin:round; stroke-width:4; stroke-opacity:1; fill:none\" points=\"279.759,1447.85 289.872,1447.82 299.986,1447.78 310.1,1447.72 320.213,1447.62 330.327,1447.48 340.441,1447.26 350.554,1446.94 360.668,1446.48 370.782,1445.83 380.895,1444.9 391.009,1443.62 401.123,1441.86 411.236,1439.47 421.35,1436.28 431.464,1432.06 441.577,1426.56 451.691,1419.49 461.805,1410.5 471.918,1399.24 482.032,1385.3 492.146,1368.28 502.259,1347.77 512.373,1323.39 522.487,1294.77 532.6,1261.64 542.714,1223.79 552.828,1181.15 562.941,1133.74 573.055,1081.77 583.169,1025.57 593.282,965.661 603.396,902.689 613.51,837.449 623.623,770.844 633.737,703.856 643.851,637.509 653.964,572.829 664.078,510.8 674.192,452.329 684.305,398.209 694.419,349.094 704.532,305.478 714.646,267.69 724.76,235.89 734.873,210.08 744.987,190.116 755.101,175.733 765.214,166.565 775.328,162.167 785.442,162.047 795.555,165.679 805.669,172.528 815.783,182.063 825.896,193.774 836.01,207.178 846.124,221.831 856.237,237.334 866.351,253.338 876.465,269.55 886.578,285.734 896.692,301.717 906.806,317.382 916.919,332.671 927.033,347.58 937.147,362.148 947.26,376.449 957.374,390.58 967.488,404.65 977.601,418.766 987.715,433.021 997.829,447.487 1007.94,462.209 1018.06,477.204 1028.17,492.458 1038.28,507.935 1048.4,523.586 1058.51,539.351 1068.62,555.175 1078.74,571.013 1088.85,586.84 1098.97,602.651 1109.08,618.464 1119.19,634.321 1129.31,650.278 1139.42,666.405 1149.53,682.772 1159.65,699.445 1169.76,716.48 1179.87,733.913 1189.99,751.76 1200.1,770.015 1210.22,788.652 1220.33,807.622 1230.44,826.865 1240.56,846.312 1250.67,865.887 1260.78,885.516 1270.9,905.13 1281.01,924.664 1291.12,944.062 1301.24,963.274 1311.35,982.254 1321.47,1000.96 1331.58,1019.34 1341.69,1037.35 1351.81,1054.91 1361.92,1071.98 1372.03,1088.45 1382.15,1104.23 1392.26,1119.23 1402.38,1133.34 1412.49,1146.45 1422.6,1158.49 1432.72,1169.37 1442.83,1179.03 1452.94,1187.46 1463.06,1194.66 1473.17,1200.68 1483.28,1205.6 1493.4,1209.52 1503.51,1212.57 1513.63,1214.91 1523.74,1216.7 1533.85,1218.1 1543.97,1219.25 1554.08,1220.27 1564.19,1221.28 1574.31,1222.34 1584.42,1223.49 1594.53,1224.72 1604.65,1226.03 1614.76,1227.35 1624.88,1228.65 1634.99,1229.86 1645.1,1230.95 1655.22,1231.88 1665.33,1232.65 1675.44,1233.3 1685.56,1233.89 1695.67,1234.5 1705.78,1235.26 1715.9,1236.31 1726.01,1237.78 1736.13,1239.82 1746.24,1242.58 1756.35,1246.14 1766.47,1250.6 1776.58,1256 1786.69,1262.34 1796.81,1269.59 1806.92,1277.66 1817.04,1286.45 1827.15,1295.83 1837.26,1305.64 1847.38,1315.72 1857.49,1325.91 1867.6,1336.05 1877.72,1345.99 1887.83,1355.61 1897.94,1364.81 1908.06,1373.5 1918.17,1381.64 1928.29,1389.18 1938.4,1396.11 1948.51,1402.44 1958.63,1408.18 1968.74,1413.35 1978.85,1417.98 1988.97,1422.12 1999.08,1425.8 2009.19,1429.06 2019.31,1431.92 2029.42,1434.44 2039.54,1436.63 2049.65,1438.53 2059.76,1440.17 2069.88,1441.57 2079.99,1442.77 2090.1,1443.77 2100.22,1444.61 2110.33,1445.3 2120.45,1445.87 2130.56,1446.33 2140.67,1446.7 2150.79,1446.99 2160.9,1447.22 2171.01,1447.39 2181.13,1447.53 2191.24,1447.63 2201.35,1447.71 2211.47,1447.76 2221.58,1447.8 2231.7,1447.83 2241.81,1447.85 2251.92,1447.86 2262.04,1447.87 2272.15,1447.87 2282.26,1447.87 2292.38,1447.86 \"/>\n",
       "<path clip-path=\"url(#clip850)\" d=\"M2015.88 272.585 L2281.64 272.585 L2281.64 168.905 L2015.88 168.905  Z\" fill=\"#ffffff\" fill-rule=\"evenodd\" fill-opacity=\"1\"/>\n",
       "<polyline clip-path=\"url(#clip850)\" style=\"stroke:#000000; stroke-linecap:round; stroke-linejoin:round; stroke-width:4; stroke-opacity:1; fill:none\" points=\"2015.88,272.585 2281.64,272.585 2281.64,168.905 2015.88,168.905 2015.88,272.585 \"/>\n",
       "<polyline clip-path=\"url(#clip850)\" style=\"stroke:#009af9; stroke-linecap:round; stroke-linejoin:round; stroke-width:4; stroke-opacity:1; fill:none\" points=\"2039.58,220.745 2181.8,220.745 \"/>\n",
       "<path clip-path=\"url(#clip850)\" d=\"M2219.35 240.432 Q2217.55 245.062 2215.83 246.474 Q2214.12 247.886 2211.25 247.886 L2207.85 247.886 L2207.85 244.321 L2210.35 244.321 Q2212.11 244.321 2213.08 243.488 Q2214.05 242.654 2215.23 239.552 L2215.99 237.608 L2205.51 212.099 L2210.02 212.099 L2218.12 232.377 L2226.23 212.099 L2230.74 212.099 L2219.35 240.432 Z\" fill=\"#000000\" fill-rule=\"nonzero\" fill-opacity=\"1\" /><path clip-path=\"url(#clip850)\" d=\"M2238.03 234.089 L2245.67 234.089 L2245.67 207.724 L2237.36 209.391 L2237.36 205.131 L2245.62 203.465 L2250.3 203.465 L2250.3 234.089 L2257.94 234.089 L2257.94 238.025 L2238.03 238.025 L2238.03 234.089 Z\" fill=\"#000000\" fill-rule=\"nonzero\" fill-opacity=\"1\" /></svg>\n"
      ]
     },
     "execution_count": 22,
     "metadata": {},
     "output_type": "execute_result"
    }
   ],
   "source": [
    "density(anime.Score, title = \"Density Plot(Score)\", ylabel = \"Frequency\")"
   ]
  },
  {
   "cell_type": "markdown",
   "id": "555e7313",
   "metadata": {},
   "source": [
    "### Convert categorical features to numeric features"
   ]
  },
  {
   "cell_type": "code",
   "execution_count": 33,
   "id": "d2cebac8",
   "metadata": {},
   "outputs": [
    {
     "data": {
      "text/plain": [
       "10-element Vector{Int64}:\n",
       " 1\n",
       " 2\n",
       " 3\n",
       " 4\n",
       " 5\n",
       " 6\n",
       " 7\n",
       " 5\n",
       " 8\n",
       " 9"
      ]
     },
     "execution_count": 33,
     "metadata": {},
     "output_type": "execute_result"
    }
   ],
   "source": [
    "type_studio = labelmap(anime.Studio)\n",
    "anime.Studio = labelencode(type_studio, anime.Studio)\n",
    "first(anime.Studio,10)"
   ]
  },
  {
   "cell_type": "code",
   "execution_count": 34,
   "id": "7978a401",
   "metadata": {
    "scrolled": true
   },
   "outputs": [
    {
     "data": {
      "text/plain": [
       "10-element Vector{Int64}:\n",
       " 1\n",
       " 2\n",
       " 2\n",
       " 2\n",
       " 2\n",
       " 2\n",
       " 2\n",
       " 3\n",
       " 2\n",
       " 2"
      ]
     },
     "execution_count": 34,
     "metadata": {},
     "output_type": "execute_result"
    }
   ],
   "source": [
    "type_label = labelmap(anime.Type)\n",
    "anime.Type = labelencode(type_label, anime.Type)\n",
    "first(anime.Type,10)"
   ]
  },
  {
   "cell_type": "code",
   "execution_count": 35,
   "id": "127ae8d2",
   "metadata": {
    "scrolled": true
   },
   "outputs": [
    {
     "data": {
      "text/plain": [
       "10-element Vector{Int64}:\n",
       " 1\n",
       " 2\n",
       " 3\n",
       " 4\n",
       " 5\n",
       " 6\n",
       " 7\n",
       " 8\n",
       " 5\n",
       " 3"
      ]
     },
     "execution_count": 35,
     "metadata": {},
     "output_type": "execute_result"
    }
   ],
   "source": [
    "type_genre = labelmap(anime.Genre)\n",
    "anime.Genre = labelencode(type_genre, anime.Genre)\n",
    "first(anime.Genre,10)"
   ]
  },
  {
   "cell_type": "markdown",
   "id": "3aa26d36",
   "metadata": {},
   "source": [
    "### Check for the implemented changes"
   ]
  },
  {
   "cell_type": "code",
   "execution_count": 37,
   "id": "594c490b",
   "metadata": {
    "scrolled": true
   },
   "outputs": [
    {
     "data": {
      "text/html": [
       "<table class=\"data-frame\"><thead><tr><th></th><th>Rank</th><th>Title</th><th>Popularity</th><th>Genre</th><th>Studio</th></tr><tr><th></th><th>Int64</th><th>String</th><th>Int64</th><th>Int64</th><th>Int64</th></tr></thead><tbody><p>7 rows × 12 columns (omitted printing of 7 columns)</p><tr><th>1</th><td>1</td><td>Shingeki no Kyojin: The Final Season - Kanketsu-hen</td><td>609</td><td>1</td><td>1</td></tr><tr><th>2</th><td>2</td><td>Fullmetal Alchemist: Brotherhood</td><td>3</td><td>2</td><td>2</td></tr><tr><th>3</th><td>3</td><td>Bleach: Sennen Kessen-hen</td><td>508</td><td>3</td><td>3</td></tr><tr><th>4</th><td>4</td><td>Steins;Gate</td><td>13</td><td>4</td><td>4</td></tr><tr><th>5</th><td>5</td><td>Gintama\\xb0</td><td>335</td><td>5</td><td>5</td></tr><tr><th>6</th><td>6</td><td>Kaguya-sama wa Kokurasetai: Ultra Romantic</td><td>221</td><td>6</td><td>6</td></tr><tr><th>7</th><td>7</td><td>Shingeki no Kyojin Season 3 Part 2</td><td>26</td><td>7</td><td>7</td></tr></tbody></table>"
      ],
      "text/latex": [
       "\\begin{tabular}{r|cccccc}\n",
       "\t& Rank & Title & Popularity & Genre & Studio & \\\\\n",
       "\t\\hline\n",
       "\t& Int64 & String & Int64 & Int64 & Int64 & \\\\\n",
       "\t\\hline\n",
       "\t1 & 1 & Shingeki no Kyojin: The Final Season - Kanketsu-hen & 609 & 1 & 1 & $\\dots$ \\\\\n",
       "\t2 & 2 & Fullmetal Alchemist: Brotherhood & 3 & 2 & 2 & $\\dots$ \\\\\n",
       "\t3 & 3 & Bleach: Sennen Kessen-hen & 508 & 3 & 3 & $\\dots$ \\\\\n",
       "\t4 & 4 & Steins;Gate & 13 & 4 & 4 & $\\dots$ \\\\\n",
       "\t5 & 5 & Gintama\\textbackslash{}xb0 & 335 & 5 & 5 & $\\dots$ \\\\\n",
       "\t6 & 6 & Kaguya-sama wa Kokurasetai: Ultra Romantic & 221 & 6 & 6 & $\\dots$ \\\\\n",
       "\t7 & 7 & Shingeki no Kyojin Season 3 Part 2 & 26 & 7 & 7 & $\\dots$ \\\\\n",
       "\\end{tabular}\n"
      ],
      "text/plain": [
       "\u001b[1m7×12 DataFrame\u001b[0m\n",
       "\u001b[1m Row \u001b[0m│\u001b[1m Rank  \u001b[0m\u001b[1m Title                             \u001b[0m\u001b[1m Popularity \u001b[0m\u001b[1m Genre \u001b[0m\u001b[1m Studio \u001b[0m\u001b[1m Ty\u001b[0m ⋯\n",
       "\u001b[1m     \u001b[0m│\u001b[90m Int64 \u001b[0m\u001b[90m String                            \u001b[0m\u001b[90m Int64      \u001b[0m\u001b[90m Int64 \u001b[0m\u001b[90m Int64  \u001b[0m\u001b[90m In\u001b[0m ⋯\n",
       "─────┼──────────────────────────────────────────────────────────────────────────\n",
       "   1 │     1  Shingeki no Kyojin: The Final Se…         609      1       1     ⋯\n",
       "   2 │     2  Fullmetal Alchemist: Brotherhood            3      2       2\n",
       "   3 │     3  Bleach: Sennen Kessen-hen                 508      3       3\n",
       "   4 │     4  Steins;Gate                                13      4       4\n",
       "   5 │     5  Gintama\\xb0                               335      5       5     ⋯\n",
       "   6 │     6  Kaguya-sama wa Kokurasetai: Ultr…         221      6       6\n",
       "   7 │     7  Shingeki no Kyojin Season 3 Part…          26      7       7\n",
       "\u001b[36m                                                               7 columns omitted\u001b[0m"
      ]
     },
     "execution_count": 37,
     "metadata": {},
     "output_type": "execute_result"
    }
   ],
   "source": [
    "first(anime,7)"
   ]
  },
  {
   "cell_type": "markdown",
   "id": "a5993fba",
   "metadata": {},
   "source": [
    "### Find correlation between independent and dependent feature"
   ]
  },
  {
   "cell_type": "code",
   "execution_count": 49,
   "id": "1d8a5b17",
   "metadata": {},
   "outputs": [
    {
     "name": "stdout",
     "output_type": "stream",
     "text": [
      "Correlation of Score with Members is 0.2339029257320871\n",
      "\n",
      "Correlation of Score with Popularity is -0.20843719916912262\n",
      "\n",
      "Correlation of Score with Duration is 0.028020908147687977\n",
      "\n",
      "Correlation of Score with Genre is -0.5286540189816035\n",
      "\n",
      "Correlation of Score with Studio is -0.42591232239494387\n",
      "\n",
      "Correlation of Score with Type is -0.061174394846141\n",
      "\n",
      "Correlation of Score with Episodes is 0.17095915906426665\n",
      "\n"
     ]
    }
   ],
   "source": [
    "# Correlation Analysis\n",
    "println(\"Correlation of Score with Members is \", cor(anime.Score,anime.Members), \"\\n\")\n",
    "println(\"Correlation of Score with Popularity is \", cor(anime.Score,anime.Popularity), \"\\n\")\n",
    "println(\"Correlation of Score with Duration is \", cor(anime.Score,anime.Duration), \"\\n\")\n",
    "println(\"Correlation of Score with Genre is \", cor(anime.Score,anime.Genre), \"\\n\")\n",
    "println(\"Correlation of Score with Studio is \", cor(anime.Score,anime.Studio), \"\\n\")\n",
    "println(\"Correlation of Score with Type is \", cor(anime.Score,anime.Type), \"\\n\")\n",
    "println(\"Correlation of Score with Episodes is \", cor(anime.Score,anime.Episodes), \"\\n\")"
   ]
  },
  {
   "cell_type": "code",
   "execution_count": 50,
   "id": "ab3b9927",
   "metadata": {},
   "outputs": [
    {
     "data": {
      "image/svg+xml": [
       "<?xml version=\"1.0\" encoding=\"utf-8\"?>\n",
       "<svg xmlns=\"http://www.w3.org/2000/svg\" xmlns:xlink=\"http://www.w3.org/1999/xlink\" width=\"600\" height=\"400\" viewBox=\"0 0 2400 1600\">\n",
       "<defs>\n",
       "  <clipPath id=\"clip930\">\n",
       "    <rect x=\"0\" y=\"0\" width=\"2400\" height=\"1600\"/>\n",
       "  </clipPath>\n",
       "</defs>\n",
       "<path clip-path=\"url(#clip930)\" d=\"M0 1600 L2400 1600 L2400 0 L0 0  Z\" fill=\"#ffffff\" fill-rule=\"evenodd\" fill-opacity=\"1\"/>\n",
       "<defs>\n",
       "  <clipPath id=\"clip931\">\n",
       "    <rect x=\"480\" y=\"0\" width=\"1681\" height=\"1600\"/>\n",
       "  </clipPath>\n",
       "</defs>\n",
       "<path clip-path=\"url(#clip930)\" d=\"M219.774 1410.9 L2352.76 1410.9 L2352.76 123.472 L219.774 123.472  Z\" fill=\"#ffffff\" fill-rule=\"evenodd\" fill-opacity=\"1\"/>\n",
       "<defs>\n",
       "  <clipPath id=\"clip932\">\n",
       "    <rect x=\"219\" y=\"123\" width=\"2134\" height=\"1288\"/>\n",
       "  </clipPath>\n",
       "</defs>\n",
       "<polyline clip-path=\"url(#clip932)\" style=\"stroke:#000000; stroke-linecap:round; stroke-linejoin:round; stroke-width:2; stroke-opacity:0.1; fill:none\" points=\"274.337,1410.9 274.337,123.472 \"/>\n",
       "<polyline clip-path=\"url(#clip932)\" style=\"stroke:#000000; stroke-linecap:round; stroke-linejoin:round; stroke-width:2; stroke-opacity:0.1; fill:none\" points=\"823.685,1410.9 823.685,123.472 \"/>\n",
       "<polyline clip-path=\"url(#clip932)\" style=\"stroke:#000000; stroke-linecap:round; stroke-linejoin:round; stroke-width:2; stroke-opacity:0.1; fill:none\" points=\"1373.03,1410.9 1373.03,123.472 \"/>\n",
       "<polyline clip-path=\"url(#clip932)\" style=\"stroke:#000000; stroke-linecap:round; stroke-linejoin:round; stroke-width:2; stroke-opacity:0.1; fill:none\" points=\"1922.38,1410.9 1922.38,123.472 \"/>\n",
       "<polyline clip-path=\"url(#clip930)\" style=\"stroke:#000000; stroke-linecap:round; stroke-linejoin:round; stroke-width:4; stroke-opacity:1; fill:none\" points=\"219.774,1410.9 2352.76,1410.9 \"/>\n",
       "<polyline clip-path=\"url(#clip930)\" style=\"stroke:#000000; stroke-linecap:round; stroke-linejoin:round; stroke-width:4; stroke-opacity:1; fill:none\" points=\"274.337,1410.9 274.337,1392 \"/>\n",
       "<polyline clip-path=\"url(#clip930)\" style=\"stroke:#000000; stroke-linecap:round; stroke-linejoin:round; stroke-width:4; stroke-opacity:1; fill:none\" points=\"823.685,1410.9 823.685,1392 \"/>\n",
       "<polyline clip-path=\"url(#clip930)\" style=\"stroke:#000000; stroke-linecap:round; stroke-linejoin:round; stroke-width:4; stroke-opacity:1; fill:none\" points=\"1373.03,1410.9 1373.03,1392 \"/>\n",
       "<polyline clip-path=\"url(#clip930)\" style=\"stroke:#000000; stroke-linecap:round; stroke-linejoin:round; stroke-width:4; stroke-opacity:1; fill:none\" points=\"1922.38,1410.9 1922.38,1392 \"/>\n",
       "<path clip-path=\"url(#clip930)\" d=\"M274.337 1441.82 Q270.726 1441.82 268.897 1445.38 Q267.091 1448.92 267.091 1456.05 Q267.091 1463.16 268.897 1466.72 Q270.726 1470.26 274.337 1470.26 Q277.971 1470.26 279.776 1466.72 Q281.605 1463.16 281.605 1456.05 Q281.605 1448.92 279.776 1445.38 Q277.971 1441.82 274.337 1441.82 M274.337 1438.11 Q280.147 1438.11 283.202 1442.72 Q286.281 1447.3 286.281 1456.05 Q286.281 1464.78 283.202 1469.38 Q280.147 1473.97 274.337 1473.97 Q268.527 1473.97 265.448 1469.38 Q262.392 1464.78 262.392 1456.05 Q262.392 1447.3 265.448 1442.72 Q268.527 1438.11 274.337 1438.11 Z\" fill=\"#000000\" fill-rule=\"nonzero\" fill-opacity=\"1\" /><path clip-path=\"url(#clip930)\" d=\"M731.12 1485.02 L738.759 1485.02 L738.759 1458.66 L730.449 1460.32 L730.449 1456.06 L738.712 1454.4 L743.388 1454.4 L743.388 1485.02 L751.027 1485.02 L751.027 1488.96 L731.12 1488.96 L731.12 1485.02 Z\" fill=\"#000000\" fill-rule=\"nonzero\" fill-opacity=\"1\" /><path clip-path=\"url(#clip930)\" d=\"M760.472 1483.08 L765.356 1483.08 L765.356 1488.96 L760.472 1488.96 L760.472 1483.08 Z\" fill=\"#000000\" fill-rule=\"nonzero\" fill-opacity=\"1\" /><path clip-path=\"url(#clip930)\" d=\"M785.541 1457.48 Q781.93 1457.48 780.101 1461.04 Q778.296 1464.58 778.296 1471.71 Q778.296 1478.82 780.101 1482.38 Q781.93 1485.92 785.541 1485.92 Q789.175 1485.92 790.981 1482.38 Q792.809 1478.82 792.809 1471.71 Q792.809 1464.58 790.981 1461.04 Q789.175 1457.48 785.541 1457.48 M785.541 1453.77 Q791.351 1453.77 794.407 1458.38 Q797.485 1462.96 797.485 1471.71 Q797.485 1480.44 794.407 1485.04 Q791.351 1489.63 785.541 1489.63 Q779.731 1489.63 776.652 1485.04 Q773.597 1480.44 773.597 1471.71 Q773.597 1462.96 776.652 1458.38 Q779.731 1453.77 785.541 1453.77 Z\" fill=\"#000000\" fill-rule=\"nonzero\" fill-opacity=\"1\" /><path clip-path=\"url(#clip930)\" d=\"M833.874 1463.49 L823.295 1474.12 L833.874 1484.7 L831.119 1487.5 L820.494 1476.87 L809.87 1487.5 L807.138 1484.7 L817.694 1474.12 L807.138 1463.49 L809.87 1460.69 L820.494 1471.32 L831.119 1460.69 L833.874 1463.49 Z\" fill=\"#000000\" fill-rule=\"nonzero\" fill-opacity=\"1\" /><path clip-path=\"url(#clip930)\" d=\"M846.235 1485.02 L853.874 1485.02 L853.874 1458.66 L845.564 1460.32 L845.564 1456.06 L853.828 1454.4 L858.504 1454.4 L858.504 1485.02 L866.142 1485.02 L866.142 1488.96 L846.235 1488.96 L846.235 1485.02 Z\" fill=\"#000000\" fill-rule=\"nonzero\" fill-opacity=\"1\" /><path clip-path=\"url(#clip930)\" d=\"M885.587 1457.48 Q881.976 1457.48 880.147 1461.04 Q878.341 1464.58 878.341 1471.71 Q878.341 1478.82 880.147 1482.38 Q881.976 1485.92 885.587 1485.92 Q889.221 1485.92 891.026 1482.38 Q892.855 1478.82 892.855 1471.71 Q892.855 1464.58 891.026 1461.04 Q889.221 1457.48 885.587 1457.48 M885.587 1453.77 Q891.397 1453.77 894.452 1458.38 Q897.531 1462.96 897.531 1471.71 Q897.531 1480.44 894.452 1485.04 Q891.397 1489.63 885.587 1489.63 Q879.777 1489.63 876.698 1485.04 Q873.642 1480.44 873.642 1471.71 Q873.642 1462.96 876.698 1458.38 Q879.777 1453.77 885.587 1453.77 Z\" fill=\"#000000\" fill-rule=\"nonzero\" fill-opacity=\"1\" /><path clip-path=\"url(#clip930)\" d=\"M907.556 1445.99 Q904.998 1445.99 903.493 1447.74 Q902.007 1449.49 902.007 1452.54 Q902.007 1455.57 903.493 1457.33 Q904.998 1459.08 907.556 1459.08 Q910.113 1459.08 911.599 1457.33 Q913.104 1455.57 913.104 1452.54 Q913.104 1449.49 911.599 1447.74 Q910.113 1445.99 907.556 1445.99 M915.098 1434.09 L915.098 1437.55 Q913.668 1436.87 912.201 1436.51 Q910.753 1436.16 909.324 1436.16 Q905.562 1436.16 903.568 1438.69 Q901.594 1441.23 901.311 1446.37 Q902.421 1444.73 904.095 1443.87 Q905.769 1442.98 907.781 1442.98 Q912.013 1442.98 914.458 1445.56 Q916.922 1448.12 916.922 1452.54 Q916.922 1456.86 914.364 1459.48 Q911.806 1462.09 907.556 1462.09 Q902.684 1462.09 900.108 1458.37 Q897.531 1454.62 897.531 1447.53 Q897.531 1440.88 900.691 1436.93 Q903.85 1432.96 909.173 1432.96 Q910.602 1432.96 912.051 1433.24 Q913.518 1433.52 915.098 1434.09 Z\" fill=\"#000000\" fill-rule=\"nonzero\" fill-opacity=\"1\" /><path clip-path=\"url(#clip930)\" d=\"M1284.55 1485.02 L1300.87 1485.02 L1300.87 1488.96 L1278.93 1488.96 L1278.93 1485.02 Q1281.59 1482.27 1286.17 1477.64 Q1290.78 1472.98 1291.96 1471.64 Q1294.21 1469.12 1295.09 1467.38 Q1295.99 1465.62 1295.99 1463.93 Q1295.99 1461.18 1294.04 1459.44 Q1292.12 1457.71 1289.02 1457.71 Q1286.82 1457.71 1284.37 1458.47 Q1281.94 1459.23 1279.16 1460.79 L1279.16 1456.06 Q1281.98 1454.93 1284.44 1454.35 Q1286.89 1453.77 1288.93 1453.77 Q1294.3 1453.77 1297.49 1456.46 Q1300.69 1459.14 1300.69 1463.63 Q1300.69 1465.76 1299.88 1467.68 Q1299.09 1469.58 1296.98 1472.17 Q1296.41 1472.85 1293.3 1476.06 Q1290.2 1479.26 1284.55 1485.02 Z\" fill=\"#000000\" fill-rule=\"nonzero\" fill-opacity=\"1\" /><path clip-path=\"url(#clip930)\" d=\"M1310.69 1483.08 L1315.57 1483.08 L1315.57 1488.96 L1310.69 1488.96 L1310.69 1483.08 Z\" fill=\"#000000\" fill-rule=\"nonzero\" fill-opacity=\"1\" /><path clip-path=\"url(#clip930)\" d=\"M1335.76 1457.48 Q1332.15 1457.48 1330.32 1461.04 Q1328.51 1464.58 1328.51 1471.71 Q1328.51 1478.82 1330.32 1482.38 Q1332.15 1485.92 1335.76 1485.92 Q1339.39 1485.92 1341.2 1482.38 Q1343.03 1478.82 1343.03 1471.71 Q1343.03 1464.58 1341.2 1461.04 Q1339.39 1457.48 1335.76 1457.48 M1335.76 1453.77 Q1341.57 1453.77 1344.62 1458.38 Q1347.7 1462.96 1347.7 1471.71 Q1347.7 1480.44 1344.62 1485.04 Q1341.57 1489.63 1335.76 1489.63 Q1329.95 1489.63 1326.87 1485.04 Q1323.81 1480.44 1323.81 1471.71 Q1323.81 1462.96 1326.87 1458.38 Q1329.95 1453.77 1335.76 1453.77 Z\" fill=\"#000000\" fill-rule=\"nonzero\" fill-opacity=\"1\" /><path clip-path=\"url(#clip930)\" d=\"M1384.09 1463.49 L1373.51 1474.12 L1384.09 1484.7 L1381.34 1487.5 L1370.71 1476.87 L1360.09 1487.5 L1357.35 1484.7 L1367.91 1474.12 L1357.35 1463.49 L1360.09 1460.69 L1370.71 1471.32 L1381.34 1460.69 L1384.09 1463.49 Z\" fill=\"#000000\" fill-rule=\"nonzero\" fill-opacity=\"1\" /><path clip-path=\"url(#clip930)\" d=\"M1396.45 1485.02 L1404.09 1485.02 L1404.09 1458.66 L1395.78 1460.32 L1395.78 1456.06 L1404.04 1454.4 L1408.72 1454.4 L1408.72 1485.02 L1416.36 1485.02 L1416.36 1488.96 L1396.45 1488.96 L1396.45 1485.02 Z\" fill=\"#000000\" fill-rule=\"nonzero\" fill-opacity=\"1\" /><path clip-path=\"url(#clip930)\" d=\"M1435.8 1457.48 Q1432.19 1457.48 1430.36 1461.04 Q1428.56 1464.58 1428.56 1471.71 Q1428.56 1478.82 1430.36 1482.38 Q1432.19 1485.92 1435.8 1485.92 Q1439.44 1485.92 1441.24 1482.38 Q1443.07 1478.82 1443.07 1471.71 Q1443.07 1464.58 1441.24 1461.04 Q1439.44 1457.48 1435.8 1457.48 M1435.8 1453.77 Q1441.61 1453.77 1444.67 1458.38 Q1447.75 1462.96 1447.75 1471.71 Q1447.75 1480.44 1444.67 1485.04 Q1441.61 1489.63 1435.8 1489.63 Q1429.99 1489.63 1426.91 1485.04 Q1423.86 1480.44 1423.86 1471.71 Q1423.86 1462.96 1426.91 1458.38 Q1429.99 1453.77 1435.8 1453.77 Z\" fill=\"#000000\" fill-rule=\"nonzero\" fill-opacity=\"1\" /><path clip-path=\"url(#clip930)\" d=\"M1457.77 1445.99 Q1455.21 1445.99 1453.71 1447.74 Q1452.22 1449.49 1452.22 1452.54 Q1452.22 1455.57 1453.71 1457.33 Q1455.21 1459.08 1457.77 1459.08 Q1460.33 1459.08 1461.82 1457.33 Q1463.32 1455.57 1463.32 1452.54 Q1463.32 1449.49 1461.82 1447.74 Q1460.33 1445.99 1457.77 1445.99 M1465.31 1434.09 L1465.31 1437.55 Q1463.88 1436.87 1462.42 1436.51 Q1460.97 1436.16 1459.54 1436.16 Q1455.78 1436.16 1453.79 1438.69 Q1451.81 1441.23 1451.53 1446.37 Q1452.64 1444.73 1454.31 1443.87 Q1455.99 1442.98 1458 1442.98 Q1462.23 1442.98 1464.67 1445.56 Q1467.14 1448.12 1467.14 1452.54 Q1467.14 1456.86 1464.58 1459.48 Q1462.02 1462.09 1457.77 1462.09 Q1452.9 1462.09 1450.32 1458.37 Q1447.75 1454.62 1447.75 1447.53 Q1447.75 1440.88 1450.91 1436.93 Q1454.07 1432.96 1459.39 1432.96 Q1460.82 1432.96 1462.27 1433.24 Q1463.73 1433.52 1465.31 1434.09 Z\" fill=\"#000000\" fill-rule=\"nonzero\" fill-opacity=\"1\" /><path clip-path=\"url(#clip930)\" d=\"M1843.97 1470.32 Q1847.33 1471.04 1849.2 1473.31 Q1851.1 1475.58 1851.1 1478.91 Q1851.1 1484.03 1847.58 1486.83 Q1844.06 1489.63 1837.58 1489.63 Q1835.41 1489.63 1833.09 1489.19 Q1830.8 1488.77 1828.35 1487.91 L1828.35 1483.4 Q1830.29 1484.54 1832.61 1485.11 Q1834.92 1485.69 1837.44 1485.69 Q1841.84 1485.69 1844.13 1483.96 Q1846.45 1482.22 1846.45 1478.91 Q1846.45 1475.85 1844.3 1474.14 Q1842.17 1472.41 1838.35 1472.41 L1834.32 1472.41 L1834.32 1468.56 L1838.53 1468.56 Q1841.98 1468.56 1843.81 1467.2 Q1845.64 1465.81 1845.64 1463.22 Q1845.64 1460.55 1843.74 1459.14 Q1841.87 1457.71 1838.35 1457.71 Q1836.43 1457.71 1834.23 1458.12 Q1832.03 1458.54 1829.39 1459.42 L1829.39 1455.25 Q1832.05 1454.51 1834.37 1454.14 Q1836.7 1453.77 1838.76 1453.77 Q1844.09 1453.77 1847.19 1456.2 Q1850.29 1458.61 1850.29 1462.73 Q1850.29 1465.6 1848.65 1467.59 Q1847 1469.56 1843.97 1470.32 Z\" fill=\"#000000\" fill-rule=\"nonzero\" fill-opacity=\"1\" /><path clip-path=\"url(#clip930)\" d=\"M1859.97 1483.08 L1864.85 1483.08 L1864.85 1488.96 L1859.97 1488.96 L1859.97 1483.08 Z\" fill=\"#000000\" fill-rule=\"nonzero\" fill-opacity=\"1\" /><path clip-path=\"url(#clip930)\" d=\"M1885.04 1457.48 Q1881.43 1457.48 1879.6 1461.04 Q1877.79 1464.58 1877.79 1471.71 Q1877.79 1478.82 1879.6 1482.38 Q1881.43 1485.92 1885.04 1485.92 Q1888.67 1485.92 1890.48 1482.38 Q1892.31 1478.82 1892.31 1471.71 Q1892.31 1464.58 1890.48 1461.04 Q1888.67 1457.48 1885.04 1457.48 M1885.04 1453.77 Q1890.85 1453.77 1893.9 1458.38 Q1896.98 1462.96 1896.98 1471.71 Q1896.98 1480.44 1893.9 1485.04 Q1890.85 1489.63 1885.04 1489.63 Q1879.23 1489.63 1876.15 1485.04 Q1873.09 1480.44 1873.09 1471.71 Q1873.09 1462.96 1876.15 1458.38 Q1879.23 1453.77 1885.04 1453.77 Z\" fill=\"#000000\" fill-rule=\"nonzero\" fill-opacity=\"1\" /><path clip-path=\"url(#clip930)\" d=\"M1933.37 1463.49 L1922.79 1474.12 L1933.37 1484.7 L1930.62 1487.5 L1919.99 1476.87 L1909.37 1487.5 L1906.63 1484.7 L1917.19 1474.12 L1906.63 1463.49 L1909.37 1460.69 L1919.99 1471.32 L1930.62 1460.69 L1933.37 1463.49 Z\" fill=\"#000000\" fill-rule=\"nonzero\" fill-opacity=\"1\" /><path clip-path=\"url(#clip930)\" d=\"M1945.73 1485.02 L1953.37 1485.02 L1953.37 1458.66 L1945.06 1460.32 L1945.06 1456.06 L1953.32 1454.4 L1958 1454.4 L1958 1485.02 L1965.64 1485.02 L1965.64 1488.96 L1945.73 1488.96 L1945.73 1485.02 Z\" fill=\"#000000\" fill-rule=\"nonzero\" fill-opacity=\"1\" /><path clip-path=\"url(#clip930)\" d=\"M1985.08 1457.48 Q1981.47 1457.48 1979.64 1461.04 Q1977.84 1464.58 1977.84 1471.71 Q1977.84 1478.82 1979.64 1482.38 Q1981.47 1485.92 1985.08 1485.92 Q1988.72 1485.92 1990.52 1482.38 Q1992.35 1478.82 1992.35 1471.71 Q1992.35 1464.58 1990.52 1461.04 Q1988.72 1457.48 1985.08 1457.48 M1985.08 1453.77 Q1990.89 1453.77 1993.95 1458.38 Q1997.03 1462.96 1997.03 1471.71 Q1997.03 1480.44 1993.95 1485.04 Q1990.89 1489.63 1985.08 1489.63 Q1979.27 1489.63 1976.19 1485.04 Q1973.14 1480.44 1973.14 1471.71 Q1973.14 1462.96 1976.19 1458.38 Q1979.27 1453.77 1985.08 1453.77 Z\" fill=\"#000000\" fill-rule=\"nonzero\" fill-opacity=\"1\" /><path clip-path=\"url(#clip930)\" d=\"M2007.05 1445.99 Q2004.49 1445.99 2002.99 1447.74 Q2001.5 1449.49 2001.5 1452.54 Q2001.5 1455.57 2002.99 1457.33 Q2004.49 1459.08 2007.05 1459.08 Q2009.61 1459.08 2011.1 1457.33 Q2012.6 1455.57 2012.6 1452.54 Q2012.6 1449.49 2011.1 1447.74 Q2009.61 1445.99 2007.05 1445.99 M2014.59 1434.09 L2014.59 1437.55 Q2013.16 1436.87 2011.7 1436.51 Q2010.25 1436.16 2008.82 1436.16 Q2005.06 1436.16 2003.06 1438.69 Q2001.09 1441.23 2000.81 1446.37 Q2001.92 1444.73 2003.59 1443.87 Q2005.26 1442.98 2007.28 1442.98 Q2011.51 1442.98 2013.95 1445.56 Q2016.42 1448.12 2016.42 1452.54 Q2016.42 1456.86 2013.86 1459.48 Q2011.3 1462.09 2007.05 1462.09 Q2002.18 1462.09 1999.6 1458.37 Q1997.03 1454.62 1997.03 1447.53 Q1997.03 1440.88 2000.19 1436.93 Q2003.35 1432.96 2008.67 1432.96 Q2010.1 1432.96 2011.55 1433.24 Q2013.01 1433.52 2014.59 1434.09 Z\" fill=\"#000000\" fill-rule=\"nonzero\" fill-opacity=\"1\" /><path clip-path=\"url(#clip930)\" d=\"M1140.01 1526.67 L1149.59 1526.67 L1161.72 1559 L1173.91 1526.67 L1183.49 1526.67 L1183.49 1574.19 L1177.22 1574.19 L1177.22 1532.46 L1164.97 1565.05 L1158.51 1565.05 L1146.25 1532.46 L1146.25 1574.19 L1140.01 1574.19 L1140.01 1526.67 Z\" fill=\"#000000\" fill-rule=\"nonzero\" fill-opacity=\"1\" /><path clip-path=\"url(#clip930)\" d=\"M1226.49 1554.9 L1226.49 1557.76 L1199.56 1557.76 Q1199.95 1563.81 1203.19 1566.99 Q1206.47 1570.14 1212.3 1570.14 Q1215.67 1570.14 1218.82 1569.32 Q1222 1568.49 1225.12 1566.83 L1225.12 1572.37 Q1221.97 1573.71 1218.66 1574.41 Q1215.35 1575.11 1211.95 1575.11 Q1203.42 1575.11 1198.42 1570.14 Q1193.45 1565.18 1193.45 1556.71 Q1193.45 1547.96 1198.16 1542.83 Q1202.91 1537.68 1210.93 1537.68 Q1218.12 1537.68 1222.29 1542.33 Q1226.49 1546.94 1226.49 1554.9 M1220.63 1553.18 Q1220.57 1548.37 1217.93 1545.51 Q1215.32 1542.64 1210.99 1542.64 Q1206.09 1542.64 1203.13 1545.41 Q1200.2 1548.18 1199.75 1553.21 L1220.63 1553.18 Z\" fill=\"#000000\" fill-rule=\"nonzero\" fill-opacity=\"1\" /><path clip-path=\"url(#clip930)\" d=\"M1263.86 1545.38 Q1266.05 1541.43 1269.11 1539.56 Q1272.16 1537.68 1276.3 1537.68 Q1281.87 1537.68 1284.9 1541.59 Q1287.92 1545.48 1287.92 1552.67 L1287.92 1574.19 L1282.03 1574.19 L1282.03 1552.86 Q1282.03 1547.74 1280.22 1545.25 Q1278.4 1542.77 1274.68 1542.77 Q1270.13 1542.77 1267.49 1545.79 Q1264.84 1548.82 1264.84 1554.04 L1264.84 1574.19 L1258.96 1574.19 L1258.96 1552.86 Q1258.96 1547.7 1257.14 1545.25 Q1255.33 1542.77 1251.54 1542.77 Q1247.05 1542.77 1244.41 1545.83 Q1241.77 1548.85 1241.77 1554.04 L1241.77 1574.19 L1235.88 1574.19 L1235.88 1538.54 L1241.77 1538.54 L1241.77 1544.08 Q1243.77 1540.8 1246.57 1539.24 Q1249.38 1537.68 1253.23 1537.68 Q1257.11 1537.68 1259.82 1539.65 Q1262.55 1541.62 1263.86 1545.38 Z\" fill=\"#000000\" fill-rule=\"nonzero\" fill-opacity=\"1\" /><path clip-path=\"url(#clip930)\" d=\"M1325.19 1556.39 Q1325.19 1549.93 1322.52 1546.27 Q1319.88 1542.58 1315.23 1542.58 Q1310.58 1542.58 1307.91 1546.27 Q1305.27 1549.93 1305.27 1556.39 Q1305.27 1562.85 1307.91 1566.55 Q1310.58 1570.21 1315.23 1570.21 Q1319.88 1570.21 1322.52 1566.55 Q1325.19 1562.85 1325.19 1556.39 M1305.27 1543.95 Q1307.11 1540.77 1309.91 1539.24 Q1312.75 1537.68 1316.66 1537.68 Q1323.15 1537.68 1327.2 1542.83 Q1331.27 1547.99 1331.27 1556.39 Q1331.27 1564.8 1327.2 1569.95 Q1323.15 1575.11 1316.66 1575.11 Q1312.75 1575.11 1309.91 1573.58 Q1307.11 1572.02 1305.27 1568.84 L1305.27 1574.19 L1299.38 1574.19 L1299.38 1524.66 L1305.27 1524.66 L1305.27 1543.95 Z\" fill=\"#000000\" fill-rule=\"nonzero\" fill-opacity=\"1\" /><path clip-path=\"url(#clip930)\" d=\"M1371.47 1554.9 L1371.47 1557.76 L1344.54 1557.76 Q1344.92 1563.81 1348.17 1566.99 Q1351.45 1570.14 1357.27 1570.14 Q1360.65 1570.14 1363.8 1569.32 Q1366.98 1568.49 1370.1 1566.83 L1370.1 1572.37 Q1366.95 1573.71 1363.64 1574.41 Q1360.33 1575.11 1356.92 1575.11 Q1348.39 1575.11 1343.4 1570.14 Q1338.43 1565.18 1338.43 1556.71 Q1338.43 1547.96 1343.14 1542.83 Q1347.88 1537.68 1355.91 1537.68 Q1363.1 1537.68 1367.27 1542.33 Q1371.47 1546.94 1371.47 1554.9 M1365.61 1553.18 Q1365.55 1548.37 1362.91 1545.51 Q1360.3 1542.64 1355.97 1542.64 Q1351.07 1542.64 1348.11 1545.41 Q1345.18 1548.18 1344.73 1553.21 L1365.61 1553.18 Z\" fill=\"#000000\" fill-rule=\"nonzero\" fill-opacity=\"1\" /><path clip-path=\"url(#clip930)\" d=\"M1401.74 1544.01 Q1400.75 1543.44 1399.57 1543.18 Q1398.43 1542.9 1397.03 1542.9 Q1392.06 1542.9 1389.39 1546.14 Q1386.75 1549.36 1386.75 1555.41 L1386.75 1574.19 L1380.86 1574.19 L1380.86 1538.54 L1386.75 1538.54 L1386.75 1544.08 Q1388.59 1540.83 1391.55 1539.27 Q1394.51 1537.68 1398.75 1537.68 Q1399.35 1537.68 1400.08 1537.77 Q1400.82 1537.84 1401.71 1538 L1401.74 1544.01 Z\" fill=\"#000000\" fill-rule=\"nonzero\" fill-opacity=\"1\" /><path clip-path=\"url(#clip930)\" d=\"M1430.61 1539.59 L1430.61 1545.13 Q1428.12 1543.85 1425.45 1543.22 Q1422.78 1542.58 1419.91 1542.58 Q1415.55 1542.58 1413.36 1543.92 Q1411.19 1545.25 1411.19 1547.93 Q1411.19 1549.96 1412.75 1551.14 Q1414.31 1552.29 1419.02 1553.34 L1421.03 1553.78 Q1427.27 1555.12 1429.88 1557.57 Q1432.52 1559.99 1432.52 1564.35 Q1432.52 1569.32 1428.57 1572.21 Q1424.66 1575.11 1417.78 1575.11 Q1414.92 1575.11 1411.8 1574.54 Q1408.71 1573.99 1405.27 1572.88 L1405.27 1566.83 Q1408.52 1568.52 1411.67 1569.38 Q1414.82 1570.21 1417.91 1570.21 Q1422.05 1570.21 1424.27 1568.81 Q1426.5 1567.37 1426.5 1564.8 Q1426.5 1562.41 1424.88 1561.14 Q1423.29 1559.86 1417.84 1558.68 L1415.81 1558.21 Q1410.36 1557.06 1407.95 1554.71 Q1405.53 1552.32 1405.53 1548.18 Q1405.53 1543.15 1409.09 1540.42 Q1412.66 1537.68 1419.21 1537.68 Q1422.46 1537.68 1425.32 1538.16 Q1428.19 1538.63 1430.61 1539.59 Z\" fill=\"#000000\" fill-rule=\"nonzero\" fill-opacity=\"1\" /><polyline clip-path=\"url(#clip932)\" style=\"stroke:#000000; stroke-linecap:round; stroke-linejoin:round; stroke-width:2; stroke-opacity:0.1; fill:none\" points=\"219.774,1222.64 2352.76,1222.64 \"/>\n",
       "<polyline clip-path=\"url(#clip932)\" style=\"stroke:#000000; stroke-linecap:round; stroke-linejoin:round; stroke-width:2; stroke-opacity:0.1; fill:none\" points=\"219.774,946.607 2352.76,946.607 \"/>\n",
       "<polyline clip-path=\"url(#clip932)\" style=\"stroke:#000000; stroke-linecap:round; stroke-linejoin:round; stroke-width:2; stroke-opacity:0.1; fill:none\" points=\"219.774,670.572 2352.76,670.572 \"/>\n",
       "<polyline clip-path=\"url(#clip932)\" style=\"stroke:#000000; stroke-linecap:round; stroke-linejoin:round; stroke-width:2; stroke-opacity:0.1; fill:none\" points=\"219.774,394.538 2352.76,394.538 \"/>\n",
       "<polyline clip-path=\"url(#clip930)\" style=\"stroke:#000000; stroke-linecap:round; stroke-linejoin:round; stroke-width:4; stroke-opacity:1; fill:none\" points=\"219.774,1410.9 219.774,123.472 \"/>\n",
       "<polyline clip-path=\"url(#clip930)\" style=\"stroke:#000000; stroke-linecap:round; stroke-linejoin:round; stroke-width:4; stroke-opacity:1; fill:none\" points=\"219.774,1222.64 238.671,1222.64 \"/>\n",
       "<polyline clip-path=\"url(#clip930)\" style=\"stroke:#000000; stroke-linecap:round; stroke-linejoin:round; stroke-width:4; stroke-opacity:1; fill:none\" points=\"219.774,946.607 238.671,946.607 \"/>\n",
       "<polyline clip-path=\"url(#clip930)\" style=\"stroke:#000000; stroke-linecap:round; stroke-linejoin:round; stroke-width:4; stroke-opacity:1; fill:none\" points=\"219.774,670.572 238.671,670.572 \"/>\n",
       "<polyline clip-path=\"url(#clip930)\" style=\"stroke:#000000; stroke-linecap:round; stroke-linejoin:round; stroke-width:4; stroke-opacity:1; fill:none\" points=\"219.774,394.538 238.671,394.538 \"/>\n",
       "<path clip-path=\"url(#clip930)\" d=\"M126.112 1223.51 Q122.779 1223.51 120.857 1225.29 Q118.959 1227.07 118.959 1230.2 Q118.959 1233.32 120.857 1235.11 Q122.779 1236.89 126.112 1236.89 Q129.445 1236.89 131.367 1235.11 Q133.288 1233.3 133.288 1230.2 Q133.288 1227.07 131.367 1225.29 Q129.468 1223.51 126.112 1223.51 M121.436 1221.52 Q118.427 1220.78 116.737 1218.72 Q115.07 1216.66 115.07 1213.69 Q115.07 1209.55 118.01 1207.14 Q120.973 1204.74 126.112 1204.74 Q131.274 1204.74 134.214 1207.14 Q137.154 1209.55 137.154 1213.69 Q137.154 1216.66 135.464 1218.72 Q133.797 1220.78 130.811 1221.52 Q134.191 1222.31 136.066 1224.6 Q137.964 1226.89 137.964 1230.2 Q137.964 1235.22 134.885 1237.91 Q131.83 1240.59 126.112 1240.59 Q120.394 1240.59 117.316 1237.91 Q114.26 1235.22 114.26 1230.2 Q114.26 1226.89 116.158 1224.6 Q118.056 1222.31 121.436 1221.52 M119.723 1214.13 Q119.723 1216.82 121.39 1218.32 Q123.08 1219.83 126.112 1219.83 Q129.121 1219.83 130.811 1218.32 Q132.524 1216.82 132.524 1214.13 Q132.524 1211.45 130.811 1209.94 Q129.121 1208.44 126.112 1208.44 Q123.08 1208.44 121.39 1209.94 Q119.723 1211.45 119.723 1214.13 Z\" fill=\"#000000\" fill-rule=\"nonzero\" fill-opacity=\"1\" /><path clip-path=\"url(#clip930)\" d=\"M146.274 1234.04 L151.158 1234.04 L151.158 1239.92 L146.274 1239.92 L146.274 1234.04 Z\" fill=\"#000000\" fill-rule=\"nonzero\" fill-opacity=\"1\" /><path clip-path=\"url(#clip930)\" d=\"M174.19 1209.44 L162.385 1227.88 L174.19 1227.88 L174.19 1209.44 M172.964 1205.36 L178.843 1205.36 L178.843 1227.88 L183.774 1227.88 L183.774 1231.77 L178.843 1231.77 L178.843 1239.92 L174.19 1239.92 L174.19 1231.77 L158.589 1231.77 L158.589 1227.26 L172.964 1205.36 Z\" fill=\"#000000\" fill-rule=\"nonzero\" fill-opacity=\"1\" /><path clip-path=\"url(#clip930)\" d=\"M126.436 947.475 Q123.103 947.475 121.181 949.257 Q119.283 951.04 119.283 954.165 Q119.283 957.29 121.181 959.072 Q123.103 960.854 126.436 960.854 Q129.769 960.854 131.691 959.072 Q133.612 957.266 133.612 954.165 Q133.612 951.04 131.691 949.257 Q129.792 947.475 126.436 947.475 M121.76 945.484 Q118.751 944.743 117.061 942.683 Q115.394 940.623 115.394 937.66 Q115.394 933.517 118.334 931.109 Q121.297 928.702 126.436 928.702 Q131.598 928.702 134.538 931.109 Q137.478 933.517 137.478 937.66 Q137.478 940.623 135.788 942.683 Q134.121 944.743 131.135 945.484 Q134.515 946.271 136.39 948.563 Q138.288 950.854 138.288 954.165 Q138.288 959.188 135.209 961.873 Q132.154 964.558 126.436 964.558 Q120.718 964.558 117.64 961.873 Q114.584 959.188 114.584 954.165 Q114.584 950.854 116.482 948.563 Q118.381 946.271 121.76 945.484 M120.047 938.1 Q120.047 940.785 121.714 942.29 Q123.404 943.794 126.436 943.794 Q129.445 943.794 131.135 942.29 Q132.848 940.785 132.848 938.1 Q132.848 935.415 131.135 933.91 Q129.445 932.405 126.436 932.405 Q123.404 932.405 121.714 933.91 Q120.047 935.415 120.047 938.1 Z\" fill=\"#000000\" fill-rule=\"nonzero\" fill-opacity=\"1\" /><path clip-path=\"url(#clip930)\" d=\"M146.598 958.007 L151.482 958.007 L151.482 963.887 L146.598 963.887 L146.598 958.007 Z\" fill=\"#000000\" fill-rule=\"nonzero\" fill-opacity=\"1\" /><path clip-path=\"url(#clip930)\" d=\"M172.246 944.743 Q169.098 944.743 167.246 946.896 Q165.417 949.049 165.417 952.799 Q165.417 956.526 167.246 958.702 Q169.098 960.854 172.246 960.854 Q175.394 960.854 177.223 958.702 Q179.075 956.526 179.075 952.799 Q179.075 949.049 177.223 946.896 Q175.394 944.743 172.246 944.743 M181.528 930.091 L181.528 934.35 Q179.769 933.517 177.964 933.077 Q176.181 932.637 174.422 932.637 Q169.792 932.637 167.339 935.762 Q164.908 938.887 164.561 945.206 Q165.927 943.192 167.987 942.128 Q170.047 941.04 172.524 941.04 Q177.732 941.04 180.741 944.211 Q183.774 947.359 183.774 952.799 Q183.774 958.123 180.626 961.34 Q177.477 964.558 172.246 964.558 Q166.251 964.558 163.079 959.975 Q159.908 955.368 159.908 946.641 Q159.908 938.447 163.797 933.586 Q167.686 928.702 174.237 928.702 Q175.996 928.702 177.778 929.049 Q179.584 929.396 181.528 930.091 Z\" fill=\"#000000\" fill-rule=\"nonzero\" fill-opacity=\"1\" /><path clip-path=\"url(#clip930)\" d=\"M126.691 671.44 Q123.357 671.44 121.436 673.223 Q119.538 675.005 119.538 678.13 Q119.538 681.255 121.436 683.038 Q123.357 684.82 126.691 684.82 Q130.024 684.82 131.945 683.038 Q133.867 681.232 133.867 678.13 Q133.867 675.005 131.945 673.223 Q130.047 671.44 126.691 671.44 M122.015 669.45 Q119.006 668.709 117.316 666.649 Q115.649 664.589 115.649 661.626 Q115.649 657.482 118.589 655.075 Q121.552 652.667 126.691 652.667 Q131.853 652.667 134.792 655.075 Q137.732 657.482 137.732 661.626 Q137.732 664.589 136.042 666.649 Q134.376 668.709 131.39 669.45 Q134.769 670.237 136.644 672.528 Q138.542 674.82 138.542 678.13 Q138.542 683.153 135.464 685.838 Q132.408 688.524 126.691 688.524 Q120.973 688.524 117.894 685.838 Q114.839 683.153 114.839 678.13 Q114.839 674.82 116.737 672.528 Q118.635 670.237 122.015 669.45 M120.302 662.065 Q120.302 664.751 121.968 666.255 Q123.658 667.76 126.691 667.76 Q129.7 667.76 131.39 666.255 Q133.103 664.751 133.103 662.065 Q133.103 659.38 131.39 657.876 Q129.7 656.371 126.691 656.371 Q123.658 656.371 121.968 657.876 Q120.302 659.38 120.302 662.065 Z\" fill=\"#000000\" fill-rule=\"nonzero\" fill-opacity=\"1\" /><path clip-path=\"url(#clip930)\" d=\"M146.853 681.973 L151.737 681.973 L151.737 687.852 L146.853 687.852 L146.853 681.973 Z\" fill=\"#000000\" fill-rule=\"nonzero\" fill-opacity=\"1\" /><path clip-path=\"url(#clip930)\" d=\"M171.922 671.44 Q168.589 671.44 166.667 673.223 Q164.769 675.005 164.769 678.13 Q164.769 681.255 166.667 683.038 Q168.589 684.82 171.922 684.82 Q175.255 684.82 177.176 683.038 Q179.098 681.232 179.098 678.13 Q179.098 675.005 177.176 673.223 Q175.278 671.44 171.922 671.44 M167.246 669.45 Q164.237 668.709 162.547 666.649 Q160.88 664.589 160.88 661.626 Q160.88 657.482 163.82 655.075 Q166.783 652.667 171.922 652.667 Q177.084 652.667 180.024 655.075 Q182.963 657.482 182.963 661.626 Q182.963 664.589 181.274 666.649 Q179.607 668.709 176.621 669.45 Q180.001 670.237 181.876 672.528 Q183.774 674.82 183.774 678.13 Q183.774 683.153 180.695 685.838 Q177.639 688.524 171.922 688.524 Q166.204 688.524 163.126 685.838 Q160.07 683.153 160.07 678.13 Q160.07 674.82 161.968 672.528 Q163.866 670.237 167.246 669.45 M165.533 662.065 Q165.533 664.751 167.2 666.255 Q168.889 667.76 171.922 667.76 Q174.931 667.76 176.621 666.255 Q178.334 664.751 178.334 662.065 Q178.334 659.38 176.621 657.876 Q174.931 656.371 171.922 656.371 Q168.889 656.371 167.2 657.876 Q165.533 659.38 165.533 662.065 Z\" fill=\"#000000\" fill-rule=\"nonzero\" fill-opacity=\"1\" /><path clip-path=\"url(#clip930)\" d=\"M116.737 411.1 L116.737 406.841 Q118.496 407.674 120.302 408.114 Q122.107 408.554 123.843 408.554 Q128.473 408.554 130.904 405.452 Q133.357 402.327 133.704 395.985 Q132.362 397.975 130.302 399.04 Q128.242 400.105 125.742 400.105 Q120.556 400.105 117.524 396.98 Q114.515 393.832 114.515 388.392 Q114.515 383.068 117.663 379.851 Q120.811 376.633 126.043 376.633 Q132.038 376.633 135.186 381.239 Q138.357 385.823 138.357 394.573 Q138.357 402.744 134.468 407.628 Q130.603 412.489 124.052 412.489 Q122.293 412.489 120.487 412.142 Q118.681 411.795 116.737 411.1 M126.043 396.448 Q129.191 396.448 131.019 394.295 Q132.871 392.142 132.871 388.392 Q132.871 384.665 131.019 382.513 Q129.191 380.337 126.043 380.337 Q122.894 380.337 121.043 382.513 Q119.214 384.665 119.214 388.392 Q119.214 392.142 121.043 394.295 Q122.894 396.448 126.043 396.448 Z\" fill=\"#000000\" fill-rule=\"nonzero\" fill-opacity=\"1\" /><path clip-path=\"url(#clip930)\" d=\"M146.76 405.938 L151.644 405.938 L151.644 411.818 L146.76 411.818 L146.76 405.938 Z\" fill=\"#000000\" fill-rule=\"nonzero\" fill-opacity=\"1\" /><path clip-path=\"url(#clip930)\" d=\"M171.829 380.337 Q168.218 380.337 166.39 383.901 Q164.584 387.443 164.584 394.573 Q164.584 401.679 166.39 405.244 Q168.218 408.786 171.829 408.786 Q175.464 408.786 177.269 405.244 Q179.098 401.679 179.098 394.573 Q179.098 387.443 177.269 383.901 Q175.464 380.337 171.829 380.337 M171.829 376.633 Q177.639 376.633 180.695 381.239 Q183.774 385.823 183.774 394.573 Q183.774 403.299 180.695 407.906 Q177.639 412.489 171.829 412.489 Q166.019 412.489 162.94 407.906 Q159.885 403.299 159.885 394.573 Q159.885 385.823 162.94 381.239 Q166.019 376.633 171.829 376.633 Z\" fill=\"#000000\" fill-rule=\"nonzero\" fill-opacity=\"1\" /><path clip-path=\"url(#clip930)\" d=\"M18.0438 823.998 L24.314 823.998 Q22.5634 827.659 21.704 830.905 Q20.8447 834.152 20.8447 837.175 Q20.8447 842.427 22.8817 845.292 Q24.9187 848.124 28.6745 848.124 Q31.8255 848.124 33.4488 846.246 Q35.0402 844.337 36.0269 839.053 L36.8226 835.17 Q38.1912 827.977 41.6605 824.571 Q45.098 821.134 50.8908 821.134 Q57.7976 821.134 61.3624 825.781 Q64.9272 830.396 64.9272 839.34 Q64.9272 842.713 64.1633 846.533 Q63.3994 850.321 61.9035 854.395 L55.2831 854.395 Q57.4793 850.48 58.5933 846.724 Q59.7073 842.968 59.7073 839.34 Q59.7073 833.833 57.543 830.841 Q55.3786 827.85 51.3682 827.85 Q47.8671 827.85 45.8937 830.014 Q43.9204 832.146 42.9337 837.048 L42.1698 840.963 Q40.7375 848.156 37.682 851.371 Q34.6264 854.586 29.1837 854.586 Q22.8817 854.586 19.2532 850.161 Q15.6248 845.705 15.6248 837.907 Q15.6248 834.565 16.2295 831.096 Q16.8343 827.627 18.0438 823.998 Z\" fill=\"#000000\" fill-rule=\"nonzero\" fill-opacity=\"1\" /><path clip-path=\"url(#clip930)\" d=\"M29.7248 785.709 L35.1993 785.709 Q33.8307 788.191 33.1623 790.706 Q32.4621 793.188 32.4621 795.735 Q32.4621 801.432 36.0905 804.583 Q39.6872 807.734 46.212 807.734 Q52.7369 807.734 56.3653 804.583 Q59.9619 801.432 59.9619 795.735 Q59.9619 793.188 59.2935 790.706 Q58.5933 788.191 57.2247 785.709 L62.6355 785.709 Q63.7814 788.159 64.3543 790.801 Q64.9272 793.411 64.9272 796.371 Q64.9272 804.424 59.8664 809.166 Q54.8057 813.909 46.212 813.909 Q37.491 813.909 32.4939 809.134 Q27.4968 804.328 27.4968 795.989 Q27.4968 793.284 28.0697 790.706 Q28.6108 788.128 29.7248 785.709 Z\" fill=\"#000000\" fill-rule=\"nonzero\" fill-opacity=\"1\" /><path clip-path=\"url(#clip930)\" d=\"M32.4621 761.71 Q32.4621 766.42 36.1542 769.158 Q39.8145 771.895 46.212 771.895 Q52.6095 771.895 56.3017 769.19 Q59.9619 766.452 59.9619 761.71 Q59.9619 757.031 56.2698 754.294 Q52.5777 751.557 46.212 751.557 Q39.8781 751.557 36.186 754.294 Q32.4621 757.031 32.4621 761.71 M27.4968 761.71 Q27.4968 754.071 32.4621 749.711 Q37.4273 745.35 46.212 745.35 Q54.9649 745.35 59.9619 749.711 Q64.9272 754.071 64.9272 761.71 Q64.9272 769.381 59.9619 773.741 Q54.9649 778.07 46.212 778.07 Q37.4273 778.07 32.4621 773.741 Q27.4968 769.381 27.4968 761.71 Z\" fill=\"#000000\" fill-rule=\"nonzero\" fill-opacity=\"1\" /><path clip-path=\"url(#clip930)\" d=\"M33.8307 714.986 Q33.2578 715.972 33.0032 717.15 Q32.7167 718.296 32.7167 719.696 Q32.7167 724.661 35.9632 727.335 Q39.1779 729.977 45.2253 729.977 L64.0042 729.977 L64.0042 735.865 L28.3562 735.865 L28.3562 729.977 L33.8944 729.977 Q30.6479 728.131 29.0883 725.171 Q27.4968 722.211 27.4968 717.977 Q27.4968 717.373 27.5923 716.641 Q27.656 715.909 27.8151 715.017 L33.8307 714.986 Z\" fill=\"#000000\" fill-rule=\"nonzero\" fill-opacity=\"1\" /><path clip-path=\"url(#clip930)\" d=\"M44.7161 679.783 L47.5806 679.783 L47.5806 706.71 Q53.6281 706.328 56.8109 703.082 Q59.9619 699.803 59.9619 693.979 Q59.9619 690.605 59.1344 687.454 Q58.3069 684.271 56.6518 681.152 L62.1899 681.152 Q63.5267 684.303 64.227 687.613 Q64.9272 690.923 64.9272 694.329 Q64.9272 702.859 59.9619 707.856 Q54.9967 712.821 46.5303 712.821 Q37.7774 712.821 32.6531 708.111 Q27.4968 703.368 27.4968 695.347 Q27.4968 688.154 32.1438 683.985 Q36.7589 679.783 44.7161 679.783 M42.9973 685.64 Q38.1912 685.703 35.3266 688.345 Q32.4621 690.955 32.4621 695.284 Q32.4621 700.185 35.2312 703.145 Q38.0002 706.074 43.0292 706.519 L42.9973 685.64 Z\" fill=\"#000000\" fill-rule=\"nonzero\" fill-opacity=\"1\" /><path clip-path=\"url(#clip930)\" d=\"M1087.89 14.0809 L1087.89 22.0612 Q1083.23 19.8332 1079.1 18.7395 Q1074.97 17.6457 1071.12 17.6457 Q1064.44 17.6457 1060.79 20.2383 Q1057.19 22.8309 1057.19 27.611 Q1057.19 31.6214 1059.58 33.6873 Q1062.01 35.7128 1068.73 36.9686 L1073.67 37.9813 Q1082.83 39.7232 1087.16 44.1387 Q1091.54 48.5136 1091.54 55.8863 Q1091.54 64.6767 1085.62 69.2137 Q1079.75 73.7508 1068.37 73.7508 Q1064.07 73.7508 1059.21 72.7785 Q1054.39 71.8063 1049.21 69.9024 L1049.21 61.4765 Q1054.19 64.2716 1058.97 65.6895 Q1063.75 67.1073 1068.37 67.1073 Q1075.37 67.1073 1079.18 64.3527 Q1082.99 61.598 1082.99 56.4939 Q1082.99 52.0379 1080.24 49.5264 Q1077.52 47.0148 1071.28 45.759 L1066.3 44.7868 Q1057.15 42.9639 1053.05 39.075 Q1048.96 35.1862 1048.96 28.2591 Q1048.96 20.2383 1054.59 15.6203 Q1060.26 11.0023 1070.19 11.0023 Q1074.44 11.0023 1078.86 11.7719 Q1083.27 12.5416 1087.89 14.0809 Z\" fill=\"#000000\" fill-rule=\"nonzero\" fill-opacity=\"1\" /><path clip-path=\"url(#clip930)\" d=\"M1136.62 28.9478 L1136.62 35.9153 Q1133.46 34.1734 1130.26 33.3227 Q1127.1 32.4315 1123.86 32.4315 Q1116.61 32.4315 1112.6 37.0496 Q1108.59 41.6271 1108.59 49.9314 Q1108.59 58.2358 1112.6 62.8538 Q1116.61 67.4314 1123.86 67.4314 Q1127.1 67.4314 1130.26 66.5807 Q1133.46 65.6895 1136.62 63.9476 L1136.62 70.8341 Q1133.51 72.2924 1130.14 73.0216 Q1126.82 73.7508 1123.05 73.7508 Q1112.81 73.7508 1106.77 67.3098 Q1100.73 60.8689 1100.73 49.9314 Q1100.73 38.832 1106.81 32.472 Q1112.93 26.1121 1123.54 26.1121 Q1126.98 26.1121 1130.26 26.8413 Q1133.55 27.5299 1136.62 28.9478 Z\" fill=\"#000000\" fill-rule=\"nonzero\" fill-opacity=\"1\" /><path clip-path=\"url(#clip930)\" d=\"M1170.21 49.7694 Q1161.17 49.7694 1157.69 51.8354 Q1154.21 53.9013 1154.21 58.8839 Q1154.21 62.8538 1156.8 65.2034 Q1159.43 67.5124 1163.93 67.5124 Q1170.13 67.5124 1173.85 63.1374 Q1177.62 58.7219 1177.62 51.4303 L1177.62 49.7694 L1170.21 49.7694 M1185.07 46.6907 L1185.07 72.576 L1177.62 72.576 L1177.62 65.6895 Q1175.07 69.8214 1171.26 71.8063 Q1167.45 73.7508 1161.94 73.7508 Q1154.97 73.7508 1150.84 69.8619 Q1146.75 65.9325 1146.75 59.3701 Q1146.75 51.7138 1151.86 47.825 Q1157 43.9361 1167.17 43.9361 L1177.62 43.9361 L1177.62 43.2069 Q1177.62 38.0623 1174.22 35.2672 Q1170.85 32.4315 1164.74 32.4315 Q1160.85 32.4315 1157.16 33.3632 Q1153.48 34.295 1150.07 36.1584 L1150.07 29.2718 Q1154.16 27.692 1158.01 26.9223 Q1161.86 26.1121 1165.51 26.1121 Q1175.35 26.1121 1180.21 31.2163 Q1185.07 36.3204 1185.07 46.6907 Z\" fill=\"#000000\" fill-rule=\"nonzero\" fill-opacity=\"1\" /><path clip-path=\"url(#clip930)\" d=\"M1207.8 14.324 L1207.8 27.2059 L1223.15 27.2059 L1223.15 32.9987 L1207.8 32.9987 L1207.8 57.6282 Q1207.8 63.1779 1209.3 64.7578 Q1210.84 66.3376 1215.5 66.3376 L1223.15 66.3376 L1223.15 72.576 L1215.5 72.576 Q1206.87 72.576 1203.59 69.3758 Q1200.3 66.1351 1200.3 57.6282 L1200.3 32.9987 L1194.84 32.9987 L1194.84 27.2059 L1200.3 27.2059 L1200.3 14.324 L1207.8 14.324 Z\" fill=\"#000000\" fill-rule=\"nonzero\" fill-opacity=\"1\" /><path clip-path=\"url(#clip930)\" d=\"M1240.33 14.324 L1240.33 27.2059 L1255.68 27.2059 L1255.68 32.9987 L1240.33 32.9987 L1240.33 57.6282 Q1240.33 63.1779 1241.83 64.7578 Q1243.37 66.3376 1248.02 66.3376 L1255.68 66.3376 L1255.68 72.576 L1248.02 72.576 Q1239.4 72.576 1236.11 69.3758 Q1232.83 66.1351 1232.83 57.6282 L1232.83 32.9987 L1227.36 32.9987 L1227.36 27.2059 L1232.83 27.2059 L1232.83 14.324 L1240.33 14.324 Z\" fill=\"#000000\" fill-rule=\"nonzero\" fill-opacity=\"1\" /><path clip-path=\"url(#clip930)\" d=\"M1304.29 48.0275 L1304.29 51.6733 L1270.02 51.6733 Q1270.51 59.3701 1274.64 63.421 Q1278.81 67.4314 1286.22 67.4314 Q1290.52 67.4314 1294.53 66.3781 Q1298.58 65.3249 1302.55 63.2184 L1302.55 70.267 Q1298.54 71.9684 1294.33 72.8596 Q1290.11 73.7508 1285.78 73.7508 Q1274.92 73.7508 1268.56 67.4314 Q1262.24 61.1119 1262.24 50.3365 Q1262.24 39.1965 1268.24 32.6746 Q1274.27 26.1121 1284.48 26.1121 Q1293.64 26.1121 1298.94 32.0264 Q1304.29 37.9003 1304.29 48.0275 M1296.84 45.84 Q1296.76 39.7232 1293.39 36.0774 Q1290.07 32.4315 1284.56 32.4315 Q1278.33 32.4315 1274.56 35.9558 Q1270.83 39.4801 1270.26 45.8805 L1296.84 45.84 Z\" fill=\"#000000\" fill-rule=\"nonzero\" fill-opacity=\"1\" /><path clip-path=\"url(#clip930)\" d=\"M1342.82 34.1734 Q1341.56 33.4443 1340.06 33.1202 Q1338.6 32.7556 1336.82 32.7556 Q1330.5 32.7556 1327.1 36.8875 Q1323.74 40.9789 1323.74 48.6757 L1323.74 72.576 L1316.24 72.576 L1316.24 27.2059 L1323.74 27.2059 L1323.74 34.2544 Q1326.09 30.1225 1329.85 28.1376 Q1333.62 26.1121 1339.01 26.1121 Q1339.78 26.1121 1340.71 26.2337 Q1341.64 26.3147 1342.77 26.5172 L1342.82 34.1734 Z\" fill=\"#000000\" fill-rule=\"nonzero\" fill-opacity=\"1\" /><path clip-path=\"url(#clip930)\" d=\"M1385.51 18.8205 L1385.51 41.5461 L1395.8 41.5461 Q1401.51 41.5461 1404.63 38.5889 Q1407.75 35.6318 1407.75 30.163 Q1407.75 24.7348 1404.63 21.7777 Q1401.51 18.8205 1395.8 18.8205 L1385.51 18.8205 M1377.33 12.096 L1395.8 12.096 Q1405.97 12.096 1411.15 16.714 Q1416.38 21.2916 1416.38 30.163 Q1416.38 39.1155 1411.15 43.6931 Q1405.97 48.2706 1395.8 48.2706 L1385.51 48.2706 L1385.51 72.576 L1377.33 72.576 L1377.33 12.096 Z\" fill=\"#000000\" fill-rule=\"nonzero\" fill-opacity=\"1\" /><path clip-path=\"url(#clip930)\" d=\"M1427.03 9.54393 L1434.49 9.54393 L1434.49 72.576 L1427.03 72.576 L1427.03 9.54393 Z\" fill=\"#000000\" fill-rule=\"nonzero\" fill-opacity=\"1\" /><path clip-path=\"url(#clip930)\" d=\"M1467.66 32.4315 Q1461.67 32.4315 1458.19 37.1306 Q1454.7 41.7891 1454.7 49.9314 Q1454.7 58.0738 1458.14 62.7728 Q1461.63 67.4314 1467.66 67.4314 Q1473.62 67.4314 1477.1 62.7323 Q1480.59 58.0333 1480.59 49.9314 Q1480.59 41.8701 1477.1 37.1711 Q1473.62 32.4315 1467.66 32.4315 M1467.66 26.1121 Q1477.39 26.1121 1482.94 32.4315 Q1488.49 38.7509 1488.49 49.9314 Q1488.49 61.0714 1482.94 67.4314 Q1477.39 73.7508 1467.66 73.7508 Q1457.9 73.7508 1452.35 67.4314 Q1446.84 61.0714 1446.84 49.9314 Q1446.84 38.7509 1452.35 32.4315 Q1457.9 26.1121 1467.66 26.1121 Z\" fill=\"#000000\" fill-rule=\"nonzero\" fill-opacity=\"1\" /><path clip-path=\"url(#clip930)\" d=\"M1508.21 14.324 L1508.21 27.2059 L1523.57 27.2059 L1523.57 32.9987 L1508.21 32.9987 L1508.21 57.6282 Q1508.21 63.1779 1509.71 64.7578 Q1511.25 66.3376 1515.91 66.3376 L1523.57 66.3376 L1523.57 72.576 L1515.91 72.576 Q1507.28 72.576 1504 69.3758 Q1500.72 66.1351 1500.72 57.6282 L1500.72 32.9987 L1495.25 32.9987 L1495.25 27.2059 L1500.72 27.2059 L1500.72 14.324 L1508.21 14.324 Z\" fill=\"#000000\" fill-rule=\"nonzero\" fill-opacity=\"1\" /><circle clip-path=\"url(#clip932)\" cx=\"465.441\" cy=\"159.909\" r=\"14.4\" fill=\"#009af9\" fill-rule=\"evenodd\" fill-opacity=\"1\" stroke=\"#000000\" stroke-opacity=\"1\" stroke-width=\"3.2\"/>\n",
       "<circle clip-path=\"url(#clip932)\" cx=\"1982.78\" cy=\"242.719\" r=\"14.4\" fill=\"#009af9\" fill-rule=\"evenodd\" fill-opacity=\"1\" stroke=\"#000000\" stroke-opacity=\"1\" stroke-width=\"3.2\"/>\n",
       "<circle clip-path=\"url(#clip932)\" cx=\"496.293\" cy=\"270.322\" r=\"14.4\" fill=\"#009af9\" fill-rule=\"evenodd\" fill-opacity=\"1\" stroke=\"#000000\" stroke-opacity=\"1\" stroke-width=\"3.2\"/>\n",
       "<circle clip-path=\"url(#clip932)\" cx=\"1589.35\" cy=\"284.124\" r=\"14.4\" fill=\"#009af9\" fill-rule=\"evenodd\" fill-opacity=\"1\" stroke=\"#000000\" stroke-opacity=\"1\" stroke-width=\"3.2\"/>\n",
       "<circle clip-path=\"url(#clip932)\" cx=\"594.054\" cy=\"297.926\" r=\"14.4\" fill=\"#009af9\" fill-rule=\"evenodd\" fill-opacity=\"1\" stroke=\"#000000\" stroke-opacity=\"1\" stroke-width=\"3.2\"/>\n",
       "<circle clip-path=\"url(#clip932)\" cx=\"698.444\" cy=\"311.728\" r=\"14.4\" fill=\"#009af9\" fill-rule=\"evenodd\" fill-opacity=\"1\" stroke=\"#000000\" stroke-opacity=\"1\" stroke-width=\"3.2\"/>\n",
       "<circle clip-path=\"url(#clip932)\" cx=\"1397.82\" cy=\"311.728\" r=\"14.4\" fill=\"#009af9\" fill-rule=\"evenodd\" fill-opacity=\"1\" stroke=\"#000000\" stroke-opacity=\"1\" stroke-width=\"3.2\"/>\n",
       "<circle clip-path=\"url(#clip932)\" cx=\"343.78\" cy=\"325.529\" r=\"14.4\" fill=\"#009af9\" fill-rule=\"evenodd\" fill-opacity=\"1\" stroke=\"#000000\" stroke-opacity=\"1\" stroke-width=\"3.2\"/>\n",
       "<circle clip-path=\"url(#clip932)\" cx=\"556.329\" cy=\"339.331\" r=\"14.4\" fill=\"#009af9\" fill-rule=\"evenodd\" fill-opacity=\"1\" stroke=\"#000000\" stroke-opacity=\"1\" stroke-width=\"3.2\"/>\n",
       "<circle clip-path=\"url(#clip932)\" cx=\"1700.68\" cy=\"339.331\" r=\"14.4\" fill=\"#009af9\" fill-rule=\"evenodd\" fill-opacity=\"1\" stroke=\"#000000\" stroke-opacity=\"1\" stroke-width=\"3.2\"/>\n",
       "<circle clip-path=\"url(#clip932)\" cx=\"439.072\" cy=\"353.133\" r=\"14.4\" fill=\"#009af9\" fill-rule=\"evenodd\" fill-opacity=\"1\" stroke=\"#000000\" stroke-opacity=\"1\" stroke-width=\"3.2\"/>\n",
       "<circle clip-path=\"url(#clip932)\" cx=\"440.816\" cy=\"353.133\" r=\"14.4\" fill=\"#009af9\" fill-rule=\"evenodd\" fill-opacity=\"1\" stroke=\"#000000\" stroke-opacity=\"1\" stroke-width=\"3.2\"/>\n",
       "<circle clip-path=\"url(#clip932)\" cx=\"501.172\" cy=\"380.736\" r=\"14.4\" fill=\"#009af9\" fill-rule=\"evenodd\" fill-opacity=\"1\" stroke=\"#000000\" stroke-opacity=\"1\" stroke-width=\"3.2\"/>\n",
       "<circle clip-path=\"url(#clip932)\" cx=\"434.378\" cy=\"408.34\" r=\"14.4\" fill=\"#009af9\" fill-rule=\"evenodd\" fill-opacity=\"1\" stroke=\"#000000\" stroke-opacity=\"1\" stroke-width=\"3.2\"/>\n",
       "<circle clip-path=\"url(#clip932)\" cx=\"329.737\" cy=\"463.547\" r=\"14.4\" fill=\"#009af9\" fill-rule=\"evenodd\" fill-opacity=\"1\" stroke=\"#000000\" stroke-opacity=\"1\" stroke-width=\"3.2\"/>\n",
       "<circle clip-path=\"url(#clip932)\" cx=\"481.165\" cy=\"477.348\" r=\"14.4\" fill=\"#009af9\" fill-rule=\"evenodd\" fill-opacity=\"1\" stroke=\"#000000\" stroke-opacity=\"1\" stroke-width=\"3.2\"/>\n",
       "<circle clip-path=\"url(#clip932)\" cx=\"897.387\" cy=\"477.348\" r=\"14.4\" fill=\"#009af9\" fill-rule=\"evenodd\" fill-opacity=\"1\" stroke=\"#000000\" stroke-opacity=\"1\" stroke-width=\"3.2\"/>\n",
       "<circle clip-path=\"url(#clip932)\" cx=\"827.459\" cy=\"477.348\" r=\"14.4\" fill=\"#009af9\" fill-rule=\"evenodd\" fill-opacity=\"1\" stroke=\"#000000\" stroke-opacity=\"1\" stroke-width=\"3.2\"/>\n",
       "<circle clip-path=\"url(#clip932)\" cx=\"1451.51\" cy=\"477.348\" r=\"14.4\" fill=\"#009af9\" fill-rule=\"evenodd\" fill-opacity=\"1\" stroke=\"#000000\" stroke-opacity=\"1\" stroke-width=\"3.2\"/>\n",
       "<circle clip-path=\"url(#clip932)\" cx=\"397.921\" cy=\"504.952\" r=\"14.4\" fill=\"#009af9\" fill-rule=\"evenodd\" fill-opacity=\"1\" stroke=\"#000000\" stroke-opacity=\"1\" stroke-width=\"3.2\"/>\n",
       "<circle clip-path=\"url(#clip932)\" cx=\"468.964\" cy=\"518.753\" r=\"14.4\" fill=\"#009af9\" fill-rule=\"evenodd\" fill-opacity=\"1\" stroke=\"#000000\" stroke-opacity=\"1\" stroke-width=\"3.2\"/>\n",
       "<circle clip-path=\"url(#clip932)\" cx=\"1191.95\" cy=\"518.753\" r=\"14.4\" fill=\"#009af9\" fill-rule=\"evenodd\" fill-opacity=\"1\" stroke=\"#000000\" stroke-opacity=\"1\" stroke-width=\"3.2\"/>\n",
       "<circle clip-path=\"url(#clip932)\" cx=\"562.361\" cy=\"518.753\" r=\"14.4\" fill=\"#009af9\" fill-rule=\"evenodd\" fill-opacity=\"1\" stroke=\"#000000\" stroke-opacity=\"1\" stroke-width=\"3.2\"/>\n",
       "<circle clip-path=\"url(#clip932)\" cx=\"479.419\" cy=\"546.357\" r=\"14.4\" fill=\"#009af9\" fill-rule=\"evenodd\" fill-opacity=\"1\" stroke=\"#000000\" stroke-opacity=\"1\" stroke-width=\"3.2\"/>\n",
       "<circle clip-path=\"url(#clip932)\" cx=\"373.669\" cy=\"560.159\" r=\"14.4\" fill=\"#009af9\" fill-rule=\"evenodd\" fill-opacity=\"1\" stroke=\"#000000\" stroke-opacity=\"1\" stroke-width=\"3.2\"/>\n",
       "<circle clip-path=\"url(#clip932)\" cx=\"809.043\" cy=\"587.762\" r=\"14.4\" fill=\"#009af9\" fill-rule=\"evenodd\" fill-opacity=\"1\" stroke=\"#000000\" stroke-opacity=\"1\" stroke-width=\"3.2\"/>\n",
       "<circle clip-path=\"url(#clip932)\" cx=\"1670.26\" cy=\"601.564\" r=\"14.4\" fill=\"#009af9\" fill-rule=\"evenodd\" fill-opacity=\"1\" stroke=\"#000000\" stroke-opacity=\"1\" stroke-width=\"3.2\"/>\n",
       "<circle clip-path=\"url(#clip932)\" cx=\"381.593\" cy=\"656.771\" r=\"14.4\" fill=\"#009af9\" fill-rule=\"evenodd\" fill-opacity=\"1\" stroke=\"#000000\" stroke-opacity=\"1\" stroke-width=\"3.2\"/>\n",
       "<circle clip-path=\"url(#clip932)\" cx=\"912.406\" cy=\"656.771\" r=\"14.4\" fill=\"#009af9\" fill-rule=\"evenodd\" fill-opacity=\"1\" stroke=\"#000000\" stroke-opacity=\"1\" stroke-width=\"3.2\"/>\n",
       "<circle clip-path=\"url(#clip932)\" cx=\"322.321\" cy=\"656.771\" r=\"14.4\" fill=\"#009af9\" fill-rule=\"evenodd\" fill-opacity=\"1\" stroke=\"#000000\" stroke-opacity=\"1\" stroke-width=\"3.2\"/>\n",
       "<circle clip-path=\"url(#clip932)\" cx=\"1041.38\" cy=\"670.572\" r=\"14.4\" fill=\"#009af9\" fill-rule=\"evenodd\" fill-opacity=\"1\" stroke=\"#000000\" stroke-opacity=\"1\" stroke-width=\"3.2\"/>\n",
       "<circle clip-path=\"url(#clip932)\" cx=\"1259.01\" cy=\"670.572\" r=\"14.4\" fill=\"#009af9\" fill-rule=\"evenodd\" fill-opacity=\"1\" stroke=\"#000000\" stroke-opacity=\"1\" stroke-width=\"3.2\"/>\n",
       "<circle clip-path=\"url(#clip932)\" cx=\"511.635\" cy=\"684.374\" r=\"14.4\" fill=\"#009af9\" fill-rule=\"evenodd\" fill-opacity=\"1\" stroke=\"#000000\" stroke-opacity=\"1\" stroke-width=\"3.2\"/>\n",
       "<circle clip-path=\"url(#clip932)\" cx=\"1222.64\" cy=\"698.176\" r=\"14.4\" fill=\"#009af9\" fill-rule=\"evenodd\" fill-opacity=\"1\" stroke=\"#000000\" stroke-opacity=\"1\" stroke-width=\"3.2\"/>\n",
       "<circle clip-path=\"url(#clip932)\" cx=\"889.204\" cy=\"698.176\" r=\"14.4\" fill=\"#009af9\" fill-rule=\"evenodd\" fill-opacity=\"1\" stroke=\"#000000\" stroke-opacity=\"1\" stroke-width=\"3.2\"/>\n",
       "<circle clip-path=\"url(#clip932)\" cx=\"625.568\" cy=\"711.978\" r=\"14.4\" fill=\"#009af9\" fill-rule=\"evenodd\" fill-opacity=\"1\" stroke=\"#000000\" stroke-opacity=\"1\" stroke-width=\"3.2\"/>\n",
       "<circle clip-path=\"url(#clip932)\" cx=\"866.09\" cy=\"711.978\" r=\"14.4\" fill=\"#009af9\" fill-rule=\"evenodd\" fill-opacity=\"1\" stroke=\"#000000\" stroke-opacity=\"1\" stroke-width=\"3.2\"/>\n",
       "<circle clip-path=\"url(#clip932)\" cx=\"428.061\" cy=\"739.581\" r=\"14.4\" fill=\"#009af9\" fill-rule=\"evenodd\" fill-opacity=\"1\" stroke=\"#000000\" stroke-opacity=\"1\" stroke-width=\"3.2\"/>\n",
       "<circle clip-path=\"url(#clip932)\" cx=\"1228.88\" cy=\"739.581\" r=\"14.4\" fill=\"#009af9\" fill-rule=\"evenodd\" fill-opacity=\"1\" stroke=\"#000000\" stroke-opacity=\"1\" stroke-width=\"3.2\"/>\n",
       "<circle clip-path=\"url(#clip932)\" cx=\"566.079\" cy=\"739.581\" r=\"14.4\" fill=\"#009af9\" fill-rule=\"evenodd\" fill-opacity=\"1\" stroke=\"#000000\" stroke-opacity=\"1\" stroke-width=\"3.2\"/>\n",
       "<circle clip-path=\"url(#clip932)\" cx=\"301.929\" cy=\"739.581\" r=\"14.4\" fill=\"#009af9\" fill-rule=\"evenodd\" fill-opacity=\"1\" stroke=\"#000000\" stroke-opacity=\"1\" stroke-width=\"3.2\"/>\n",
       "<circle clip-path=\"url(#clip932)\" cx=\"562.282\" cy=\"753.383\" r=\"14.4\" fill=\"#009af9\" fill-rule=\"evenodd\" fill-opacity=\"1\" stroke=\"#000000\" stroke-opacity=\"1\" stroke-width=\"3.2\"/>\n",
       "<circle clip-path=\"url(#clip932)\" cx=\"412.037\" cy=\"767.184\" r=\"14.4\" fill=\"#009af9\" fill-rule=\"evenodd\" fill-opacity=\"1\" stroke=\"#000000\" stroke-opacity=\"1\" stroke-width=\"3.2\"/>\n",
       "<circle clip-path=\"url(#clip932)\" cx=\"372.197\" cy=\"767.184\" r=\"14.4\" fill=\"#009af9\" fill-rule=\"evenodd\" fill-opacity=\"1\" stroke=\"#000000\" stroke-opacity=\"1\" stroke-width=\"3.2\"/>\n",
       "<circle clip-path=\"url(#clip932)\" cx=\"985.584\" cy=\"767.184\" r=\"14.4\" fill=\"#009af9\" fill-rule=\"evenodd\" fill-opacity=\"1\" stroke=\"#000000\" stroke-opacity=\"1\" stroke-width=\"3.2\"/>\n",
       "<circle clip-path=\"url(#clip932)\" cx=\"683.753\" cy=\"794.788\" r=\"14.4\" fill=\"#009af9\" fill-rule=\"evenodd\" fill-opacity=\"1\" stroke=\"#000000\" stroke-opacity=\"1\" stroke-width=\"3.2\"/>\n",
       "<circle clip-path=\"url(#clip932)\" cx=\"420.54\" cy=\"794.788\" r=\"14.4\" fill=\"#009af9\" fill-rule=\"evenodd\" fill-opacity=\"1\" stroke=\"#000000\" stroke-opacity=\"1\" stroke-width=\"3.2\"/>\n",
       "<circle clip-path=\"url(#clip932)\" cx=\"497.794\" cy=\"794.788\" r=\"14.4\" fill=\"#009af9\" fill-rule=\"evenodd\" fill-opacity=\"1\" stroke=\"#000000\" stroke-opacity=\"1\" stroke-width=\"3.2\"/>\n",
       "<circle clip-path=\"url(#clip932)\" cx=\"299.85\" cy=\"794.788\" r=\"14.4\" fill=\"#009af9\" fill-rule=\"evenodd\" fill-opacity=\"1\" stroke=\"#000000\" stroke-opacity=\"1\" stroke-width=\"3.2\"/>\n",
       "<circle clip-path=\"url(#clip932)\" cx=\"1437.33\" cy=\"808.59\" r=\"14.4\" fill=\"#009af9\" fill-rule=\"evenodd\" fill-opacity=\"1\" stroke=\"#000000\" stroke-opacity=\"1\" stroke-width=\"3.2\"/>\n",
       "<circle clip-path=\"url(#clip932)\" cx=\"430.39\" cy=\"808.59\" r=\"14.4\" fill=\"#009af9\" fill-rule=\"evenodd\" fill-opacity=\"1\" stroke=\"#000000\" stroke-opacity=\"1\" stroke-width=\"3.2\"/>\n",
       "<circle clip-path=\"url(#clip932)\" cx=\"479.226\" cy=\"808.59\" r=\"14.4\" fill=\"#009af9\" fill-rule=\"evenodd\" fill-opacity=\"1\" stroke=\"#000000\" stroke-opacity=\"1\" stroke-width=\"3.2\"/>\n",
       "<circle clip-path=\"url(#clip932)\" cx=\"446.076\" cy=\"822.391\" r=\"14.4\" fill=\"#009af9\" fill-rule=\"evenodd\" fill-opacity=\"1\" stroke=\"#000000\" stroke-opacity=\"1\" stroke-width=\"3.2\"/>\n",
       "<circle clip-path=\"url(#clip932)\" cx=\"699.902\" cy=\"822.391\" r=\"14.4\" fill=\"#009af9\" fill-rule=\"evenodd\" fill-opacity=\"1\" stroke=\"#000000\" stroke-opacity=\"1\" stroke-width=\"3.2\"/>\n",
       "<circle clip-path=\"url(#clip932)\" cx=\"342.627\" cy=\"836.193\" r=\"14.4\" fill=\"#009af9\" fill-rule=\"evenodd\" fill-opacity=\"1\" stroke=\"#000000\" stroke-opacity=\"1\" stroke-width=\"3.2\"/>\n",
       "<circle clip-path=\"url(#clip932)\" cx=\"471.007\" cy=\"836.193\" r=\"14.4\" fill=\"#009af9\" fill-rule=\"evenodd\" fill-opacity=\"1\" stroke=\"#000000\" stroke-opacity=\"1\" stroke-width=\"3.2\"/>\n",
       "<circle clip-path=\"url(#clip932)\" cx=\"916.314\" cy=\"849.995\" r=\"14.4\" fill=\"#009af9\" fill-rule=\"evenodd\" fill-opacity=\"1\" stroke=\"#000000\" stroke-opacity=\"1\" stroke-width=\"3.2\"/>\n",
       "<circle clip-path=\"url(#clip932)\" cx=\"1175.19\" cy=\"849.995\" r=\"14.4\" fill=\"#009af9\" fill-rule=\"evenodd\" fill-opacity=\"1\" stroke=\"#000000\" stroke-opacity=\"1\" stroke-width=\"3.2\"/>\n",
       "<circle clip-path=\"url(#clip932)\" cx=\"967.404\" cy=\"863.796\" r=\"14.4\" fill=\"#009af9\" fill-rule=\"evenodd\" fill-opacity=\"1\" stroke=\"#000000\" stroke-opacity=\"1\" stroke-width=\"3.2\"/>\n",
       "<circle clip-path=\"url(#clip932)\" cx=\"704.176\" cy=\"863.796\" r=\"14.4\" fill=\"#009af9\" fill-rule=\"evenodd\" fill-opacity=\"1\" stroke=\"#000000\" stroke-opacity=\"1\" stroke-width=\"3.2\"/>\n",
       "<circle clip-path=\"url(#clip932)\" cx=\"972.308\" cy=\"863.796\" r=\"14.4\" fill=\"#009af9\" fill-rule=\"evenodd\" fill-opacity=\"1\" stroke=\"#000000\" stroke-opacity=\"1\" stroke-width=\"3.2\"/>\n",
       "<circle clip-path=\"url(#clip932)\" cx=\"417.903\" cy=\"863.796\" r=\"14.4\" fill=\"#009af9\" fill-rule=\"evenodd\" fill-opacity=\"1\" stroke=\"#000000\" stroke-opacity=\"1\" stroke-width=\"3.2\"/>\n",
       "<circle clip-path=\"url(#clip932)\" cx=\"946.803\" cy=\"863.796\" r=\"14.4\" fill=\"#009af9\" fill-rule=\"evenodd\" fill-opacity=\"1\" stroke=\"#000000\" stroke-opacity=\"1\" stroke-width=\"3.2\"/>\n",
       "<circle clip-path=\"url(#clip932)\" cx=\"1467.72\" cy=\"877.598\" r=\"14.4\" fill=\"#009af9\" fill-rule=\"evenodd\" fill-opacity=\"1\" stroke=\"#000000\" stroke-opacity=\"1\" stroke-width=\"3.2\"/>\n",
       "<circle clip-path=\"url(#clip932)\" cx=\"402.391\" cy=\"877.598\" r=\"14.4\" fill=\"#009af9\" fill-rule=\"evenodd\" fill-opacity=\"1\" stroke=\"#000000\" stroke-opacity=\"1\" stroke-width=\"3.2\"/>\n",
       "<circle clip-path=\"url(#clip932)\" cx=\"1412.27\" cy=\"877.598\" r=\"14.4\" fill=\"#009af9\" fill-rule=\"evenodd\" fill-opacity=\"1\" stroke=\"#000000\" stroke-opacity=\"1\" stroke-width=\"3.2\"/>\n",
       "<circle clip-path=\"url(#clip932)\" cx=\"379.163\" cy=\"891.4\" r=\"14.4\" fill=\"#009af9\" fill-rule=\"evenodd\" fill-opacity=\"1\" stroke=\"#000000\" stroke-opacity=\"1\" stroke-width=\"3.2\"/>\n",
       "<circle clip-path=\"url(#clip932)\" cx=\"1007.98\" cy=\"891.4\" r=\"14.4\" fill=\"#009af9\" fill-rule=\"evenodd\" fill-opacity=\"1\" stroke=\"#000000\" stroke-opacity=\"1\" stroke-width=\"3.2\"/>\n",
       "<circle clip-path=\"url(#clip932)\" cx=\"945.997\" cy=\"891.4\" r=\"14.4\" fill=\"#009af9\" fill-rule=\"evenodd\" fill-opacity=\"1\" stroke=\"#000000\" stroke-opacity=\"1\" stroke-width=\"3.2\"/>\n",
       "<circle clip-path=\"url(#clip932)\" cx=\"915.277\" cy=\"905.202\" r=\"14.4\" fill=\"#009af9\" fill-rule=\"evenodd\" fill-opacity=\"1\" stroke=\"#000000\" stroke-opacity=\"1\" stroke-width=\"3.2\"/>\n",
       "<circle clip-path=\"url(#clip932)\" cx=\"1010.14\" cy=\"905.202\" r=\"14.4\" fill=\"#009af9\" fill-rule=\"evenodd\" fill-opacity=\"1\" stroke=\"#000000\" stroke-opacity=\"1\" stroke-width=\"3.2\"/>\n",
       "<circle clip-path=\"url(#clip932)\" cx=\"497.606\" cy=\"905.202\" r=\"14.4\" fill=\"#009af9\" fill-rule=\"evenodd\" fill-opacity=\"1\" stroke=\"#000000\" stroke-opacity=\"1\" stroke-width=\"3.2\"/>\n",
       "<circle clip-path=\"url(#clip932)\" cx=\"347.128\" cy=\"905.202\" r=\"14.4\" fill=\"#009af9\" fill-rule=\"evenodd\" fill-opacity=\"1\" stroke=\"#000000\" stroke-opacity=\"1\" stroke-width=\"3.2\"/>\n",
       "<circle clip-path=\"url(#clip932)\" cx=\"1112.98\" cy=\"905.202\" r=\"14.4\" fill=\"#009af9\" fill-rule=\"evenodd\" fill-opacity=\"1\" stroke=\"#000000\" stroke-opacity=\"1\" stroke-width=\"3.2\"/>\n",
       "<circle clip-path=\"url(#clip932)\" cx=\"312.226\" cy=\"919.003\" r=\"14.4\" fill=\"#009af9\" fill-rule=\"evenodd\" fill-opacity=\"1\" stroke=\"#000000\" stroke-opacity=\"1\" stroke-width=\"3.2\"/>\n",
       "<circle clip-path=\"url(#clip932)\" cx=\"370.189\" cy=\"919.003\" r=\"14.4\" fill=\"#009af9\" fill-rule=\"evenodd\" fill-opacity=\"1\" stroke=\"#000000\" stroke-opacity=\"1\" stroke-width=\"3.2\"/>\n",
       "<circle clip-path=\"url(#clip932)\" cx=\"476.18\" cy=\"919.003\" r=\"14.4\" fill=\"#009af9\" fill-rule=\"evenodd\" fill-opacity=\"1\" stroke=\"#000000\" stroke-opacity=\"1\" stroke-width=\"3.2\"/>\n",
       "<circle clip-path=\"url(#clip932)\" cx=\"1459.27\" cy=\"919.003\" r=\"14.4\" fill=\"#009af9\" fill-rule=\"evenodd\" fill-opacity=\"1\" stroke=\"#000000\" stroke-opacity=\"1\" stroke-width=\"3.2\"/>\n",
       "<circle clip-path=\"url(#clip932)\" cx=\"554.204\" cy=\"919.003\" r=\"14.4\" fill=\"#009af9\" fill-rule=\"evenodd\" fill-opacity=\"1\" stroke=\"#000000\" stroke-opacity=\"1\" stroke-width=\"3.2\"/>\n",
       "<circle clip-path=\"url(#clip932)\" cx=\"2277.56\" cy=\"919.003\" r=\"14.4\" fill=\"#009af9\" fill-rule=\"evenodd\" fill-opacity=\"1\" stroke=\"#000000\" stroke-opacity=\"1\" stroke-width=\"3.2\"/>\n",
       "<circle clip-path=\"url(#clip932)\" cx=\"458.599\" cy=\"932.805\" r=\"14.4\" fill=\"#009af9\" fill-rule=\"evenodd\" fill-opacity=\"1\" stroke=\"#000000\" stroke-opacity=\"1\" stroke-width=\"3.2\"/>\n",
       "<circle clip-path=\"url(#clip932)\" cx=\"630.106\" cy=\"932.805\" r=\"14.4\" fill=\"#009af9\" fill-rule=\"evenodd\" fill-opacity=\"1\" stroke=\"#000000\" stroke-opacity=\"1\" stroke-width=\"3.2\"/>\n",
       "<circle clip-path=\"url(#clip932)\" cx=\"594.776\" cy=\"932.805\" r=\"14.4\" fill=\"#009af9\" fill-rule=\"evenodd\" fill-opacity=\"1\" stroke=\"#000000\" stroke-opacity=\"1\" stroke-width=\"3.2\"/>\n",
       "<circle clip-path=\"url(#clip932)\" cx=\"340.968\" cy=\"946.607\" r=\"14.4\" fill=\"#009af9\" fill-rule=\"evenodd\" fill-opacity=\"1\" stroke=\"#000000\" stroke-opacity=\"1\" stroke-width=\"3.2\"/>\n",
       "<circle clip-path=\"url(#clip932)\" cx=\"403.58\" cy=\"960.408\" r=\"14.4\" fill=\"#009af9\" fill-rule=\"evenodd\" fill-opacity=\"1\" stroke=\"#000000\" stroke-opacity=\"1\" stroke-width=\"3.2\"/>\n",
       "<circle clip-path=\"url(#clip932)\" cx=\"786.877\" cy=\"974.21\" r=\"14.4\" fill=\"#009af9\" fill-rule=\"evenodd\" fill-opacity=\"1\" stroke=\"#000000\" stroke-opacity=\"1\" stroke-width=\"3.2\"/>\n",
       "<circle clip-path=\"url(#clip932)\" cx=\"503.961\" cy=\"974.21\" r=\"14.4\" fill=\"#009af9\" fill-rule=\"evenodd\" fill-opacity=\"1\" stroke=\"#000000\" stroke-opacity=\"1\" stroke-width=\"3.2\"/>\n",
       "<circle clip-path=\"url(#clip932)\" cx=\"406.295\" cy=\"974.21\" r=\"14.4\" fill=\"#009af9\" fill-rule=\"evenodd\" fill-opacity=\"1\" stroke=\"#000000\" stroke-opacity=\"1\" stroke-width=\"3.2\"/>\n",
       "<circle clip-path=\"url(#clip932)\" cx=\"698.785\" cy=\"974.21\" r=\"14.4\" fill=\"#009af9\" fill-rule=\"evenodd\" fill-opacity=\"1\" stroke=\"#000000\" stroke-opacity=\"1\" stroke-width=\"3.2\"/>\n",
       "<circle clip-path=\"url(#clip932)\" cx=\"369.817\" cy=\"988.012\" r=\"14.4\" fill=\"#009af9\" fill-rule=\"evenodd\" fill-opacity=\"1\" stroke=\"#000000\" stroke-opacity=\"1\" stroke-width=\"3.2\"/>\n",
       "<circle clip-path=\"url(#clip932)\" cx=\"427.112\" cy=\"988.012\" r=\"14.4\" fill=\"#009af9\" fill-rule=\"evenodd\" fill-opacity=\"1\" stroke=\"#000000\" stroke-opacity=\"1\" stroke-width=\"3.2\"/>\n",
       "<circle clip-path=\"url(#clip932)\" cx=\"386.545\" cy=\"988.012\" r=\"14.4\" fill=\"#009af9\" fill-rule=\"evenodd\" fill-opacity=\"1\" stroke=\"#000000\" stroke-opacity=\"1\" stroke-width=\"3.2\"/>\n",
       "<circle clip-path=\"url(#clip932)\" cx=\"505.821\" cy=\"988.012\" r=\"14.4\" fill=\"#009af9\" fill-rule=\"evenodd\" fill-opacity=\"1\" stroke=\"#000000\" stroke-opacity=\"1\" stroke-width=\"3.2\"/>\n",
       "<circle clip-path=\"url(#clip932)\" cx=\"573.494\" cy=\"1001.81\" r=\"14.4\" fill=\"#009af9\" fill-rule=\"evenodd\" fill-opacity=\"1\" stroke=\"#000000\" stroke-opacity=\"1\" stroke-width=\"3.2\"/>\n",
       "<circle clip-path=\"url(#clip932)\" cx=\"524.464\" cy=\"1001.81\" r=\"14.4\" fill=\"#009af9\" fill-rule=\"evenodd\" fill-opacity=\"1\" stroke=\"#000000\" stroke-opacity=\"1\" stroke-width=\"3.2\"/>\n",
       "<circle clip-path=\"url(#clip932)\" cx=\"302.673\" cy=\"1001.81\" r=\"14.4\" fill=\"#009af9\" fill-rule=\"evenodd\" fill-opacity=\"1\" stroke=\"#000000\" stroke-opacity=\"1\" stroke-width=\"3.2\"/>\n",
       "<circle clip-path=\"url(#clip932)\" cx=\"600.047\" cy=\"1001.81\" r=\"14.4\" fill=\"#009af9\" fill-rule=\"evenodd\" fill-opacity=\"1\" stroke=\"#000000\" stroke-opacity=\"1\" stroke-width=\"3.2\"/>\n",
       "<circle clip-path=\"url(#clip932)\" cx=\"751.633\" cy=\"1001.81\" r=\"14.4\" fill=\"#009af9\" fill-rule=\"evenodd\" fill-opacity=\"1\" stroke=\"#000000\" stroke-opacity=\"1\" stroke-width=\"3.2\"/>\n",
       "<circle clip-path=\"url(#clip932)\" cx=\"856.588\" cy=\"1015.62\" r=\"14.4\" fill=\"#009af9\" fill-rule=\"evenodd\" fill-opacity=\"1\" stroke=\"#000000\" stroke-opacity=\"1\" stroke-width=\"3.2\"/>\n",
       "<circle clip-path=\"url(#clip932)\" cx=\"678.372\" cy=\"1015.62\" r=\"14.4\" fill=\"#009af9\" fill-rule=\"evenodd\" fill-opacity=\"1\" stroke=\"#000000\" stroke-opacity=\"1\" stroke-width=\"3.2\"/>\n",
       "<circle clip-path=\"url(#clip932)\" cx=\"404.445\" cy=\"1015.62\" r=\"14.4\" fill=\"#009af9\" fill-rule=\"evenodd\" fill-opacity=\"1\" stroke=\"#000000\" stroke-opacity=\"1\" stroke-width=\"3.2\"/>\n",
       "<circle clip-path=\"url(#clip932)\" cx=\"746.498\" cy=\"1015.62\" r=\"14.4\" fill=\"#009af9\" fill-rule=\"evenodd\" fill-opacity=\"1\" stroke=\"#000000\" stroke-opacity=\"1\" stroke-width=\"3.2\"/>\n",
       "<circle clip-path=\"url(#clip932)\" cx=\"346.636\" cy=\"1029.42\" r=\"14.4\" fill=\"#009af9\" fill-rule=\"evenodd\" fill-opacity=\"1\" stroke=\"#000000\" stroke-opacity=\"1\" stroke-width=\"3.2\"/>\n",
       "<circle clip-path=\"url(#clip932)\" cx=\"426.549\" cy=\"1029.42\" r=\"14.4\" fill=\"#009af9\" fill-rule=\"evenodd\" fill-opacity=\"1\" stroke=\"#000000\" stroke-opacity=\"1\" stroke-width=\"3.2\"/>\n",
       "<circle clip-path=\"url(#clip932)\" cx=\"448.975\" cy=\"1029.42\" r=\"14.4\" fill=\"#009af9\" fill-rule=\"evenodd\" fill-opacity=\"1\" stroke=\"#000000\" stroke-opacity=\"1\" stroke-width=\"3.2\"/>\n",
       "<circle clip-path=\"url(#clip932)\" cx=\"399.722\" cy=\"1043.22\" r=\"14.4\" fill=\"#009af9\" fill-rule=\"evenodd\" fill-opacity=\"1\" stroke=\"#000000\" stroke-opacity=\"1\" stroke-width=\"3.2\"/>\n",
       "<circle clip-path=\"url(#clip932)\" cx=\"606.521\" cy=\"1043.22\" r=\"14.4\" fill=\"#009af9\" fill-rule=\"evenodd\" fill-opacity=\"1\" stroke=\"#000000\" stroke-opacity=\"1\" stroke-width=\"3.2\"/>\n",
       "<circle clip-path=\"url(#clip932)\" cx=\"621.91\" cy=\"1043.22\" r=\"14.4\" fill=\"#009af9\" fill-rule=\"evenodd\" fill-opacity=\"1\" stroke=\"#000000\" stroke-opacity=\"1\" stroke-width=\"3.2\"/>\n",
       "<circle clip-path=\"url(#clip932)\" cx=\"2292.39\" cy=\"1043.22\" r=\"14.4\" fill=\"#009af9\" fill-rule=\"evenodd\" fill-opacity=\"1\" stroke=\"#000000\" stroke-opacity=\"1\" stroke-width=\"3.2\"/>\n",
       "<circle clip-path=\"url(#clip932)\" cx=\"282.525\" cy=\"1043.22\" r=\"14.4\" fill=\"#009af9\" fill-rule=\"evenodd\" fill-opacity=\"1\" stroke=\"#000000\" stroke-opacity=\"1\" stroke-width=\"3.2\"/>\n",
       "<circle clip-path=\"url(#clip932)\" cx=\"532.669\" cy=\"1043.22\" r=\"14.4\" fill=\"#009af9\" fill-rule=\"evenodd\" fill-opacity=\"1\" stroke=\"#000000\" stroke-opacity=\"1\" stroke-width=\"3.2\"/>\n",
       "<circle clip-path=\"url(#clip932)\" cx=\"721.971\" cy=\"1043.22\" r=\"14.4\" fill=\"#009af9\" fill-rule=\"evenodd\" fill-opacity=\"1\" stroke=\"#000000\" stroke-opacity=\"1\" stroke-width=\"3.2\"/>\n",
       "<circle clip-path=\"url(#clip932)\" cx=\"384.667\" cy=\"1043.22\" r=\"14.4\" fill=\"#009af9\" fill-rule=\"evenodd\" fill-opacity=\"1\" stroke=\"#000000\" stroke-opacity=\"1\" stroke-width=\"3.2\"/>\n",
       "<circle clip-path=\"url(#clip932)\" cx=\"1278.66\" cy=\"1057.02\" r=\"14.4\" fill=\"#009af9\" fill-rule=\"evenodd\" fill-opacity=\"1\" stroke=\"#000000\" stroke-opacity=\"1\" stroke-width=\"3.2\"/>\n",
       "<circle clip-path=\"url(#clip932)\" cx=\"359.277\" cy=\"1057.02\" r=\"14.4\" fill=\"#009af9\" fill-rule=\"evenodd\" fill-opacity=\"1\" stroke=\"#000000\" stroke-opacity=\"1\" stroke-width=\"3.2\"/>\n",
       "<circle clip-path=\"url(#clip932)\" cx=\"377.358\" cy=\"1057.02\" r=\"14.4\" fill=\"#009af9\" fill-rule=\"evenodd\" fill-opacity=\"1\" stroke=\"#000000\" stroke-opacity=\"1\" stroke-width=\"3.2\"/>\n",
       "<circle clip-path=\"url(#clip932)\" cx=\"394.435\" cy=\"1057.02\" r=\"14.4\" fill=\"#009af9\" fill-rule=\"evenodd\" fill-opacity=\"1\" stroke=\"#000000\" stroke-opacity=\"1\" stroke-width=\"3.2\"/>\n",
       "<circle clip-path=\"url(#clip932)\" cx=\"286.646\" cy=\"1057.02\" r=\"14.4\" fill=\"#009af9\" fill-rule=\"evenodd\" fill-opacity=\"1\" stroke=\"#000000\" stroke-opacity=\"1\" stroke-width=\"3.2\"/>\n",
       "<circle clip-path=\"url(#clip932)\" cx=\"492.843\" cy=\"1057.02\" r=\"14.4\" fill=\"#009af9\" fill-rule=\"evenodd\" fill-opacity=\"1\" stroke=\"#000000\" stroke-opacity=\"1\" stroke-width=\"3.2\"/>\n",
       "<circle clip-path=\"url(#clip932)\" cx=\"916.076\" cy=\"1070.82\" r=\"14.4\" fill=\"#009af9\" fill-rule=\"evenodd\" fill-opacity=\"1\" stroke=\"#000000\" stroke-opacity=\"1\" stroke-width=\"3.2\"/>\n",
       "<circle clip-path=\"url(#clip932)\" cx=\"469.583\" cy=\"1070.82\" r=\"14.4\" fill=\"#009af9\" fill-rule=\"evenodd\" fill-opacity=\"1\" stroke=\"#000000\" stroke-opacity=\"1\" stroke-width=\"3.2\"/>\n",
       "<circle clip-path=\"url(#clip932)\" cx=\"617.226\" cy=\"1070.82\" r=\"14.4\" fill=\"#009af9\" fill-rule=\"evenodd\" fill-opacity=\"1\" stroke=\"#000000\" stroke-opacity=\"1\" stroke-width=\"3.2\"/>\n",
       "<circle clip-path=\"url(#clip932)\" cx=\"1770.22\" cy=\"1070.82\" r=\"14.4\" fill=\"#009af9\" fill-rule=\"evenodd\" fill-opacity=\"1\" stroke=\"#000000\" stroke-opacity=\"1\" stroke-width=\"3.2\"/>\n",
       "<circle clip-path=\"url(#clip932)\" cx=\"1007.17\" cy=\"1084.62\" r=\"14.4\" fill=\"#009af9\" fill-rule=\"evenodd\" fill-opacity=\"1\" stroke=\"#000000\" stroke-opacity=\"1\" stroke-width=\"3.2\"/>\n",
       "<circle clip-path=\"url(#clip932)\" cx=\"840.276\" cy=\"1084.62\" r=\"14.4\" fill=\"#009af9\" fill-rule=\"evenodd\" fill-opacity=\"1\" stroke=\"#000000\" stroke-opacity=\"1\" stroke-width=\"3.2\"/>\n",
       "<circle clip-path=\"url(#clip932)\" cx=\"375.758\" cy=\"1084.62\" r=\"14.4\" fill=\"#009af9\" fill-rule=\"evenodd\" fill-opacity=\"1\" stroke=\"#000000\" stroke-opacity=\"1\" stroke-width=\"3.2\"/>\n",
       "<circle clip-path=\"url(#clip932)\" cx=\"1922.99\" cy=\"1084.62\" r=\"14.4\" fill=\"#009af9\" fill-rule=\"evenodd\" fill-opacity=\"1\" stroke=\"#000000\" stroke-opacity=\"1\" stroke-width=\"3.2\"/>\n",
       "<circle clip-path=\"url(#clip932)\" cx=\"1654.08\" cy=\"1084.62\" r=\"14.4\" fill=\"#009af9\" fill-rule=\"evenodd\" fill-opacity=\"1\" stroke=\"#000000\" stroke-opacity=\"1\" stroke-width=\"3.2\"/>\n",
       "<circle clip-path=\"url(#clip932)\" cx=\"1325.64\" cy=\"1098.43\" r=\"14.4\" fill=\"#009af9\" fill-rule=\"evenodd\" fill-opacity=\"1\" stroke=\"#000000\" stroke-opacity=\"1\" stroke-width=\"3.2\"/>\n",
       "<circle clip-path=\"url(#clip932)\" cx=\"341.321\" cy=\"1098.43\" r=\"14.4\" fill=\"#009af9\" fill-rule=\"evenodd\" fill-opacity=\"1\" stroke=\"#000000\" stroke-opacity=\"1\" stroke-width=\"3.2\"/>\n",
       "<circle clip-path=\"url(#clip932)\" cx=\"708.653\" cy=\"1098.43\" r=\"14.4\" fill=\"#009af9\" fill-rule=\"evenodd\" fill-opacity=\"1\" stroke=\"#000000\" stroke-opacity=\"1\" stroke-width=\"3.2\"/>\n",
       "<circle clip-path=\"url(#clip932)\" cx=\"633.823\" cy=\"1098.43\" r=\"14.4\" fill=\"#009af9\" fill-rule=\"evenodd\" fill-opacity=\"1\" stroke=\"#000000\" stroke-opacity=\"1\" stroke-width=\"3.2\"/>\n",
       "<circle clip-path=\"url(#clip932)\" cx=\"480.925\" cy=\"1112.23\" r=\"14.4\" fill=\"#009af9\" fill-rule=\"evenodd\" fill-opacity=\"1\" stroke=\"#000000\" stroke-opacity=\"1\" stroke-width=\"3.2\"/>\n",
       "<circle clip-path=\"url(#clip932)\" cx=\"308.233\" cy=\"1112.23\" r=\"14.4\" fill=\"#009af9\" fill-rule=\"evenodd\" fill-opacity=\"1\" stroke=\"#000000\" stroke-opacity=\"1\" stroke-width=\"3.2\"/>\n",
       "<circle clip-path=\"url(#clip932)\" cx=\"345.536\" cy=\"1126.03\" r=\"14.4\" fill=\"#009af9\" fill-rule=\"evenodd\" fill-opacity=\"1\" stroke=\"#000000\" stroke-opacity=\"1\" stroke-width=\"3.2\"/>\n",
       "<circle clip-path=\"url(#clip932)\" cx=\"310.853\" cy=\"1126.03\" r=\"14.4\" fill=\"#009af9\" fill-rule=\"evenodd\" fill-opacity=\"1\" stroke=\"#000000\" stroke-opacity=\"1\" stroke-width=\"3.2\"/>\n",
       "<circle clip-path=\"url(#clip932)\" cx=\"470.104\" cy=\"1126.03\" r=\"14.4\" fill=\"#009af9\" fill-rule=\"evenodd\" fill-opacity=\"1\" stroke=\"#000000\" stroke-opacity=\"1\" stroke-width=\"3.2\"/>\n",
       "<circle clip-path=\"url(#clip932)\" cx=\"660.716\" cy=\"1139.83\" r=\"14.4\" fill=\"#009af9\" fill-rule=\"evenodd\" fill-opacity=\"1\" stroke=\"#000000\" stroke-opacity=\"1\" stroke-width=\"3.2\"/>\n",
       "<circle clip-path=\"url(#clip932)\" cx=\"734.96\" cy=\"1139.83\" r=\"14.4\" fill=\"#009af9\" fill-rule=\"evenodd\" fill-opacity=\"1\" stroke=\"#000000\" stroke-opacity=\"1\" stroke-width=\"3.2\"/>\n",
       "<circle clip-path=\"url(#clip932)\" cx=\"321.133\" cy=\"1139.83\" r=\"14.4\" fill=\"#009af9\" fill-rule=\"evenodd\" fill-opacity=\"1\" stroke=\"#000000\" stroke-opacity=\"1\" stroke-width=\"3.2\"/>\n",
       "<circle clip-path=\"url(#clip932)\" cx=\"355.862\" cy=\"1153.63\" r=\"14.4\" fill=\"#009af9\" fill-rule=\"evenodd\" fill-opacity=\"1\" stroke=\"#000000\" stroke-opacity=\"1\" stroke-width=\"3.2\"/>\n",
       "<circle clip-path=\"url(#clip932)\" cx=\"627.645\" cy=\"1153.63\" r=\"14.4\" fill=\"#009af9\" fill-rule=\"evenodd\" fill-opacity=\"1\" stroke=\"#000000\" stroke-opacity=\"1\" stroke-width=\"3.2\"/>\n",
       "<circle clip-path=\"url(#clip932)\" cx=\"390.265\" cy=\"1153.63\" r=\"14.4\" fill=\"#009af9\" fill-rule=\"evenodd\" fill-opacity=\"1\" stroke=\"#000000\" stroke-opacity=\"1\" stroke-width=\"3.2\"/>\n",
       "<circle clip-path=\"url(#clip932)\" cx=\"391.095\" cy=\"1153.63\" r=\"14.4\" fill=\"#009af9\" fill-rule=\"evenodd\" fill-opacity=\"1\" stroke=\"#000000\" stroke-opacity=\"1\" stroke-width=\"3.2\"/>\n",
       "<circle clip-path=\"url(#clip932)\" cx=\"524.756\" cy=\"1153.63\" r=\"14.4\" fill=\"#009af9\" fill-rule=\"evenodd\" fill-opacity=\"1\" stroke=\"#000000\" stroke-opacity=\"1\" stroke-width=\"3.2\"/>\n",
       "<circle clip-path=\"url(#clip932)\" cx=\"708.983\" cy=\"1153.63\" r=\"14.4\" fill=\"#009af9\" fill-rule=\"evenodd\" fill-opacity=\"1\" stroke=\"#000000\" stroke-opacity=\"1\" stroke-width=\"3.2\"/>\n",
       "<circle clip-path=\"url(#clip932)\" cx=\"583.812\" cy=\"1153.63\" r=\"14.4\" fill=\"#009af9\" fill-rule=\"evenodd\" fill-opacity=\"1\" stroke=\"#000000\" stroke-opacity=\"1\" stroke-width=\"3.2\"/>\n",
       "<circle clip-path=\"url(#clip932)\" cx=\"326.794\" cy=\"1167.43\" r=\"14.4\" fill=\"#009af9\" fill-rule=\"evenodd\" fill-opacity=\"1\" stroke=\"#000000\" stroke-opacity=\"1\" stroke-width=\"3.2\"/>\n",
       "<circle clip-path=\"url(#clip932)\" cx=\"366.896\" cy=\"1167.43\" r=\"14.4\" fill=\"#009af9\" fill-rule=\"evenodd\" fill-opacity=\"1\" stroke=\"#000000\" stroke-opacity=\"1\" stroke-width=\"3.2\"/>\n",
       "<circle clip-path=\"url(#clip932)\" cx=\"283.063\" cy=\"1167.43\" r=\"14.4\" fill=\"#009af9\" fill-rule=\"evenodd\" fill-opacity=\"1\" stroke=\"#000000\" stroke-opacity=\"1\" stroke-width=\"3.2\"/>\n",
       "<circle clip-path=\"url(#clip932)\" cx=\"295.014\" cy=\"1167.43\" r=\"14.4\" fill=\"#009af9\" fill-rule=\"evenodd\" fill-opacity=\"1\" stroke=\"#000000\" stroke-opacity=\"1\" stroke-width=\"3.2\"/>\n",
       "<circle clip-path=\"url(#clip932)\" cx=\"1282.02\" cy=\"1167.43\" r=\"14.4\" fill=\"#009af9\" fill-rule=\"evenodd\" fill-opacity=\"1\" stroke=\"#000000\" stroke-opacity=\"1\" stroke-width=\"3.2\"/>\n",
       "<circle clip-path=\"url(#clip932)\" cx=\"837.071\" cy=\"1167.43\" r=\"14.4\" fill=\"#009af9\" fill-rule=\"evenodd\" fill-opacity=\"1\" stroke=\"#000000\" stroke-opacity=\"1\" stroke-width=\"3.2\"/>\n",
       "<circle clip-path=\"url(#clip932)\" cx=\"364.534\" cy=\"1167.43\" r=\"14.4\" fill=\"#009af9\" fill-rule=\"evenodd\" fill-opacity=\"1\" stroke=\"#000000\" stroke-opacity=\"1\" stroke-width=\"3.2\"/>\n",
       "<circle clip-path=\"url(#clip932)\" cx=\"297.332\" cy=\"1181.24\" r=\"14.4\" fill=\"#009af9\" fill-rule=\"evenodd\" fill-opacity=\"1\" stroke=\"#000000\" stroke-opacity=\"1\" stroke-width=\"3.2\"/>\n",
       "<circle clip-path=\"url(#clip932)\" cx=\"665.548\" cy=\"1181.24\" r=\"14.4\" fill=\"#009af9\" fill-rule=\"evenodd\" fill-opacity=\"1\" stroke=\"#000000\" stroke-opacity=\"1\" stroke-width=\"3.2\"/>\n",
       "<circle clip-path=\"url(#clip932)\" cx=\"361.555\" cy=\"1181.24\" r=\"14.4\" fill=\"#009af9\" fill-rule=\"evenodd\" fill-opacity=\"1\" stroke=\"#000000\" stroke-opacity=\"1\" stroke-width=\"3.2\"/>\n",
       "<circle clip-path=\"url(#clip932)\" cx=\"326.78\" cy=\"1181.24\" r=\"14.4\" fill=\"#009af9\" fill-rule=\"evenodd\" fill-opacity=\"1\" stroke=\"#000000\" stroke-opacity=\"1\" stroke-width=\"3.2\"/>\n",
       "<circle clip-path=\"url(#clip932)\" cx=\"439.904\" cy=\"1181.24\" r=\"14.4\" fill=\"#009af9\" fill-rule=\"evenodd\" fill-opacity=\"1\" stroke=\"#000000\" stroke-opacity=\"1\" stroke-width=\"3.2\"/>\n",
       "<circle clip-path=\"url(#clip932)\" cx=\"598.947\" cy=\"1181.24\" r=\"14.4\" fill=\"#009af9\" fill-rule=\"evenodd\" fill-opacity=\"1\" stroke=\"#000000\" stroke-opacity=\"1\" stroke-width=\"3.2\"/>\n",
       "<circle clip-path=\"url(#clip932)\" cx=\"483.394\" cy=\"1195.04\" r=\"14.4\" fill=\"#009af9\" fill-rule=\"evenodd\" fill-opacity=\"1\" stroke=\"#000000\" stroke-opacity=\"1\" stroke-width=\"3.2\"/>\n",
       "<circle clip-path=\"url(#clip932)\" cx=\"830.237\" cy=\"1195.04\" r=\"14.4\" fill=\"#009af9\" fill-rule=\"evenodd\" fill-opacity=\"1\" stroke=\"#000000\" stroke-opacity=\"1\" stroke-width=\"3.2\"/>\n",
       "<circle clip-path=\"url(#clip932)\" cx=\"474.386\" cy=\"1195.04\" r=\"14.4\" fill=\"#009af9\" fill-rule=\"evenodd\" fill-opacity=\"1\" stroke=\"#000000\" stroke-opacity=\"1\" stroke-width=\"3.2\"/>\n",
       "<circle clip-path=\"url(#clip932)\" cx=\"538.362\" cy=\"1195.04\" r=\"14.4\" fill=\"#009af9\" fill-rule=\"evenodd\" fill-opacity=\"1\" stroke=\"#000000\" stroke-opacity=\"1\" stroke-width=\"3.2\"/>\n",
       "<circle clip-path=\"url(#clip932)\" cx=\"482.472\" cy=\"1208.84\" r=\"14.4\" fill=\"#009af9\" fill-rule=\"evenodd\" fill-opacity=\"1\" stroke=\"#000000\" stroke-opacity=\"1\" stroke-width=\"3.2\"/>\n",
       "<circle clip-path=\"url(#clip932)\" cx=\"301.71\" cy=\"1208.84\" r=\"14.4\" fill=\"#009af9\" fill-rule=\"evenodd\" fill-opacity=\"1\" stroke=\"#000000\" stroke-opacity=\"1\" stroke-width=\"3.2\"/>\n",
       "<circle clip-path=\"url(#clip932)\" cx=\"311.795\" cy=\"1208.84\" r=\"14.4\" fill=\"#009af9\" fill-rule=\"evenodd\" fill-opacity=\"1\" stroke=\"#000000\" stroke-opacity=\"1\" stroke-width=\"3.2\"/>\n",
       "<circle clip-path=\"url(#clip932)\" cx=\"310.591\" cy=\"1208.84\" r=\"14.4\" fill=\"#009af9\" fill-rule=\"evenodd\" fill-opacity=\"1\" stroke=\"#000000\" stroke-opacity=\"1\" stroke-width=\"3.2\"/>\n",
       "<circle clip-path=\"url(#clip932)\" cx=\"537.517\" cy=\"1208.84\" r=\"14.4\" fill=\"#009af9\" fill-rule=\"evenodd\" fill-opacity=\"1\" stroke=\"#000000\" stroke-opacity=\"1\" stroke-width=\"3.2\"/>\n",
       "<circle clip-path=\"url(#clip932)\" cx=\"579.587\" cy=\"1208.84\" r=\"14.4\" fill=\"#009af9\" fill-rule=\"evenodd\" fill-opacity=\"1\" stroke=\"#000000\" stroke-opacity=\"1\" stroke-width=\"3.2\"/>\n",
       "<circle clip-path=\"url(#clip932)\" cx=\"1147.8\" cy=\"1208.84\" r=\"14.4\" fill=\"#009af9\" fill-rule=\"evenodd\" fill-opacity=\"1\" stroke=\"#000000\" stroke-opacity=\"1\" stroke-width=\"3.2\"/>\n",
       "<circle clip-path=\"url(#clip932)\" cx=\"318.388\" cy=\"1222.64\" r=\"14.4\" fill=\"#009af9\" fill-rule=\"evenodd\" fill-opacity=\"1\" stroke=\"#000000\" stroke-opacity=\"1\" stroke-width=\"3.2\"/>\n",
       "<circle clip-path=\"url(#clip932)\" cx=\"507.814\" cy=\"1222.64\" r=\"14.4\" fill=\"#009af9\" fill-rule=\"evenodd\" fill-opacity=\"1\" stroke=\"#000000\" stroke-opacity=\"1\" stroke-width=\"3.2\"/>\n",
       "<circle clip-path=\"url(#clip932)\" cx=\"383.282\" cy=\"1222.64\" r=\"14.4\" fill=\"#009af9\" fill-rule=\"evenodd\" fill-opacity=\"1\" stroke=\"#000000\" stroke-opacity=\"1\" stroke-width=\"3.2\"/>\n",
       "<circle clip-path=\"url(#clip932)\" cx=\"298.186\" cy=\"1222.64\" r=\"14.4\" fill=\"#009af9\" fill-rule=\"evenodd\" fill-opacity=\"1\" stroke=\"#000000\" stroke-opacity=\"1\" stroke-width=\"3.2\"/>\n",
       "<circle clip-path=\"url(#clip932)\" cx=\"490.152\" cy=\"1222.64\" r=\"14.4\" fill=\"#009af9\" fill-rule=\"evenodd\" fill-opacity=\"1\" stroke=\"#000000\" stroke-opacity=\"1\" stroke-width=\"3.2\"/>\n",
       "<circle clip-path=\"url(#clip932)\" cx=\"738.513\" cy=\"1236.44\" r=\"14.4\" fill=\"#009af9\" fill-rule=\"evenodd\" fill-opacity=\"1\" stroke=\"#000000\" stroke-opacity=\"1\" stroke-width=\"3.2\"/>\n",
       "<circle clip-path=\"url(#clip932)\" cx=\"337.382\" cy=\"1236.44\" r=\"14.4\" fill=\"#009af9\" fill-rule=\"evenodd\" fill-opacity=\"1\" stroke=\"#000000\" stroke-opacity=\"1\" stroke-width=\"3.2\"/>\n",
       "<circle clip-path=\"url(#clip932)\" cx=\"627.721\" cy=\"1236.44\" r=\"14.4\" fill=\"#009af9\" fill-rule=\"evenodd\" fill-opacity=\"1\" stroke=\"#000000\" stroke-opacity=\"1\" stroke-width=\"3.2\"/>\n",
       "<circle clip-path=\"url(#clip932)\" cx=\"397.539\" cy=\"1236.44\" r=\"14.4\" fill=\"#009af9\" fill-rule=\"evenodd\" fill-opacity=\"1\" stroke=\"#000000\" stroke-opacity=\"1\" stroke-width=\"3.2\"/>\n",
       "<circle clip-path=\"url(#clip932)\" cx=\"340.081\" cy=\"1236.44\" r=\"14.4\" fill=\"#009af9\" fill-rule=\"evenodd\" fill-opacity=\"1\" stroke=\"#000000\" stroke-opacity=\"1\" stroke-width=\"3.2\"/>\n",
       "<circle clip-path=\"url(#clip932)\" cx=\"360.169\" cy=\"1236.44\" r=\"14.4\" fill=\"#009af9\" fill-rule=\"evenodd\" fill-opacity=\"1\" stroke=\"#000000\" stroke-opacity=\"1\" stroke-width=\"3.2\"/>\n",
       "<circle clip-path=\"url(#clip932)\" cx=\"428.455\" cy=\"1236.44\" r=\"14.4\" fill=\"#009af9\" fill-rule=\"evenodd\" fill-opacity=\"1\" stroke=\"#000000\" stroke-opacity=\"1\" stroke-width=\"3.2\"/>\n",
       "<circle clip-path=\"url(#clip932)\" cx=\"620.215\" cy=\"1250.24\" r=\"14.4\" fill=\"#009af9\" fill-rule=\"evenodd\" fill-opacity=\"1\" stroke=\"#000000\" stroke-opacity=\"1\" stroke-width=\"3.2\"/>\n",
       "<circle clip-path=\"url(#clip932)\" cx=\"469.366\" cy=\"1250.24\" r=\"14.4\" fill=\"#009af9\" fill-rule=\"evenodd\" fill-opacity=\"1\" stroke=\"#000000\" stroke-opacity=\"1\" stroke-width=\"3.2\"/>\n",
       "<circle clip-path=\"url(#clip932)\" cx=\"593.235\" cy=\"1250.24\" r=\"14.4\" fill=\"#009af9\" fill-rule=\"evenodd\" fill-opacity=\"1\" stroke=\"#000000\" stroke-opacity=\"1\" stroke-width=\"3.2\"/>\n",
       "<circle clip-path=\"url(#clip932)\" cx=\"336.533\" cy=\"1250.24\" r=\"14.4\" fill=\"#009af9\" fill-rule=\"evenodd\" fill-opacity=\"1\" stroke=\"#000000\" stroke-opacity=\"1\" stroke-width=\"3.2\"/>\n",
       "<circle clip-path=\"url(#clip932)\" cx=\"548.14\" cy=\"1264.05\" r=\"14.4\" fill=\"#009af9\" fill-rule=\"evenodd\" fill-opacity=\"1\" stroke=\"#000000\" stroke-opacity=\"1\" stroke-width=\"3.2\"/>\n",
       "<circle clip-path=\"url(#clip932)\" cx=\"339.602\" cy=\"1264.05\" r=\"14.4\" fill=\"#009af9\" fill-rule=\"evenodd\" fill-opacity=\"1\" stroke=\"#000000\" stroke-opacity=\"1\" stroke-width=\"3.2\"/>\n",
       "<circle clip-path=\"url(#clip932)\" cx=\"380.471\" cy=\"1264.05\" r=\"14.4\" fill=\"#009af9\" fill-rule=\"evenodd\" fill-opacity=\"1\" stroke=\"#000000\" stroke-opacity=\"1\" stroke-width=\"3.2\"/>\n",
       "<circle clip-path=\"url(#clip932)\" cx=\"883.913\" cy=\"1264.05\" r=\"14.4\" fill=\"#009af9\" fill-rule=\"evenodd\" fill-opacity=\"1\" stroke=\"#000000\" stroke-opacity=\"1\" stroke-width=\"3.2\"/>\n",
       "<circle clip-path=\"url(#clip932)\" cx=\"640.686\" cy=\"1264.05\" r=\"14.4\" fill=\"#009af9\" fill-rule=\"evenodd\" fill-opacity=\"1\" stroke=\"#000000\" stroke-opacity=\"1\" stroke-width=\"3.2\"/>\n",
       "<circle clip-path=\"url(#clip932)\" cx=\"751.29\" cy=\"1264.05\" r=\"14.4\" fill=\"#009af9\" fill-rule=\"evenodd\" fill-opacity=\"1\" stroke=\"#000000\" stroke-opacity=\"1\" stroke-width=\"3.2\"/>\n",
       "<circle clip-path=\"url(#clip932)\" cx=\"707.58\" cy=\"1264.05\" r=\"14.4\" fill=\"#009af9\" fill-rule=\"evenodd\" fill-opacity=\"1\" stroke=\"#000000\" stroke-opacity=\"1\" stroke-width=\"3.2\"/>\n",
       "<circle clip-path=\"url(#clip932)\" cx=\"744.388\" cy=\"1277.85\" r=\"14.4\" fill=\"#009af9\" fill-rule=\"evenodd\" fill-opacity=\"1\" stroke=\"#000000\" stroke-opacity=\"1\" stroke-width=\"3.2\"/>\n",
       "<circle clip-path=\"url(#clip932)\" cx=\"494.868\" cy=\"1277.85\" r=\"14.4\" fill=\"#009af9\" fill-rule=\"evenodd\" fill-opacity=\"1\" stroke=\"#000000\" stroke-opacity=\"1\" stroke-width=\"3.2\"/>\n",
       "<circle clip-path=\"url(#clip932)\" cx=\"466.903\" cy=\"1277.85\" r=\"14.4\" fill=\"#009af9\" fill-rule=\"evenodd\" fill-opacity=\"1\" stroke=\"#000000\" stroke-opacity=\"1\" stroke-width=\"3.2\"/>\n",
       "<circle clip-path=\"url(#clip932)\" cx=\"942.621\" cy=\"1277.85\" r=\"14.4\" fill=\"#009af9\" fill-rule=\"evenodd\" fill-opacity=\"1\" stroke=\"#000000\" stroke-opacity=\"1\" stroke-width=\"3.2\"/>\n",
       "<circle clip-path=\"url(#clip932)\" cx=\"535.131\" cy=\"1277.85\" r=\"14.4\" fill=\"#009af9\" fill-rule=\"evenodd\" fill-opacity=\"1\" stroke=\"#000000\" stroke-opacity=\"1\" stroke-width=\"3.2\"/>\n",
       "<circle clip-path=\"url(#clip932)\" cx=\"461.439\" cy=\"1291.65\" r=\"14.4\" fill=\"#009af9\" fill-rule=\"evenodd\" fill-opacity=\"1\" stroke=\"#000000\" stroke-opacity=\"1\" stroke-width=\"3.2\"/>\n",
       "<circle clip-path=\"url(#clip932)\" cx=\"310.879\" cy=\"1291.65\" r=\"14.4\" fill=\"#009af9\" fill-rule=\"evenodd\" fill-opacity=\"1\" stroke=\"#000000\" stroke-opacity=\"1\" stroke-width=\"3.2\"/>\n",
       "<circle clip-path=\"url(#clip932)\" cx=\"754.393\" cy=\"1291.65\" r=\"14.4\" fill=\"#009af9\" fill-rule=\"evenodd\" fill-opacity=\"1\" stroke=\"#000000\" stroke-opacity=\"1\" stroke-width=\"3.2\"/>\n",
       "<circle clip-path=\"url(#clip932)\" cx=\"445.789\" cy=\"1291.65\" r=\"14.4\" fill=\"#009af9\" fill-rule=\"evenodd\" fill-opacity=\"1\" stroke=\"#000000\" stroke-opacity=\"1\" stroke-width=\"3.2\"/>\n",
       "<circle clip-path=\"url(#clip932)\" cx=\"833.396\" cy=\"1291.65\" r=\"14.4\" fill=\"#009af9\" fill-rule=\"evenodd\" fill-opacity=\"1\" stroke=\"#000000\" stroke-opacity=\"1\" stroke-width=\"3.2\"/>\n",
       "<circle clip-path=\"url(#clip932)\" cx=\"1235.73\" cy=\"1305.45\" r=\"14.4\" fill=\"#009af9\" fill-rule=\"evenodd\" fill-opacity=\"1\" stroke=\"#000000\" stroke-opacity=\"1\" stroke-width=\"3.2\"/>\n",
       "<circle clip-path=\"url(#clip932)\" cx=\"1198.78\" cy=\"1305.45\" r=\"14.4\" fill=\"#009af9\" fill-rule=\"evenodd\" fill-opacity=\"1\" stroke=\"#000000\" stroke-opacity=\"1\" stroke-width=\"3.2\"/>\n",
       "<circle clip-path=\"url(#clip932)\" cx=\"1123.77\" cy=\"1305.45\" r=\"14.4\" fill=\"#009af9\" fill-rule=\"evenodd\" fill-opacity=\"1\" stroke=\"#000000\" stroke-opacity=\"1\" stroke-width=\"3.2\"/>\n",
       "<circle clip-path=\"url(#clip932)\" cx=\"660.16\" cy=\"1305.45\" r=\"14.4\" fill=\"#009af9\" fill-rule=\"evenodd\" fill-opacity=\"1\" stroke=\"#000000\" stroke-opacity=\"1\" stroke-width=\"3.2\"/>\n",
       "<circle clip-path=\"url(#clip932)\" cx=\"532.31\" cy=\"1305.45\" r=\"14.4\" fill=\"#009af9\" fill-rule=\"evenodd\" fill-opacity=\"1\" stroke=\"#000000\" stroke-opacity=\"1\" stroke-width=\"3.2\"/>\n",
       "<circle clip-path=\"url(#clip932)\" cx=\"1010.18\" cy=\"1319.25\" r=\"14.4\" fill=\"#009af9\" fill-rule=\"evenodd\" fill-opacity=\"1\" stroke=\"#000000\" stroke-opacity=\"1\" stroke-width=\"3.2\"/>\n",
       "<circle clip-path=\"url(#clip932)\" cx=\"372.113\" cy=\"1319.25\" r=\"14.4\" fill=\"#009af9\" fill-rule=\"evenodd\" fill-opacity=\"1\" stroke=\"#000000\" stroke-opacity=\"1\" stroke-width=\"3.2\"/>\n",
       "<circle clip-path=\"url(#clip932)\" cx=\"311.708\" cy=\"1319.25\" r=\"14.4\" fill=\"#009af9\" fill-rule=\"evenodd\" fill-opacity=\"1\" stroke=\"#000000\" stroke-opacity=\"1\" stroke-width=\"3.2\"/>\n",
       "<circle clip-path=\"url(#clip932)\" cx=\"337.735\" cy=\"1319.25\" r=\"14.4\" fill=\"#009af9\" fill-rule=\"evenodd\" fill-opacity=\"1\" stroke=\"#000000\" stroke-opacity=\"1\" stroke-width=\"3.2\"/>\n",
       "<circle clip-path=\"url(#clip932)\" cx=\"334.756\" cy=\"1319.25\" r=\"14.4\" fill=\"#009af9\" fill-rule=\"evenodd\" fill-opacity=\"1\" stroke=\"#000000\" stroke-opacity=\"1\" stroke-width=\"3.2\"/>\n",
       "<circle clip-path=\"url(#clip932)\" cx=\"323.997\" cy=\"1319.25\" r=\"14.4\" fill=\"#009af9\" fill-rule=\"evenodd\" fill-opacity=\"1\" stroke=\"#000000\" stroke-opacity=\"1\" stroke-width=\"3.2\"/>\n",
       "<circle clip-path=\"url(#clip932)\" cx=\"440.571\" cy=\"1319.25\" r=\"14.4\" fill=\"#009af9\" fill-rule=\"evenodd\" fill-opacity=\"1\" stroke=\"#000000\" stroke-opacity=\"1\" stroke-width=\"3.2\"/>\n",
       "<circle clip-path=\"url(#clip932)\" cx=\"307.449\" cy=\"1319.25\" r=\"14.4\" fill=\"#009af9\" fill-rule=\"evenodd\" fill-opacity=\"1\" stroke=\"#000000\" stroke-opacity=\"1\" stroke-width=\"3.2\"/>\n",
       "<circle clip-path=\"url(#clip932)\" cx=\"316.307\" cy=\"1319.25\" r=\"14.4\" fill=\"#009af9\" fill-rule=\"evenodd\" fill-opacity=\"1\" stroke=\"#000000\" stroke-opacity=\"1\" stroke-width=\"3.2\"/>\n",
       "<circle clip-path=\"url(#clip932)\" cx=\"398.552\" cy=\"1319.25\" r=\"14.4\" fill=\"#009af9\" fill-rule=\"evenodd\" fill-opacity=\"1\" stroke=\"#000000\" stroke-opacity=\"1\" stroke-width=\"3.2\"/>\n",
       "<circle clip-path=\"url(#clip932)\" cx=\"552.304\" cy=\"1333.05\" r=\"14.4\" fill=\"#009af9\" fill-rule=\"evenodd\" fill-opacity=\"1\" stroke=\"#000000\" stroke-opacity=\"1\" stroke-width=\"3.2\"/>\n",
       "<circle clip-path=\"url(#clip932)\" cx=\"297.815\" cy=\"1333.05\" r=\"14.4\" fill=\"#009af9\" fill-rule=\"evenodd\" fill-opacity=\"1\" stroke=\"#000000\" stroke-opacity=\"1\" stroke-width=\"3.2\"/>\n",
       "<circle clip-path=\"url(#clip932)\" cx=\"532.3\" cy=\"1333.05\" r=\"14.4\" fill=\"#009af9\" fill-rule=\"evenodd\" fill-opacity=\"1\" stroke=\"#000000\" stroke-opacity=\"1\" stroke-width=\"3.2\"/>\n",
       "<circle clip-path=\"url(#clip932)\" cx=\"300.219\" cy=\"1333.05\" r=\"14.4\" fill=\"#009af9\" fill-rule=\"evenodd\" fill-opacity=\"1\" stroke=\"#000000\" stroke-opacity=\"1\" stroke-width=\"3.2\"/>\n",
       "<circle clip-path=\"url(#clip932)\" cx=\"633.053\" cy=\"1333.05\" r=\"14.4\" fill=\"#009af9\" fill-rule=\"evenodd\" fill-opacity=\"1\" stroke=\"#000000\" stroke-opacity=\"1\" stroke-width=\"3.2\"/>\n",
       "<circle clip-path=\"url(#clip932)\" cx=\"718.599\" cy=\"1333.05\" r=\"14.4\" fill=\"#009af9\" fill-rule=\"evenodd\" fill-opacity=\"1\" stroke=\"#000000\" stroke-opacity=\"1\" stroke-width=\"3.2\"/>\n",
       "<circle clip-path=\"url(#clip932)\" cx=\"462.829\" cy=\"1333.05\" r=\"14.4\" fill=\"#009af9\" fill-rule=\"evenodd\" fill-opacity=\"1\" stroke=\"#000000\" stroke-opacity=\"1\" stroke-width=\"3.2\"/>\n",
       "<circle clip-path=\"url(#clip932)\" cx=\"570.473\" cy=\"1333.05\" r=\"14.4\" fill=\"#009af9\" fill-rule=\"evenodd\" fill-opacity=\"1\" stroke=\"#000000\" stroke-opacity=\"1\" stroke-width=\"3.2\"/>\n",
       "<circle clip-path=\"url(#clip932)\" cx=\"319.654\" cy=\"1333.05\" r=\"14.4\" fill=\"#009af9\" fill-rule=\"evenodd\" fill-opacity=\"1\" stroke=\"#000000\" stroke-opacity=\"1\" stroke-width=\"3.2\"/>\n",
       "<circle clip-path=\"url(#clip932)\" cx=\"1117\" cy=\"1346.86\" r=\"14.4\" fill=\"#009af9\" fill-rule=\"evenodd\" fill-opacity=\"1\" stroke=\"#000000\" stroke-opacity=\"1\" stroke-width=\"3.2\"/>\n",
       "<circle clip-path=\"url(#clip932)\" cx=\"1349.74\" cy=\"1346.86\" r=\"14.4\" fill=\"#009af9\" fill-rule=\"evenodd\" fill-opacity=\"1\" stroke=\"#000000\" stroke-opacity=\"1\" stroke-width=\"3.2\"/>\n",
       "<circle clip-path=\"url(#clip932)\" cx=\"553.07\" cy=\"1346.86\" r=\"14.4\" fill=\"#009af9\" fill-rule=\"evenodd\" fill-opacity=\"1\" stroke=\"#000000\" stroke-opacity=\"1\" stroke-width=\"3.2\"/>\n",
       "<circle clip-path=\"url(#clip932)\" cx=\"340.909\" cy=\"1346.86\" r=\"14.4\" fill=\"#009af9\" fill-rule=\"evenodd\" fill-opacity=\"1\" stroke=\"#000000\" stroke-opacity=\"1\" stroke-width=\"3.2\"/>\n",
       "<circle clip-path=\"url(#clip932)\" cx=\"280.141\" cy=\"1346.86\" r=\"14.4\" fill=\"#009af9\" fill-rule=\"evenodd\" fill-opacity=\"1\" stroke=\"#000000\" stroke-opacity=\"1\" stroke-width=\"3.2\"/>\n",
       "<circle clip-path=\"url(#clip932)\" cx=\"555.191\" cy=\"1346.86\" r=\"14.4\" fill=\"#009af9\" fill-rule=\"evenodd\" fill-opacity=\"1\" stroke=\"#000000\" stroke-opacity=\"1\" stroke-width=\"3.2\"/>\n",
       "<circle clip-path=\"url(#clip932)\" cx=\"656.25\" cy=\"1346.86\" r=\"14.4\" fill=\"#009af9\" fill-rule=\"evenodd\" fill-opacity=\"1\" stroke=\"#000000\" stroke-opacity=\"1\" stroke-width=\"3.2\"/>\n",
       "<circle clip-path=\"url(#clip932)\" cx=\"474.333\" cy=\"1346.86\" r=\"14.4\" fill=\"#009af9\" fill-rule=\"evenodd\" fill-opacity=\"1\" stroke=\"#000000\" stroke-opacity=\"1\" stroke-width=\"3.2\"/>\n",
       "<circle clip-path=\"url(#clip932)\" cx=\"448.424\" cy=\"1346.86\" r=\"14.4\" fill=\"#009af9\" fill-rule=\"evenodd\" fill-opacity=\"1\" stroke=\"#000000\" stroke-opacity=\"1\" stroke-width=\"3.2\"/>\n",
       "<circle clip-path=\"url(#clip932)\" cx=\"667.458\" cy=\"1360.66\" r=\"14.4\" fill=\"#009af9\" fill-rule=\"evenodd\" fill-opacity=\"1\" stroke=\"#000000\" stroke-opacity=\"1\" stroke-width=\"3.2\"/>\n",
       "<circle clip-path=\"url(#clip932)\" cx=\"767.551\" cy=\"1360.66\" r=\"14.4\" fill=\"#009af9\" fill-rule=\"evenodd\" fill-opacity=\"1\" stroke=\"#000000\" stroke-opacity=\"1\" stroke-width=\"3.2\"/>\n",
       "<circle clip-path=\"url(#clip932)\" cx=\"526.722\" cy=\"1360.66\" r=\"14.4\" fill=\"#009af9\" fill-rule=\"evenodd\" fill-opacity=\"1\" stroke=\"#000000\" stroke-opacity=\"1\" stroke-width=\"3.2\"/>\n",
       "<circle clip-path=\"url(#clip932)\" cx=\"314.707\" cy=\"1360.66\" r=\"14.4\" fill=\"#009af9\" fill-rule=\"evenodd\" fill-opacity=\"1\" stroke=\"#000000\" stroke-opacity=\"1\" stroke-width=\"3.2\"/>\n",
       "<circle clip-path=\"url(#clip932)\" cx=\"345.959\" cy=\"1360.66\" r=\"14.4\" fill=\"#009af9\" fill-rule=\"evenodd\" fill-opacity=\"1\" stroke=\"#000000\" stroke-opacity=\"1\" stroke-width=\"3.2\"/>\n",
       "<circle clip-path=\"url(#clip932)\" cx=\"391.736\" cy=\"1360.66\" r=\"14.4\" fill=\"#009af9\" fill-rule=\"evenodd\" fill-opacity=\"1\" stroke=\"#000000\" stroke-opacity=\"1\" stroke-width=\"3.2\"/>\n",
       "<circle clip-path=\"url(#clip932)\" cx=\"320.264\" cy=\"1374.46\" r=\"14.4\" fill=\"#009af9\" fill-rule=\"evenodd\" fill-opacity=\"1\" stroke=\"#000000\" stroke-opacity=\"1\" stroke-width=\"3.2\"/>\n",
       "</svg>\n"
      ]
     },
     "execution_count": 50,
     "metadata": {},
     "output_type": "execute_result"
    }
   ],
   "source": [
    "# Scatter plot\n",
    "train_plot = scatter(anime.Members, anime.Score, title=\"Scatter Plot\", xlabel = \"Members\", ylabel = \"Score\", legend = false)"
   ]
  },
  {
   "cell_type": "markdown",
   "id": "87393d4b",
   "metadata": {},
   "source": [
    "### Split Data"
   ]
  },
  {
   "cell_type": "code",
   "execution_count": 40,
   "id": "a61d6670",
   "metadata": {},
   "outputs": [
    {
     "data": {
      "text/plain": [
       "(\u001b[1m186×12 DataFrame\u001b[0m\n",
       "\u001b[1m Row \u001b[0m│\u001b[1m Rank  \u001b[0m\u001b[1m Title                             \u001b[0m\u001b[1m Popularity \u001b[0m\u001b[1m Genre \u001b[0m\u001b[1m Studio \u001b[0m\u001b[1m Ty\u001b[0m ⋯\n",
       "\u001b[1m     \u001b[0m│\u001b[90m Int64 \u001b[0m\u001b[90m String                            \u001b[0m\u001b[90m Int64      \u001b[0m\u001b[90m Int64 \u001b[0m\u001b[90m Int64  \u001b[0m\u001b[90m In\u001b[0m ⋯\n",
       "─────┼──────────────────────────────────────────────────────────────────────────\n",
       "   1 │     1  Shingeki no Kyojin: The Final Se…         609      1       1     ⋯\n",
       "   2 │     2  Fullmetal Alchemist: Brotherhood            3      2       2\n",
       "   3 │     3  Bleach: Sennen Kessen-hen                 508      3       3\n",
       "   4 │     4  Steins;Gate                                13      4       4\n",
       "   5 │     6  Kaguya-sama wa Kokurasetai: Ultr…         221      6       6     ⋯\n",
       "   6 │     7  Shingeki no Kyojin Season 3 Part…          26      7       7\n",
       "   7 │     9  Gintama'                                  385      5       8\n",
       "   8 │    10  Hunter x Hunter (2011)                     10      3       9\n",
       "   9 │    11  Ginga Eiyuu Densetsu                      724      9      10     ⋯\n",
       "  10 │    12  Gintama': Enchousen                       712      5       8\n",
       "  11 │    13  Fruits Basket: The Final                  494     10      11\n",
       "  ⋮  │   ⋮                    ⋮                      ⋮         ⋮      ⋮        ⋱\n",
       " 177 │   238  Hunter x Hunter: Original Video …        1637      3      58\n",
       " 178 │   240  Natsume Yuujinchou                        387     47      29     ⋯\n",
       " 179 │   241  NHK ni Youkoso!                           255     11      73\n",
       " 180 │   242  Sakamichi no Apollon                      577     48      74\n",
       " 181 │   243  Shelter (Music)                           677    109       6\n",
       " 182 │   244  Kuroko no Basket 3rd Season               242     25      19     ⋯\n",
       " 183 │   245  Tenki no Ko                               161    110      15\n",
       " 184 │   246  Blue Lock                                 439     25      61\n",
       " 185 │   248  Diamond no Ace: Second Season            1541     25      75\n",
       " 186 │   250  Ashita no Joe                            2112     78      76     ⋯\n",
       "\u001b[36m                                                  7 columns and 165 rows omitted\u001b[0m, \u001b[1m58×12 DataFrame\u001b[0m\n",
       "\u001b[1m Row \u001b[0m│\u001b[1m Rank  \u001b[0m\u001b[1m Title                             \u001b[0m\u001b[1m Popularity \u001b[0m\u001b[1m Genre \u001b[0m\u001b[1m Studio \u001b[0m\u001b[1m Ty\u001b[0m ⋯\n",
       "\u001b[1m     \u001b[0m│\u001b[90m Int64 \u001b[0m\u001b[90m String                            \u001b[0m\u001b[90m Int64      \u001b[0m\u001b[90m Int64 \u001b[0m\u001b[90m Int64  \u001b[0m\u001b[90m In\u001b[0m ⋯\n",
       "─────┼──────────────────────────────────────────────────────────────────────────\n",
       "   1 │     5  Gintama\\xb0                               335      5       5     ⋯\n",
       "   2 │     8  Gintama: The Final                       1581      8       5\n",
       "   3 │    16  3-gatsu no Lion 2nd Season                550     12      12\n",
       "   4 │    21  Bocchi the Rock!                          597     14      14\n",
       "   5 │    22  Code Geass: Hangyaku no Lelouch …          47     15       8     ⋯\n",
       "   6 │    23  Violet Evergarden Movie                   375     16      13\n",
       "   7 │    30  Kingdom 3rd Season                       2064     21      17\n",
       "   8 │    37  Shingeki no Kyojin: The Final Se…         124      7       1\n",
       "   9 │    39  Cowboy Bebop                               43     28       8     ⋯\n",
       "  10 │    41  Kingdom 4th Season                       2838     21      17\n",
       "  11 │    42  Mob Psycho 100 III                        376     22       2\n",
       "  ⋮  │   ⋮                    ⋮                      ⋮         ⋮      ⋮        ⋱\n",
       "  49 │   192  Mahou Shoujo Madoka?Magica Movie…        1114     93      12\n",
       "  50 │   195  Baccano!                                  176     94      29     ⋯\n",
       "  51 │   201  Usagi Drop                                417     68      19\n",
       "  52 │   212  Boku no Hero Academia 6th Season          427     21       2\n",
       "  53 │   213  Bakemonogatari                             83    103      12\n",
       "  54 │   225  Kobayashi-san Chi no Maid Dragon…         395    105      13     ⋯\n",
       "  55 │   234  Kemono no Souja Erin                     2128     43      71\n",
       "  56 │   239  IDOLiSH7 Third Beat! Part 2              5794     30      72\n",
       "  57 │   247  Detective Conan Movie 06: The Ph…        2289    111      11\n",
       "  58 │   249  Hibike! Euphonium 2                      1017     30      13     ⋯\n",
       "\u001b[36m                                                   7 columns and 37 rows omitted\u001b[0m)"
      ]
     },
     "execution_count": 40,
     "metadata": {},
     "output_type": "execute_result"
    }
   ],
   "source": [
    "using Lathe.preprocess: TrainTestSplit\n",
    "train, test = TrainTestSplit(anime,.75)"
   ]
  },
  {
   "cell_type": "code",
   "execution_count": 41,
   "id": "7cdcae5d",
   "metadata": {},
   "outputs": [
    {
     "data": {
      "text/plain": [
       "FormulaTerm\n",
       "Response:\n",
       "  Score(unknown)\n",
       "Predictors:\n",
       "  Members(unknown)\n",
       "  Popularity(unknown)\n",
       "  Duration(unknown)\n",
       "  Episodes(unknown)\n",
       "  Type(unknown)\n",
       "  Genre(unknown)\n",
       "  Studio(unknown)"
      ]
     },
     "execution_count": 41,
     "metadata": {},
     "output_type": "execute_result"
    }
   ],
   "source": [
    "fm = @formula(Score ~ Members + Popularity + Duration + Episodes + Type + Genre + Studio)"
   ]
  },
  {
   "cell_type": "code",
   "execution_count": 42,
   "id": "bf007dfc",
   "metadata": {},
   "outputs": [
    {
     "data": {
      "text/plain": [
       "StatsModels.TableRegressionModel{LinearModel{GLM.LmResp{Vector{Float64}}, GLM.DensePredChol{Float64, LinearAlgebra.CholeskyPivoted{Float64, Matrix{Float64}, Vector{Int64}}}}, Matrix{Float64}}\n",
       "\n",
       "Score ~ 1 + Members + Popularity + Duration + Episodes + Type + Genre + Studio\n",
       "\n",
       "Coefficients:\n",
       "───────────────────────────────────────────────────────────────────────────────────\n",
       "                    Coef.   Std. Error       t  Pr(>|t|)     Lower 95%    Upper 95%\n",
       "───────────────────────────────────────────────────────────────────────────────────\n",
       "(Intercept)   8.65967      0.0531962    162.79    <1e-99   8.55469       8.76465\n",
       "Members       3.00162e-8   2.16855e-8     1.38    0.1680  -1.27776e-8    7.281e-8\n",
       "Popularity   -1.22766e-5   1.79718e-5    -0.68    0.4954  -4.77418e-5    2.31886e-5\n",
       "Duration      0.000514447  0.000406827    1.26    0.2077  -0.000288376   0.00131727\n",
       "Episodes      0.0012726    0.000521609    2.44    0.0157   0.000243269   0.00230193\n",
       "Type          0.00822191   0.0170237      0.48    0.6297  -0.0253724     0.0418162\n",
       "Genre        -0.00287669   0.000440739   -6.53    <1e-09  -0.00374644   -0.00200695\n",
       "Studio       -0.00292547   0.000701113   -4.17    <1e-04  -0.00430903   -0.00154191\n",
       "───────────────────────────────────────────────────────────────────────────────────"
      ]
     },
     "execution_count": 42,
     "metadata": {},
     "output_type": "execute_result"
    }
   ],
   "source": [
    "linearRegressor = lm(fm, train)"
   ]
  },
  {
   "cell_type": "markdown",
   "id": "2ae1f03f",
   "metadata": {},
   "source": [
    "### Model Evaluation using the R Square value"
   ]
  },
  {
   "cell_type": "code",
   "execution_count": 43,
   "id": "ccf3ae31",
   "metadata": {},
   "outputs": [
    {
     "data": {
      "text/plain": [
       "0.39824075233370004"
      ]
     },
     "execution_count": 43,
     "metadata": {},
     "output_type": "execute_result"
    }
   ],
   "source": [
    "r2(linearRegressor)"
   ]
  },
  {
   "cell_type": "markdown",
   "id": "a4970f5e",
   "metadata": {},
   "source": [
    "### Prediction"
   ]
  },
  {
   "cell_type": "code",
   "execution_count": 53,
   "id": "109616e3",
   "metadata": {},
   "outputs": [
    {
     "data": {
      "text/plain": [
       "5-element Vector{Union{Missing, Float64}}:\n",
       " 8.737710147526219\n",
       " 8.685856160994462\n",
       " 8.651896370436283\n",
       " 8.625293457219717\n",
       " 8.703283825136236"
      ]
     },
     "execution_count": 53,
     "metadata": {},
     "output_type": "execute_result"
    }
   ],
   "source": [
    "ypredicted_test = predict(linearRegressor, test)\n",
    "first(ypredicted_test, 5)"
   ]
  },
  {
   "cell_type": "code",
   "execution_count": 52,
   "id": "d18f2e96",
   "metadata": {
    "scrolled": true
   },
   "outputs": [
    {
     "data": {
      "text/plain": [
       "5-element Vector{Union{Missing, Float64}}:\n",
       " 8.698982811910222\n",
       " 8.851615939838517\n",
       " 8.693490147656417\n",
       " 8.767487696891008\n",
       " 8.69013807058262"
      ]
     },
     "execution_count": 52,
     "metadata": {},
     "output_type": "execute_result"
    }
   ],
   "source": [
    "ypredicted_train = predict(linearRegressor, train)\n",
    "first(ypredicted_train, 5)"
   ]
  },
  {
   "cell_type": "markdown",
   "id": "831ecfd4",
   "metadata": {},
   "source": [
    "### Test Performance DataFrame"
   ]
  },
  {
   "cell_type": "code",
   "execution_count": 57,
   "id": "79bde0d5",
   "metadata": {},
   "outputs": [
    {
     "data": {
      "text/html": [
       "<table class=\"data-frame\"><thead><tr><th></th><th>y_actual</th><th>y_predicted</th></tr><tr><th></th><th>Float64</th><th>Float64?</th></tr></thead><tbody><p>5 rows × 2 columns</p><tr><th>1</th><td>9.07</td><td>8.73771</td></tr><tr><th>2</th><td>9.05</td><td>8.68586</td></tr><tr><th>3</th><td>8.94</td><td>8.6519</td></tr><tr><th>4</th><td>8.91</td><td>8.62529</td></tr><tr><th>5</th><td>8.91</td><td>8.70328</td></tr></tbody></table>"
      ],
      "text/latex": [
       "\\begin{tabular}{r|cc}\n",
       "\t& y\\_actual & y\\_predicted\\\\\n",
       "\t\\hline\n",
       "\t& Float64 & Float64?\\\\\n",
       "\t\\hline\n",
       "\t1 & 9.07 & 8.73771 \\\\\n",
       "\t2 & 9.05 & 8.68586 \\\\\n",
       "\t3 & 8.94 & 8.6519 \\\\\n",
       "\t4 & 8.91 & 8.62529 \\\\\n",
       "\t5 & 8.91 & 8.70328 \\\\\n",
       "\\end{tabular}\n"
      ],
      "text/plain": [
       "\u001b[1m5×2 DataFrame\u001b[0m\n",
       "\u001b[1m Row \u001b[0m│\u001b[1m y_actual \u001b[0m\u001b[1m y_predicted \u001b[0m\n",
       "\u001b[1m     \u001b[0m│\u001b[90m Float64  \u001b[0m\u001b[90m Float64?    \u001b[0m\n",
       "─────┼───────────────────────\n",
       "   1 │     9.07      8.73771\n",
       "   2 │     9.05      8.68586\n",
       "   3 │     8.94      8.6519\n",
       "   4 │     8.91      8.62529\n",
       "   5 │     8.91      8.70328"
      ]
     },
     "execution_count": 57,
     "metadata": {},
     "output_type": "execute_result"
    }
   ],
   "source": [
    "performance_testdf = DataFrame(y_actual = test[!,:Score], y_predicted = ypredicted_test)\n",
    "first(performance_testdf, 5)"
   ]
  },
  {
   "cell_type": "code",
   "execution_count": 58,
   "id": "5a4633cb",
   "metadata": {},
   "outputs": [
    {
     "data": {
      "text/plain": [
       "5-element Vector{Float64}:\n",
       " 0.3322898524737816\n",
       " 0.36414383900553915\n",
       " 0.28810362956371627\n",
       " 0.28470654278028285\n",
       " 0.20671617486376448"
      ]
     },
     "execution_count": 58,
     "metadata": {},
     "output_type": "execute_result"
    }
   ],
   "source": [
    "performance_testdf.error = performance_testdf[!,:y_actual] - performance_testdf[!,:y_predicted]\n",
    "first(performance_testdf.error, 5)"
   ]
  },
  {
   "cell_type": "code",
   "execution_count": 60,
   "id": "3b748767",
   "metadata": {
    "scrolled": true
   },
   "outputs": [
    {
     "data": {
      "text/plain": [
       "5-element Vector{Float64}:\n",
       " 0.11041654605704755\n",
       " 0.132600735485692\n",
       " 0.08300370136778705\n",
       " 0.08105781550190103\n",
       " 0.04273157695030645"
      ]
     },
     "execution_count": 60,
     "metadata": {},
     "output_type": "execute_result"
    }
   ],
   "source": [
    "performance_testdf.error_sq = performance_testdf.error.*performance_testdf.error\n",
    "first(performance_testdf.error_sq, 5)"
   ]
  },
  {
   "cell_type": "markdown",
   "id": "ef6f1d44",
   "metadata": {},
   "source": [
    "### Train Performance DataFrame"
   ]
  },
  {
   "cell_type": "code",
   "execution_count": 66,
   "id": "34c05036",
   "metadata": {},
   "outputs": [
    {
     "data": {
      "text/html": [
       "<table class=\"data-frame\"><thead><tr><th></th><th>y_actual</th><th>y_predicted</th></tr><tr><th></th><th>Float64</th><th>Float64?</th></tr></thead><tbody><p>5 rows × 2 columns</p><tr><th>1</th><td>9.17</td><td>8.69898</td></tr><tr><th>2</th><td>9.11</td><td>8.85162</td></tr><tr><th>3</th><td>9.09</td><td>8.69349</td></tr><tr><th>4</th><td>9.08</td><td>8.76749</td></tr><tr><th>5</th><td>9.06</td><td>8.69014</td></tr></tbody></table>"
      ],
      "text/latex": [
       "\\begin{tabular}{r|cc}\n",
       "\t& y\\_actual & y\\_predicted\\\\\n",
       "\t\\hline\n",
       "\t& Float64 & Float64?\\\\\n",
       "\t\\hline\n",
       "\t1 & 9.17 & 8.69898 \\\\\n",
       "\t2 & 9.11 & 8.85162 \\\\\n",
       "\t3 & 9.09 & 8.69349 \\\\\n",
       "\t4 & 9.08 & 8.76749 \\\\\n",
       "\t5 & 9.06 & 8.69014 \\\\\n",
       "\\end{tabular}\n"
      ],
      "text/plain": [
       "\u001b[1m5×2 DataFrame\u001b[0m\n",
       "\u001b[1m Row \u001b[0m│\u001b[1m y_actual \u001b[0m\u001b[1m y_predicted \u001b[0m\n",
       "\u001b[1m     \u001b[0m│\u001b[90m Float64  \u001b[0m\u001b[90m Float64?    \u001b[0m\n",
       "─────┼───────────────────────\n",
       "   1 │     9.17      8.69898\n",
       "   2 │     9.11      8.85162\n",
       "   3 │     9.09      8.69349\n",
       "   4 │     9.08      8.76749\n",
       "   5 │     9.06      8.69014"
      ]
     },
     "execution_count": 66,
     "metadata": {},
     "output_type": "execute_result"
    }
   ],
   "source": [
    "performance_traindf = DataFrame(y_actual = train[!,:Score], y_predicted = ypredicted_train)\n",
    "first(performance_traindf, 5)"
   ]
  },
  {
   "cell_type": "code",
   "execution_count": 67,
   "id": "d33ad1ff",
   "metadata": {},
   "outputs": [
    {
     "data": {
      "text/plain": [
       "5-element Vector{Float64}:\n",
       " 0.4710171880897782\n",
       " 0.2583840601614824\n",
       " 0.3965098523435824\n",
       " 0.31251230310899203\n",
       " 0.3698619294173806"
      ]
     },
     "execution_count": 67,
     "metadata": {},
     "output_type": "execute_result"
    }
   ],
   "source": [
    "performance_traindf.error = performance_traindf[!,:y_actual] - performance_traindf[!,:y_predicted]\n",
    "first(performance_traindf.error, 5)"
   ]
  },
  {
   "cell_type": "code",
   "execution_count": 69,
   "id": "065435a1",
   "metadata": {},
   "outputs": [
    {
     "data": {
      "text/plain": [
       "5-element Vector{Float64}:\n",
       " 0.2218571914760015\n",
       " 0.06676232254553256\n",
       " 0.15722006300552951\n",
       " 0.0976639395944865\n",
       " 0.13679784683234744"
      ]
     },
     "execution_count": 69,
     "metadata": {},
     "output_type": "execute_result"
    }
   ],
   "source": [
    "performance_traindf.error_sq = performance_traindf.error.*performance_traindf.error \n",
    "first(performance_traindf.error_sq, 5)"
   ]
  },
  {
   "cell_type": "markdown",
   "id": "04a1ca67",
   "metadata": {},
   "source": [
    "### Test Error"
   ]
  },
  {
   "cell_type": "code",
   "execution_count": 70,
   "id": "e6cfad88",
   "metadata": {
    "scrolled": true
   },
   "outputs": [
    {
     "name": "stdout",
     "output_type": "stream",
     "text": [
      "Mean Absolute test error: 0.11086567700943387\n",
      "\n"
     ]
    },
    {
     "ename": "LoadError",
     "evalue": "UndefVarError: mape not defined",
     "output_type": "error",
     "traceback": [
      "UndefVarError: mape not defined",
      "",
      "Stacktrace:",
      " [1] top-level scope",
      "   @ In[70]:2"
     ]
    }
   ],
   "source": [
    "println(\"Mean Absolute test error: \",mean(abs.(performance_testdf.error)), \"\\n\")\n",
    "println(\"Mean Aboslute Percentage test error: \",mape(performance_testdf), \"\\n\")\n",
    "println(\"Root mean square test error: \",rmse(performance_testdf), \"\\n\")\n",
    "println(\"Mean square test error: \",mean(performance_testdf.error_sq), \"\\n\")"
   ]
  },
  {
   "cell_type": "markdown",
   "id": "0a117dc9",
   "metadata": {},
   "source": [
    "### Crossvalidation for model with highest accuracy"
   ]
  },
  {
   "cell_type": "code",
   "execution_count": 61,
   "id": "afdea834",
   "metadata": {},
   "outputs": [
    {
     "data": {
      "text/plain": [
       "cross_validation (generic function with 2 methods)"
      ]
     },
     "execution_count": 61,
     "metadata": {},
     "output_type": "execute_result"
    }
   ],
   "source": [
    "# Cross Validation function defination\n",
    "function cross_validation(train,k, fm = @formula(Score ~ Members + Popularity + Duration + Episodes))\n",
    "    a = collect(Kfold(size(train)[1], k))\n",
    "    for i in 1:k\n",
    "        row = a[i]\n",
    "        temp_train = train[row,:]\n",
    "        temp_test = train[setdiff(1:end, row),:]\n",
    "        linearRegressor = lm(fm, temp_train)\n",
    "        performance_testdf = DataFrame(y_actual = temp_test[!,:Score], y_predicted = predict(linearRegressor, temp_test))\n",
    "        performance_testdf.error = performance_testdf[!,:y_actual] - performance_testdf[!,:y_predicted]\n",
    "\n",
    "        println(\"Mean error for set $i is \",mean(abs.(performance_testdf.error)))\n",
    "    end\n",
    "end"
   ]
  },
  {
   "cell_type": "code",
   "execution_count": 62,
   "id": "8ce9a777",
   "metadata": {},
   "outputs": [
    {
     "name": "stdout",
     "output_type": "stream",
     "text": [
      "Mean error for set 1 is 0.13568978646916885\n",
      "Mean error for set 2 is 0.14446477370498093\n",
      "Mean error for set 3 is 0.14281251695230723\n",
      "Mean error for set 4 is 0.16347404351772266\n",
      "Mean error for set 5 is 0.1464327716390248\n",
      "Mean error for set 6 is 0.10857160570365387\n",
      "Mean error for set 7 is 0.11862622317309462\n",
      "Mean error for set 8 is 0.1365025452232612\n",
      "Mean error for set 9 is 0.17192943857495693\n",
      "Mean error for set 10 is 0.14956009721147948\n"
     ]
    }
   ],
   "source": [
    "cross_validation(train,10, fm)"
   ]
  }
 ],
 "metadata": {
  "@webio": {
   "lastCommId": null,
   "lastKernelId": null
  },
  "kernelspec": {
   "display_name": "Julia 1.8.5",
   "language": "julia",
   "name": "julia-1.8"
  },
  "language_info": {
   "file_extension": ".jl",
   "mimetype": "application/julia",
   "name": "julia",
   "version": "1.8.5"
  }
 },
 "nbformat": 4,
 "nbformat_minor": 5
}
