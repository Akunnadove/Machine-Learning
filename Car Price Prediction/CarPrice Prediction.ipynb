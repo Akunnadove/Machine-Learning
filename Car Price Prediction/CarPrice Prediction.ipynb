{
 "cells": [
  {
   "cell_type": "markdown",
   "id": "fcb15bcf-aaff-4143-94ab-804551e03ef5",
   "metadata": {},
   "source": [
    "## OBJECTIVE: To create a model that predicts the prices of cars\n",
    "\n",
    "\n",
    "### Dataset features; \n",
    "* Car_ID: Unique id of each observation (Interger)\n",
    "* Symboling:Its assigned insurance risk rating, A value of +3 indicates that the auto is risky, -3 that it is probably pretty safe.(Categorical) \n",
    "* carCompany: Name of car company (Categorical)\n",
    "* fueltype: Car fuel type i.e gas or diesel (Categorical)\n",
    "* aspiration: Aspiration used in a car (Categorical)\n",
    "* doornumber: Number of doors in a car (Categorical)\n",
    "* carbody: body of car (Categorical)\n",
    "* drivewheel: type of drive wheel (Categorical)\n",
    "* enginelocation: Location of car engine (Categorical)\n",
    "* wheelbase: Weelbase of car (Numeric)\n",
    "* carlength: Length of car (Numeric)\n",
    "* carwidth: Width of car (Numeric)\n",
    "* carheight: height of car (Numeric)\n",
    "* curbweight: The weight of a car without occupants or baggage. (Numeric)\n",
    "* enginetype: Type of engine. (Categorical)\n",
    "* cylindernumber: cylinder placed in the car (Categorical)\n",
    "* enginesize: Size of car (Numeric)\n",
    "* fuelsystem: Fuel system of car (Categorical)\n",
    "* boreratio: Boreratio of car (Numeric)\n",
    "* stroke: Stroke or volume inside the engine (Numeric)\n",
    "* compressionratio: compression ratio of car (Numeric)\n",
    "* horsepower: Horsepower (Numeric)\n",
    "* peakrpm: car peak rpm (Numeric)\n",
    "* citympg: Mileage in city (Numeric)\n",
    "* highwaympg: Mileage on highway (Numeric)\n",
    "* price(Dependent variable): Price of car (Numeric) \n"
   ]
  },
  {
   "cell_type": "markdown",
   "id": "b5aa940d-84e5-4d18-8411-c8019660859c",
   "metadata": {},
   "source": [
    "### IMPORT LIBRARIES"
   ]
  },
  {
   "cell_type": "code",
   "execution_count": 1492,
   "id": "c6df4c0f-c107-46da-bae7-53494e26d2db",
   "metadata": {},
   "outputs": [],
   "source": [
    "import pandas as pd\n",
    "import matplotlib.pyplot as plt\n",
    "import numpy as np\n",
    "import seaborn as sns\n",
    "from sklearn.metrics import mean_squared_error,mean_absolute_error,r2_score\n",
    "from sklearn.model_selection import train_test_split\n",
    "from sklearn.linear_model import LinearRegression \n",
    "from sklearn.preprocessing import StandardScaler\n",
    "from sklearn.tree import DecisionTreeRegressor"
   ]
  },
  {
   "cell_type": "markdown",
   "id": "b70a21b2-78a2-4d4d-9f2d-515c1bf2b000",
   "metadata": {},
   "source": [
    "### IMPORT DATASET"
   ]
  },
  {
   "cell_type": "code",
   "execution_count": 1493,
   "id": "657ce807-382b-449b-af09-4ab2e2596421",
   "metadata": {},
   "outputs": [
    {
     "data": {
      "text/html": [
       "<div>\n",
       "<style scoped>\n",
       "    .dataframe tbody tr th:only-of-type {\n",
       "        vertical-align: middle;\n",
       "    }\n",
       "\n",
       "    .dataframe tbody tr th {\n",
       "        vertical-align: top;\n",
       "    }\n",
       "\n",
       "    .dataframe thead th {\n",
       "        text-align: right;\n",
       "    }\n",
       "</style>\n",
       "<table border=\"1\" class=\"dataframe\">\n",
       "  <thead>\n",
       "    <tr style=\"text-align: right;\">\n",
       "      <th></th>\n",
       "      <th>car_ID</th>\n",
       "      <th>symboling</th>\n",
       "      <th>CarName</th>\n",
       "      <th>fueltype</th>\n",
       "      <th>aspiration</th>\n",
       "      <th>doornumber</th>\n",
       "      <th>carbody</th>\n",
       "      <th>drivewheel</th>\n",
       "      <th>enginelocation</th>\n",
       "      <th>wheelbase</th>\n",
       "      <th>...</th>\n",
       "      <th>enginesize</th>\n",
       "      <th>fuelsystem</th>\n",
       "      <th>boreratio</th>\n",
       "      <th>stroke</th>\n",
       "      <th>compressionratio</th>\n",
       "      <th>horsepower</th>\n",
       "      <th>peakrpm</th>\n",
       "      <th>citympg</th>\n",
       "      <th>highwaympg</th>\n",
       "      <th>price</th>\n",
       "    </tr>\n",
       "  </thead>\n",
       "  <tbody>\n",
       "    <tr>\n",
       "      <th>0</th>\n",
       "      <td>1</td>\n",
       "      <td>3</td>\n",
       "      <td>alfa-romero giulia</td>\n",
       "      <td>gas</td>\n",
       "      <td>std</td>\n",
       "      <td>two</td>\n",
       "      <td>convertible</td>\n",
       "      <td>rwd</td>\n",
       "      <td>front</td>\n",
       "      <td>88.6</td>\n",
       "      <td>...</td>\n",
       "      <td>130</td>\n",
       "      <td>mpfi</td>\n",
       "      <td>3.47</td>\n",
       "      <td>2.68</td>\n",
       "      <td>9.0</td>\n",
       "      <td>111</td>\n",
       "      <td>5000</td>\n",
       "      <td>21</td>\n",
       "      <td>27</td>\n",
       "      <td>13495.0</td>\n",
       "    </tr>\n",
       "    <tr>\n",
       "      <th>1</th>\n",
       "      <td>2</td>\n",
       "      <td>3</td>\n",
       "      <td>alfa-romero stelvio</td>\n",
       "      <td>gas</td>\n",
       "      <td>std</td>\n",
       "      <td>two</td>\n",
       "      <td>convertible</td>\n",
       "      <td>rwd</td>\n",
       "      <td>front</td>\n",
       "      <td>88.6</td>\n",
       "      <td>...</td>\n",
       "      <td>130</td>\n",
       "      <td>mpfi</td>\n",
       "      <td>3.47</td>\n",
       "      <td>2.68</td>\n",
       "      <td>9.0</td>\n",
       "      <td>111</td>\n",
       "      <td>5000</td>\n",
       "      <td>21</td>\n",
       "      <td>27</td>\n",
       "      <td>16500.0</td>\n",
       "    </tr>\n",
       "    <tr>\n",
       "      <th>2</th>\n",
       "      <td>3</td>\n",
       "      <td>1</td>\n",
       "      <td>alfa-romero Quadrifoglio</td>\n",
       "      <td>gas</td>\n",
       "      <td>std</td>\n",
       "      <td>two</td>\n",
       "      <td>hatchback</td>\n",
       "      <td>rwd</td>\n",
       "      <td>front</td>\n",
       "      <td>94.5</td>\n",
       "      <td>...</td>\n",
       "      <td>152</td>\n",
       "      <td>mpfi</td>\n",
       "      <td>2.68</td>\n",
       "      <td>3.47</td>\n",
       "      <td>9.0</td>\n",
       "      <td>154</td>\n",
       "      <td>5000</td>\n",
       "      <td>19</td>\n",
       "      <td>26</td>\n",
       "      <td>16500.0</td>\n",
       "    </tr>\n",
       "    <tr>\n",
       "      <th>3</th>\n",
       "      <td>4</td>\n",
       "      <td>2</td>\n",
       "      <td>audi 100 ls</td>\n",
       "      <td>gas</td>\n",
       "      <td>std</td>\n",
       "      <td>four</td>\n",
       "      <td>sedan</td>\n",
       "      <td>fwd</td>\n",
       "      <td>front</td>\n",
       "      <td>99.8</td>\n",
       "      <td>...</td>\n",
       "      <td>109</td>\n",
       "      <td>mpfi</td>\n",
       "      <td>3.19</td>\n",
       "      <td>3.40</td>\n",
       "      <td>10.0</td>\n",
       "      <td>102</td>\n",
       "      <td>5500</td>\n",
       "      <td>24</td>\n",
       "      <td>30</td>\n",
       "      <td>13950.0</td>\n",
       "    </tr>\n",
       "    <tr>\n",
       "      <th>4</th>\n",
       "      <td>5</td>\n",
       "      <td>2</td>\n",
       "      <td>audi 100ls</td>\n",
       "      <td>gas</td>\n",
       "      <td>std</td>\n",
       "      <td>four</td>\n",
       "      <td>sedan</td>\n",
       "      <td>4wd</td>\n",
       "      <td>front</td>\n",
       "      <td>99.4</td>\n",
       "      <td>...</td>\n",
       "      <td>136</td>\n",
       "      <td>mpfi</td>\n",
       "      <td>3.19</td>\n",
       "      <td>3.40</td>\n",
       "      <td>8.0</td>\n",
       "      <td>115</td>\n",
       "      <td>5500</td>\n",
       "      <td>18</td>\n",
       "      <td>22</td>\n",
       "      <td>17450.0</td>\n",
       "    </tr>\n",
       "    <tr>\n",
       "      <th>5</th>\n",
       "      <td>6</td>\n",
       "      <td>2</td>\n",
       "      <td>audi fox</td>\n",
       "      <td>gas</td>\n",
       "      <td>std</td>\n",
       "      <td>two</td>\n",
       "      <td>sedan</td>\n",
       "      <td>fwd</td>\n",
       "      <td>front</td>\n",
       "      <td>99.8</td>\n",
       "      <td>...</td>\n",
       "      <td>136</td>\n",
       "      <td>mpfi</td>\n",
       "      <td>3.19</td>\n",
       "      <td>3.40</td>\n",
       "      <td>8.5</td>\n",
       "      <td>110</td>\n",
       "      <td>5500</td>\n",
       "      <td>19</td>\n",
       "      <td>25</td>\n",
       "      <td>15250.0</td>\n",
       "    </tr>\n",
       "  </tbody>\n",
       "</table>\n",
       "<p>6 rows × 26 columns</p>\n",
       "</div>"
      ],
      "text/plain": [
       "   car_ID  symboling                   CarName fueltype aspiration doornumber  \\\n",
       "0       1          3        alfa-romero giulia      gas        std        two   \n",
       "1       2          3       alfa-romero stelvio      gas        std        two   \n",
       "2       3          1  alfa-romero Quadrifoglio      gas        std        two   \n",
       "3       4          2               audi 100 ls      gas        std       four   \n",
       "4       5          2                audi 100ls      gas        std       four   \n",
       "5       6          2                  audi fox      gas        std        two   \n",
       "\n",
       "       carbody drivewheel enginelocation  wheelbase  ...  enginesize  \\\n",
       "0  convertible        rwd          front       88.6  ...         130   \n",
       "1  convertible        rwd          front       88.6  ...         130   \n",
       "2    hatchback        rwd          front       94.5  ...         152   \n",
       "3        sedan        fwd          front       99.8  ...         109   \n",
       "4        sedan        4wd          front       99.4  ...         136   \n",
       "5        sedan        fwd          front       99.8  ...         136   \n",
       "\n",
       "   fuelsystem  boreratio  stroke compressionratio horsepower  peakrpm citympg  \\\n",
       "0        mpfi       3.47    2.68              9.0        111     5000      21   \n",
       "1        mpfi       3.47    2.68              9.0        111     5000      21   \n",
       "2        mpfi       2.68    3.47              9.0        154     5000      19   \n",
       "3        mpfi       3.19    3.40             10.0        102     5500      24   \n",
       "4        mpfi       3.19    3.40              8.0        115     5500      18   \n",
       "5        mpfi       3.19    3.40              8.5        110     5500      19   \n",
       "\n",
       "   highwaympg    price  \n",
       "0          27  13495.0  \n",
       "1          27  16500.0  \n",
       "2          26  16500.0  \n",
       "3          30  13950.0  \n",
       "4          22  17450.0  \n",
       "5          25  15250.0  \n",
       "\n",
       "[6 rows x 26 columns]"
      ]
     },
     "execution_count": 1493,
     "metadata": {},
     "output_type": "execute_result"
    }
   ],
   "source": [
    "data = pd.read_csv(r\"C:\\Users\\Akunna Anyamkpa\\Documents\\PROJECT - CarPrice Prediction\\CarPrice.csv\")\n",
    "data.head(6)"
   ]
  },
  {
   "cell_type": "code",
   "execution_count": 1494,
   "id": "54e7b9e4-9d15-4b7a-990c-7deee7f3e84c",
   "metadata": {},
   "outputs": [
    {
     "data": {
      "text/plain": [
       "(205, 26)"
      ]
     },
     "execution_count": 1494,
     "metadata": {},
     "output_type": "execute_result"
    }
   ],
   "source": [
    "data.shape"
   ]
  },
  {
   "cell_type": "code",
   "execution_count": 1495,
   "id": "60015f92-2d3f-4536-9c2a-f8c73933ae71",
   "metadata": {},
   "outputs": [
    {
     "name": "stdout",
     "output_type": "stream",
     "text": [
      "<class 'pandas.core.frame.DataFrame'>\n",
      "RangeIndex: 205 entries, 0 to 204\n",
      "Data columns (total 26 columns):\n",
      " #   Column            Non-Null Count  Dtype  \n",
      "---  ------            --------------  -----  \n",
      " 0   car_ID            205 non-null    int64  \n",
      " 1   symboling         205 non-null    int64  \n",
      " 2   CarName           205 non-null    object \n",
      " 3   fueltype          205 non-null    object \n",
      " 4   aspiration        205 non-null    object \n",
      " 5   doornumber        205 non-null    object \n",
      " 6   carbody           205 non-null    object \n",
      " 7   drivewheel        205 non-null    object \n",
      " 8   enginelocation    205 non-null    object \n",
      " 9   wheelbase         205 non-null    float64\n",
      " 10  carlength         205 non-null    float64\n",
      " 11  carwidth          205 non-null    float64\n",
      " 12  carheight         205 non-null    float64\n",
      " 13  curbweight        205 non-null    int64  \n",
      " 14  enginetype        205 non-null    object \n",
      " 15  cylindernumber    205 non-null    object \n",
      " 16  enginesize        205 non-null    int64  \n",
      " 17  fuelsystem        205 non-null    object \n",
      " 18  boreratio         205 non-null    float64\n",
      " 19  stroke            205 non-null    float64\n",
      " 20  compressionratio  205 non-null    float64\n",
      " 21  horsepower        205 non-null    int64  \n",
      " 22  peakrpm           205 non-null    int64  \n",
      " 23  citympg           205 non-null    int64  \n",
      " 24  highwaympg        205 non-null    int64  \n",
      " 25  price             205 non-null    float64\n",
      "dtypes: float64(8), int64(8), object(10)\n",
      "memory usage: 41.8+ KB\n"
     ]
    }
   ],
   "source": [
    "data.info()"
   ]
  },
  {
   "cell_type": "markdown",
   "id": "440315f1-24e1-42f1-81e8-1931efb0e7b2",
   "metadata": {},
   "source": [
    "### DROPPING COLUMNS WITH OBJECT DATATYPES "
   ]
  },
  {
   "cell_type": "code",
   "execution_count": 1496,
   "id": "66d5c26f-f7a6-4efb-bc34-3a8101f2e216",
   "metadata": {},
   "outputs": [],
   "source": [
    "data.drop('car_ID', axis='columns', inplace=True) #Dropping the car_ID column\n",
    "data.drop('CarName', axis='columns', inplace=True) #Dropping the CarName column\n",
    "data.drop('fueltype', axis='columns', inplace=True) #Dropping the fueltype column \n",
    "data.drop('aspiration', axis='columns', inplace=True) #Dropping the aspiration column\n",
    "data.drop('doornumber', axis='columns', inplace=True) #Dropping the doornumber column\n",
    "data.drop('carbody', axis='columns', inplace=True) #Dropping the carbody column\n",
    "data.drop('cylindernumber', axis='columns', inplace=True) #Dropping the cylindernumber column\n",
    "data.drop('drivewheel', axis='columns', inplace=True) #Dropping the drivewheel column\n",
    "data.drop('enginelocation', axis='columns', inplace=True) #Dropping the enginelocation column\n",
    "data.drop('enginetype', axis='columns', inplace=True) #Dropping the enginetype column\n",
    "data.drop('fuelsystem', axis='columns', inplace=True) #Dropping the fuelsystem column"
   ]
  },
  {
   "cell_type": "code",
   "execution_count": 1497,
   "id": "2a178c30-544f-4e3a-b1d0-ff0e855d2797",
   "metadata": {},
   "outputs": [
    {
     "name": "stdout",
     "output_type": "stream",
     "text": [
      "<class 'pandas.core.frame.DataFrame'>\n",
      "RangeIndex: 205 entries, 0 to 204\n",
      "Data columns (total 15 columns):\n",
      " #   Column            Non-Null Count  Dtype  \n",
      "---  ------            --------------  -----  \n",
      " 0   symboling         205 non-null    int64  \n",
      " 1   wheelbase         205 non-null    float64\n",
      " 2   carlength         205 non-null    float64\n",
      " 3   carwidth          205 non-null    float64\n",
      " 4   carheight         205 non-null    float64\n",
      " 5   curbweight        205 non-null    int64  \n",
      " 6   enginesize        205 non-null    int64  \n",
      " 7   boreratio         205 non-null    float64\n",
      " 8   stroke            205 non-null    float64\n",
      " 9   compressionratio  205 non-null    float64\n",
      " 10  horsepower        205 non-null    int64  \n",
      " 11  peakrpm           205 non-null    int64  \n",
      " 12  citympg           205 non-null    int64  \n",
      " 13  highwaympg        205 non-null    int64  \n",
      " 14  price             205 non-null    float64\n",
      "dtypes: float64(8), int64(7)\n",
      "memory usage: 24.1 KB\n"
     ]
    }
   ],
   "source": [
    "data.info()"
   ]
  },
  {
   "cell_type": "markdown",
   "id": "c927bc59-b48a-4f7d-a8de-5df94efd8431",
   "metadata": {},
   "source": [
    "### QUANTITATIVE VARIABLE ANALYSIS"
   ]
  },
  {
   "cell_type": "code",
   "execution_count": 1498,
   "id": "1c6a36b7-db19-4e42-ba47-eb51ec397f33",
   "metadata": {},
   "outputs": [
    {
     "data": {
      "text/html": [
       "<div>\n",
       "<style scoped>\n",
       "    .dataframe tbody tr th:only-of-type {\n",
       "        vertical-align: middle;\n",
       "    }\n",
       "\n",
       "    .dataframe tbody tr th {\n",
       "        vertical-align: top;\n",
       "    }\n",
       "\n",
       "    .dataframe thead th {\n",
       "        text-align: right;\n",
       "    }\n",
       "</style>\n",
       "<table border=\"1\" class=\"dataframe\">\n",
       "  <thead>\n",
       "    <tr style=\"text-align: right;\">\n",
       "      <th></th>\n",
       "      <th>symboling</th>\n",
       "      <th>wheelbase</th>\n",
       "      <th>carlength</th>\n",
       "      <th>carwidth</th>\n",
       "      <th>carheight</th>\n",
       "      <th>curbweight</th>\n",
       "      <th>enginesize</th>\n",
       "      <th>boreratio</th>\n",
       "      <th>stroke</th>\n",
       "      <th>compressionratio</th>\n",
       "      <th>horsepower</th>\n",
       "      <th>peakrpm</th>\n",
       "      <th>citympg</th>\n",
       "      <th>highwaympg</th>\n",
       "      <th>price</th>\n",
       "    </tr>\n",
       "  </thead>\n",
       "  <tbody>\n",
       "    <tr>\n",
       "      <th>count</th>\n",
       "      <td>205.00</td>\n",
       "      <td>205.00</td>\n",
       "      <td>205.00</td>\n",
       "      <td>205.00</td>\n",
       "      <td>205.00</td>\n",
       "      <td>205.00</td>\n",
       "      <td>205.00</td>\n",
       "      <td>205.00</td>\n",
       "      <td>205.00</td>\n",
       "      <td>205.00</td>\n",
       "      <td>205.00</td>\n",
       "      <td>205.00</td>\n",
       "      <td>205.00</td>\n",
       "      <td>205.00</td>\n",
       "      <td>205.00</td>\n",
       "    </tr>\n",
       "    <tr>\n",
       "      <th>mean</th>\n",
       "      <td>0.83</td>\n",
       "      <td>98.76</td>\n",
       "      <td>174.05</td>\n",
       "      <td>65.91</td>\n",
       "      <td>53.72</td>\n",
       "      <td>2555.57</td>\n",
       "      <td>126.91</td>\n",
       "      <td>3.33</td>\n",
       "      <td>3.26</td>\n",
       "      <td>10.14</td>\n",
       "      <td>104.12</td>\n",
       "      <td>5125.12</td>\n",
       "      <td>25.22</td>\n",
       "      <td>30.75</td>\n",
       "      <td>13276.71</td>\n",
       "    </tr>\n",
       "    <tr>\n",
       "      <th>std</th>\n",
       "      <td>1.25</td>\n",
       "      <td>6.02</td>\n",
       "      <td>12.34</td>\n",
       "      <td>2.15</td>\n",
       "      <td>2.44</td>\n",
       "      <td>520.68</td>\n",
       "      <td>41.64</td>\n",
       "      <td>0.27</td>\n",
       "      <td>0.31</td>\n",
       "      <td>3.97</td>\n",
       "      <td>39.54</td>\n",
       "      <td>476.99</td>\n",
       "      <td>6.54</td>\n",
       "      <td>6.89</td>\n",
       "      <td>7988.85</td>\n",
       "    </tr>\n",
       "    <tr>\n",
       "      <th>min</th>\n",
       "      <td>-2.00</td>\n",
       "      <td>86.60</td>\n",
       "      <td>141.10</td>\n",
       "      <td>60.30</td>\n",
       "      <td>47.80</td>\n",
       "      <td>1488.00</td>\n",
       "      <td>61.00</td>\n",
       "      <td>2.54</td>\n",
       "      <td>2.07</td>\n",
       "      <td>7.00</td>\n",
       "      <td>48.00</td>\n",
       "      <td>4150.00</td>\n",
       "      <td>13.00</td>\n",
       "      <td>16.00</td>\n",
       "      <td>5118.00</td>\n",
       "    </tr>\n",
       "    <tr>\n",
       "      <th>25%</th>\n",
       "      <td>0.00</td>\n",
       "      <td>94.50</td>\n",
       "      <td>166.30</td>\n",
       "      <td>64.10</td>\n",
       "      <td>52.00</td>\n",
       "      <td>2145.00</td>\n",
       "      <td>97.00</td>\n",
       "      <td>3.15</td>\n",
       "      <td>3.11</td>\n",
       "      <td>8.60</td>\n",
       "      <td>70.00</td>\n",
       "      <td>4800.00</td>\n",
       "      <td>19.00</td>\n",
       "      <td>25.00</td>\n",
       "      <td>7788.00</td>\n",
       "    </tr>\n",
       "    <tr>\n",
       "      <th>50%</th>\n",
       "      <td>1.00</td>\n",
       "      <td>97.00</td>\n",
       "      <td>173.20</td>\n",
       "      <td>65.50</td>\n",
       "      <td>54.10</td>\n",
       "      <td>2414.00</td>\n",
       "      <td>120.00</td>\n",
       "      <td>3.31</td>\n",
       "      <td>3.29</td>\n",
       "      <td>9.00</td>\n",
       "      <td>95.00</td>\n",
       "      <td>5200.00</td>\n",
       "      <td>24.00</td>\n",
       "      <td>30.00</td>\n",
       "      <td>10295.00</td>\n",
       "    </tr>\n",
       "    <tr>\n",
       "      <th>75%</th>\n",
       "      <td>2.00</td>\n",
       "      <td>102.40</td>\n",
       "      <td>183.10</td>\n",
       "      <td>66.90</td>\n",
       "      <td>55.50</td>\n",
       "      <td>2935.00</td>\n",
       "      <td>141.00</td>\n",
       "      <td>3.58</td>\n",
       "      <td>3.41</td>\n",
       "      <td>9.40</td>\n",
       "      <td>116.00</td>\n",
       "      <td>5500.00</td>\n",
       "      <td>30.00</td>\n",
       "      <td>34.00</td>\n",
       "      <td>16503.00</td>\n",
       "    </tr>\n",
       "    <tr>\n",
       "      <th>max</th>\n",
       "      <td>3.00</td>\n",
       "      <td>120.90</td>\n",
       "      <td>208.10</td>\n",
       "      <td>72.30</td>\n",
       "      <td>59.80</td>\n",
       "      <td>4066.00</td>\n",
       "      <td>326.00</td>\n",
       "      <td>3.94</td>\n",
       "      <td>4.17</td>\n",
       "      <td>23.00</td>\n",
       "      <td>288.00</td>\n",
       "      <td>6600.00</td>\n",
       "      <td>49.00</td>\n",
       "      <td>54.00</td>\n",
       "      <td>45400.00</td>\n",
       "    </tr>\n",
       "  </tbody>\n",
       "</table>\n",
       "</div>"
      ],
      "text/plain": [
       "       symboling  wheelbase  carlength  carwidth  carheight  curbweight  \\\n",
       "count     205.00     205.00     205.00    205.00     205.00      205.00   \n",
       "mean        0.83      98.76     174.05     65.91      53.72     2555.57   \n",
       "std         1.25       6.02      12.34      2.15       2.44      520.68   \n",
       "min        -2.00      86.60     141.10     60.30      47.80     1488.00   \n",
       "25%         0.00      94.50     166.30     64.10      52.00     2145.00   \n",
       "50%         1.00      97.00     173.20     65.50      54.10     2414.00   \n",
       "75%         2.00     102.40     183.10     66.90      55.50     2935.00   \n",
       "max         3.00     120.90     208.10     72.30      59.80     4066.00   \n",
       "\n",
       "       enginesize  boreratio  stroke  compressionratio  horsepower  peakrpm  \\\n",
       "count      205.00     205.00  205.00            205.00      205.00   205.00   \n",
       "mean       126.91       3.33    3.26             10.14      104.12  5125.12   \n",
       "std         41.64       0.27    0.31              3.97       39.54   476.99   \n",
       "min         61.00       2.54    2.07              7.00       48.00  4150.00   \n",
       "25%         97.00       3.15    3.11              8.60       70.00  4800.00   \n",
       "50%        120.00       3.31    3.29              9.00       95.00  5200.00   \n",
       "75%        141.00       3.58    3.41              9.40      116.00  5500.00   \n",
       "max        326.00       3.94    4.17             23.00      288.00  6600.00   \n",
       "\n",
       "       citympg  highwaympg     price  \n",
       "count   205.00      205.00    205.00  \n",
       "mean     25.22       30.75  13276.71  \n",
       "std       6.54        6.89   7988.85  \n",
       "min      13.00       16.00   5118.00  \n",
       "25%      19.00       25.00   7788.00  \n",
       "50%      24.00       30.00  10295.00  \n",
       "75%      30.00       34.00  16503.00  \n",
       "max      49.00       54.00  45400.00  "
      ]
     },
     "execution_count": 1498,
     "metadata": {},
     "output_type": "execute_result"
    }
   ],
   "source": [
    "data.describe().round(2)\n",
    "# There are no null values in the dataset"
   ]
  },
  {
   "cell_type": "markdown",
   "id": "c0d556af-eb9d-4abb-b356-bf7402ff98a3",
   "metadata": {},
   "source": [
    "### CHECKING RELATIONSHIP BETWEEN FEATURES"
   ]
  },
  {
   "cell_type": "code",
   "execution_count": 1499,
   "id": "caa7971b-972a-4851-8add-ff03fd984382",
   "metadata": {},
   "outputs": [
    {
     "data": {
      "text/html": [
       "<div>\n",
       "<style scoped>\n",
       "    .dataframe tbody tr th:only-of-type {\n",
       "        vertical-align: middle;\n",
       "    }\n",
       "\n",
       "    .dataframe tbody tr th {\n",
       "        vertical-align: top;\n",
       "    }\n",
       "\n",
       "    .dataframe thead th {\n",
       "        text-align: right;\n",
       "    }\n",
       "</style>\n",
       "<table border=\"1\" class=\"dataframe\">\n",
       "  <thead>\n",
       "    <tr style=\"text-align: right;\">\n",
       "      <th></th>\n",
       "      <th>symboling</th>\n",
       "      <th>wheelbase</th>\n",
       "      <th>carlength</th>\n",
       "      <th>carwidth</th>\n",
       "      <th>carheight</th>\n",
       "      <th>curbweight</th>\n",
       "      <th>enginesize</th>\n",
       "      <th>boreratio</th>\n",
       "      <th>stroke</th>\n",
       "      <th>compressionratio</th>\n",
       "      <th>horsepower</th>\n",
       "      <th>peakrpm</th>\n",
       "      <th>citympg</th>\n",
       "      <th>highwaympg</th>\n",
       "      <th>price</th>\n",
       "    </tr>\n",
       "  </thead>\n",
       "  <tbody>\n",
       "    <tr>\n",
       "      <th>symboling</th>\n",
       "      <td>1.00</td>\n",
       "      <td>-0.53</td>\n",
       "      <td>-0.36</td>\n",
       "      <td>-0.23</td>\n",
       "      <td>-0.54</td>\n",
       "      <td>-0.23</td>\n",
       "      <td>-0.11</td>\n",
       "      <td>-0.13</td>\n",
       "      <td>-0.01</td>\n",
       "      <td>-0.18</td>\n",
       "      <td>0.07</td>\n",
       "      <td>0.27</td>\n",
       "      <td>-0.04</td>\n",
       "      <td>0.03</td>\n",
       "      <td>-0.08</td>\n",
       "    </tr>\n",
       "    <tr>\n",
       "      <th>wheelbase</th>\n",
       "      <td>-0.53</td>\n",
       "      <td>1.00</td>\n",
       "      <td>0.87</td>\n",
       "      <td>0.80</td>\n",
       "      <td>0.59</td>\n",
       "      <td>0.78</td>\n",
       "      <td>0.57</td>\n",
       "      <td>0.49</td>\n",
       "      <td>0.16</td>\n",
       "      <td>0.25</td>\n",
       "      <td>0.35</td>\n",
       "      <td>-0.36</td>\n",
       "      <td>-0.47</td>\n",
       "      <td>-0.54</td>\n",
       "      <td>0.58</td>\n",
       "    </tr>\n",
       "    <tr>\n",
       "      <th>carlength</th>\n",
       "      <td>-0.36</td>\n",
       "      <td>0.87</td>\n",
       "      <td>1.00</td>\n",
       "      <td>0.84</td>\n",
       "      <td>0.49</td>\n",
       "      <td>0.88</td>\n",
       "      <td>0.68</td>\n",
       "      <td>0.61</td>\n",
       "      <td>0.13</td>\n",
       "      <td>0.16</td>\n",
       "      <td>0.55</td>\n",
       "      <td>-0.29</td>\n",
       "      <td>-0.67</td>\n",
       "      <td>-0.70</td>\n",
       "      <td>0.68</td>\n",
       "    </tr>\n",
       "    <tr>\n",
       "      <th>carwidth</th>\n",
       "      <td>-0.23</td>\n",
       "      <td>0.80</td>\n",
       "      <td>0.84</td>\n",
       "      <td>1.00</td>\n",
       "      <td>0.28</td>\n",
       "      <td>0.87</td>\n",
       "      <td>0.74</td>\n",
       "      <td>0.56</td>\n",
       "      <td>0.18</td>\n",
       "      <td>0.18</td>\n",
       "      <td>0.64</td>\n",
       "      <td>-0.22</td>\n",
       "      <td>-0.64</td>\n",
       "      <td>-0.68</td>\n",
       "      <td>0.76</td>\n",
       "    </tr>\n",
       "    <tr>\n",
       "      <th>carheight</th>\n",
       "      <td>-0.54</td>\n",
       "      <td>0.59</td>\n",
       "      <td>0.49</td>\n",
       "      <td>0.28</td>\n",
       "      <td>1.00</td>\n",
       "      <td>0.30</td>\n",
       "      <td>0.07</td>\n",
       "      <td>0.17</td>\n",
       "      <td>-0.06</td>\n",
       "      <td>0.26</td>\n",
       "      <td>-0.11</td>\n",
       "      <td>-0.32</td>\n",
       "      <td>-0.05</td>\n",
       "      <td>-0.11</td>\n",
       "      <td>0.12</td>\n",
       "    </tr>\n",
       "    <tr>\n",
       "      <th>curbweight</th>\n",
       "      <td>-0.23</td>\n",
       "      <td>0.78</td>\n",
       "      <td>0.88</td>\n",
       "      <td>0.87</td>\n",
       "      <td>0.30</td>\n",
       "      <td>1.00</td>\n",
       "      <td>0.85</td>\n",
       "      <td>0.65</td>\n",
       "      <td>0.17</td>\n",
       "      <td>0.15</td>\n",
       "      <td>0.75</td>\n",
       "      <td>-0.27</td>\n",
       "      <td>-0.76</td>\n",
       "      <td>-0.80</td>\n",
       "      <td>0.84</td>\n",
       "    </tr>\n",
       "    <tr>\n",
       "      <th>enginesize</th>\n",
       "      <td>-0.11</td>\n",
       "      <td>0.57</td>\n",
       "      <td>0.68</td>\n",
       "      <td>0.74</td>\n",
       "      <td>0.07</td>\n",
       "      <td>0.85</td>\n",
       "      <td>1.00</td>\n",
       "      <td>0.58</td>\n",
       "      <td>0.20</td>\n",
       "      <td>0.03</td>\n",
       "      <td>0.81</td>\n",
       "      <td>-0.24</td>\n",
       "      <td>-0.65</td>\n",
       "      <td>-0.68</td>\n",
       "      <td>0.87</td>\n",
       "    </tr>\n",
       "    <tr>\n",
       "      <th>boreratio</th>\n",
       "      <td>-0.13</td>\n",
       "      <td>0.49</td>\n",
       "      <td>0.61</td>\n",
       "      <td>0.56</td>\n",
       "      <td>0.17</td>\n",
       "      <td>0.65</td>\n",
       "      <td>0.58</td>\n",
       "      <td>1.00</td>\n",
       "      <td>-0.06</td>\n",
       "      <td>0.01</td>\n",
       "      <td>0.57</td>\n",
       "      <td>-0.25</td>\n",
       "      <td>-0.58</td>\n",
       "      <td>-0.59</td>\n",
       "      <td>0.55</td>\n",
       "    </tr>\n",
       "    <tr>\n",
       "      <th>stroke</th>\n",
       "      <td>-0.01</td>\n",
       "      <td>0.16</td>\n",
       "      <td>0.13</td>\n",
       "      <td>0.18</td>\n",
       "      <td>-0.06</td>\n",
       "      <td>0.17</td>\n",
       "      <td>0.20</td>\n",
       "      <td>-0.06</td>\n",
       "      <td>1.00</td>\n",
       "      <td>0.19</td>\n",
       "      <td>0.08</td>\n",
       "      <td>-0.07</td>\n",
       "      <td>-0.04</td>\n",
       "      <td>-0.04</td>\n",
       "      <td>0.08</td>\n",
       "    </tr>\n",
       "    <tr>\n",
       "      <th>compressionratio</th>\n",
       "      <td>-0.18</td>\n",
       "      <td>0.25</td>\n",
       "      <td>0.16</td>\n",
       "      <td>0.18</td>\n",
       "      <td>0.26</td>\n",
       "      <td>0.15</td>\n",
       "      <td>0.03</td>\n",
       "      <td>0.01</td>\n",
       "      <td>0.19</td>\n",
       "      <td>1.00</td>\n",
       "      <td>-0.20</td>\n",
       "      <td>-0.44</td>\n",
       "      <td>0.32</td>\n",
       "      <td>0.27</td>\n",
       "      <td>0.07</td>\n",
       "    </tr>\n",
       "    <tr>\n",
       "      <th>horsepower</th>\n",
       "      <td>0.07</td>\n",
       "      <td>0.35</td>\n",
       "      <td>0.55</td>\n",
       "      <td>0.64</td>\n",
       "      <td>-0.11</td>\n",
       "      <td>0.75</td>\n",
       "      <td>0.81</td>\n",
       "      <td>0.57</td>\n",
       "      <td>0.08</td>\n",
       "      <td>-0.20</td>\n",
       "      <td>1.00</td>\n",
       "      <td>0.13</td>\n",
       "      <td>-0.80</td>\n",
       "      <td>-0.77</td>\n",
       "      <td>0.81</td>\n",
       "    </tr>\n",
       "    <tr>\n",
       "      <th>peakrpm</th>\n",
       "      <td>0.27</td>\n",
       "      <td>-0.36</td>\n",
       "      <td>-0.29</td>\n",
       "      <td>-0.22</td>\n",
       "      <td>-0.32</td>\n",
       "      <td>-0.27</td>\n",
       "      <td>-0.24</td>\n",
       "      <td>-0.25</td>\n",
       "      <td>-0.07</td>\n",
       "      <td>-0.44</td>\n",
       "      <td>0.13</td>\n",
       "      <td>1.00</td>\n",
       "      <td>-0.11</td>\n",
       "      <td>-0.05</td>\n",
       "      <td>-0.09</td>\n",
       "    </tr>\n",
       "    <tr>\n",
       "      <th>citympg</th>\n",
       "      <td>-0.04</td>\n",
       "      <td>-0.47</td>\n",
       "      <td>-0.67</td>\n",
       "      <td>-0.64</td>\n",
       "      <td>-0.05</td>\n",
       "      <td>-0.76</td>\n",
       "      <td>-0.65</td>\n",
       "      <td>-0.58</td>\n",
       "      <td>-0.04</td>\n",
       "      <td>0.32</td>\n",
       "      <td>-0.80</td>\n",
       "      <td>-0.11</td>\n",
       "      <td>1.00</td>\n",
       "      <td>0.97</td>\n",
       "      <td>-0.69</td>\n",
       "    </tr>\n",
       "    <tr>\n",
       "      <th>highwaympg</th>\n",
       "      <td>0.03</td>\n",
       "      <td>-0.54</td>\n",
       "      <td>-0.70</td>\n",
       "      <td>-0.68</td>\n",
       "      <td>-0.11</td>\n",
       "      <td>-0.80</td>\n",
       "      <td>-0.68</td>\n",
       "      <td>-0.59</td>\n",
       "      <td>-0.04</td>\n",
       "      <td>0.27</td>\n",
       "      <td>-0.77</td>\n",
       "      <td>-0.05</td>\n",
       "      <td>0.97</td>\n",
       "      <td>1.00</td>\n",
       "      <td>-0.70</td>\n",
       "    </tr>\n",
       "    <tr>\n",
       "      <th>price</th>\n",
       "      <td>-0.08</td>\n",
       "      <td>0.58</td>\n",
       "      <td>0.68</td>\n",
       "      <td>0.76</td>\n",
       "      <td>0.12</td>\n",
       "      <td>0.84</td>\n",
       "      <td>0.87</td>\n",
       "      <td>0.55</td>\n",
       "      <td>0.08</td>\n",
       "      <td>0.07</td>\n",
       "      <td>0.81</td>\n",
       "      <td>-0.09</td>\n",
       "      <td>-0.69</td>\n",
       "      <td>-0.70</td>\n",
       "      <td>1.00</td>\n",
       "    </tr>\n",
       "  </tbody>\n",
       "</table>\n",
       "</div>"
      ],
      "text/plain": [
       "                  symboling  wheelbase  carlength  carwidth  carheight  \\\n",
       "symboling              1.00      -0.53      -0.36     -0.23      -0.54   \n",
       "wheelbase             -0.53       1.00       0.87      0.80       0.59   \n",
       "carlength             -0.36       0.87       1.00      0.84       0.49   \n",
       "carwidth              -0.23       0.80       0.84      1.00       0.28   \n",
       "carheight             -0.54       0.59       0.49      0.28       1.00   \n",
       "curbweight            -0.23       0.78       0.88      0.87       0.30   \n",
       "enginesize            -0.11       0.57       0.68      0.74       0.07   \n",
       "boreratio             -0.13       0.49       0.61      0.56       0.17   \n",
       "stroke                -0.01       0.16       0.13      0.18      -0.06   \n",
       "compressionratio      -0.18       0.25       0.16      0.18       0.26   \n",
       "horsepower             0.07       0.35       0.55      0.64      -0.11   \n",
       "peakrpm                0.27      -0.36      -0.29     -0.22      -0.32   \n",
       "citympg               -0.04      -0.47      -0.67     -0.64      -0.05   \n",
       "highwaympg             0.03      -0.54      -0.70     -0.68      -0.11   \n",
       "price                 -0.08       0.58       0.68      0.76       0.12   \n",
       "\n",
       "                  curbweight  enginesize  boreratio  stroke  compressionratio  \\\n",
       "symboling              -0.23       -0.11      -0.13   -0.01             -0.18   \n",
       "wheelbase               0.78        0.57       0.49    0.16              0.25   \n",
       "carlength               0.88        0.68       0.61    0.13              0.16   \n",
       "carwidth                0.87        0.74       0.56    0.18              0.18   \n",
       "carheight               0.30        0.07       0.17   -0.06              0.26   \n",
       "curbweight              1.00        0.85       0.65    0.17              0.15   \n",
       "enginesize              0.85        1.00       0.58    0.20              0.03   \n",
       "boreratio               0.65        0.58       1.00   -0.06              0.01   \n",
       "stroke                  0.17        0.20      -0.06    1.00              0.19   \n",
       "compressionratio        0.15        0.03       0.01    0.19              1.00   \n",
       "horsepower              0.75        0.81       0.57    0.08             -0.20   \n",
       "peakrpm                -0.27       -0.24      -0.25   -0.07             -0.44   \n",
       "citympg                -0.76       -0.65      -0.58   -0.04              0.32   \n",
       "highwaympg             -0.80       -0.68      -0.59   -0.04              0.27   \n",
       "price                   0.84        0.87       0.55    0.08              0.07   \n",
       "\n",
       "                  horsepower  peakrpm  citympg  highwaympg  price  \n",
       "symboling               0.07     0.27    -0.04        0.03  -0.08  \n",
       "wheelbase               0.35    -0.36    -0.47       -0.54   0.58  \n",
       "carlength               0.55    -0.29    -0.67       -0.70   0.68  \n",
       "carwidth                0.64    -0.22    -0.64       -0.68   0.76  \n",
       "carheight              -0.11    -0.32    -0.05       -0.11   0.12  \n",
       "curbweight              0.75    -0.27    -0.76       -0.80   0.84  \n",
       "enginesize              0.81    -0.24    -0.65       -0.68   0.87  \n",
       "boreratio               0.57    -0.25    -0.58       -0.59   0.55  \n",
       "stroke                  0.08    -0.07    -0.04       -0.04   0.08  \n",
       "compressionratio       -0.20    -0.44     0.32        0.27   0.07  \n",
       "horsepower              1.00     0.13    -0.80       -0.77   0.81  \n",
       "peakrpm                 0.13     1.00    -0.11       -0.05  -0.09  \n",
       "citympg                -0.80    -0.11     1.00        0.97  -0.69  \n",
       "highwaympg             -0.77    -0.05     0.97        1.00  -0.70  \n",
       "price                   0.81    -0.09    -0.69       -0.70   1.00  "
      ]
     },
     "execution_count": 1499,
     "metadata": {},
     "output_type": "execute_result"
    }
   ],
   "source": [
    "corr_matrix = data.corr().round(2)\n",
    "corr_matrix"
   ]
  },
  {
   "cell_type": "markdown",
   "id": "e5198244-10a1-4197-b11b-e70ea8056355",
   "metadata": {},
   "source": [
    "### DATA PREPARATION"
   ]
  },
  {
   "cell_type": "code",
   "execution_count": 1500,
   "id": "f46dbe3b-c587-4c16-8cb9-238920b14ef4",
   "metadata": {},
   "outputs": [],
   "source": [
    "# INPUT-FEATURES_INDEPENDENT VARIABLE\n",
    "X = data.drop(columns = ['price']) # When input is all features except price\n",
    "X_1 = data['enginesize'].values.reshape(-1,1) # When input is enginesize only\n",
    "X_2 = data[[\"enginesize\",\"highwaympg\"]] # When inputs are enginesize and highwaympg \n",
    "X_3 = data[[\"curbweight\",\"enginesize\",\"citympg\",\"highwaympg\"]] # When inputs are enginesize and highway \n",
    "\n",
    "# OUTPUT FEATURE_DEPENDANT VARIABLE \n",
    "y = data['price'] #target variable "
   ]
  },
  {
   "cell_type": "markdown",
   "id": "b002b75d-ae1b-4c72-b30d-2b8066c0e458",
   "metadata": {},
   "source": [
    "#### Positive Correlation"
   ]
  },
  {
   "cell_type": "code",
   "execution_count": 1501,
   "id": "93923f88-4fe1-467e-8883-18163c26de4a",
   "metadata": {},
   "outputs": [
    {
     "data": {
      "image/png": "[encoded data removed]",
      "text/plain": [
       "<Figure size 576x576 with 2 Axes>"
      ]
     },
     "metadata": {
      "needs_background": "light"
     },
     "output_type": "display_data"
    }
   ],
   "source": [
    "# Scatter Graph \n",
    "fig = plt.figure(figsize=(8, 8)) \n",
    "ax1 = fig.add_subplot(121)\n",
    "ax2 = fig.add_subplot(122)\n",
    "\n",
    "ax1.scatter(data['enginesize'],y, c = \"orange\")\n",
    "ax2.scatter(data['curbweight'],y, c = \"orange\")\n",
    "\n",
    "ax1.set_title('Higher correlation')\n",
    "ax1.set_xlabel('Car Engine Size')\n",
    "ax1.set_ylabel('Car Price')\n",
    "\n",
    "ax2.set_title('Lesser correlation')\n",
    "ax2.set_xlabel('Car CurbWeight')\n",
    "ax2.set_ylabel('')\n",
    "\n",
    "plt.show()"
   ]
  },
  {
   "cell_type": "markdown",
   "id": "67fee23d-ea4a-4157-92ea-d24893b53d2c",
   "metadata": {},
   "source": [
    "#### Negative Correlation "
   ]
  },
  {
   "cell_type": "code",
   "execution_count": 1502,
   "id": "a24f7b8d-3320-4e25-9564-040e9acd91cc",
   "metadata": {},
   "outputs": [
    {
     "data": {
      "image/png": "[encoded data removed]",
      "text/plain": [
       "<Figure size 576x576 with 2 Axes>"
      ]
     },
     "metadata": {
      "needs_background": "light"
     },
     "output_type": "display_data"
    }
   ],
   "source": [
    "# Scatter Graph \n",
    "fig = plt.figure(figsize=(8, 8)) \n",
    "ax1 = fig.add_subplot(121)\n",
    "ax2 = fig.add_subplot(122)\n",
    "\n",
    "ax1.scatter(data['highwaympg'],y, c = \"blue\")\n",
    "ax2.scatter(data['citympg'],y, c = \"blue\") \n",
    "\n",
    "ax1.set_title('Higher correlation')\n",
    "ax1.set_xlabel('Car Highway(mpg)')\n",
    "ax1.set_ylabel('Car Price')\n",
    "\n",
    "ax2.set_title('Lesser correlation')\n",
    "ax2.set_xlabel('Car City(mpg)')\n",
    "ax2.set_ylabel('Car Price')\n",
    "\n",
    "plt.show()"
   ]
  },
  {
   "cell_type": "markdown",
   "id": "8b4730d5-8cab-45be-bfcf-fe66b43a61da",
   "metadata": {},
   "source": [
    "### LINEAR REGRESSION MODELING "
   ]
  },
  {
   "cell_type": "code",
   "execution_count": 1503,
   "id": "f44d323a-212c-441b-924b-fe2496dc31b6",
   "metadata": {},
   "outputs": [],
   "source": [
    "model = LinearRegression()"
   ]
  },
  {
   "cell_type": "markdown",
   "id": "0eaf9d0d-6d1c-45d9-aead-5bbfe950f3b0",
   "metadata": {},
   "source": [
    "### FIRST -----"
   ]
  },
  {
   "cell_type": "markdown",
   "id": "c24c6ff4-6731-4029-aaaa-3210d036ab2a",
   "metadata": {},
   "source": [
    "#### PREDICTIVE MODEL"
   ]
  },
  {
   "cell_type": "code",
   "execution_count": 1504,
   "id": "21640918-f279-4b30-a48f-f057156d22bb",
   "metadata": {},
   "outputs": [],
   "source": [
    "model.fit(X_1, y)  # Method takes Input set and Output set --- training model\n",
    "\n",
    "pred_1 = model.predict(X_1) # Make predictions using Input values for testing"
   ]
  },
  {
   "cell_type": "markdown",
   "id": "aa8afe46-cec1-4aa6-bf1b-36eee811c981",
   "metadata": {},
   "source": [
    "#### Determining the Slope and Intercept"
   ]
  },
  {
   "cell_type": "code",
   "execution_count": 1505,
   "id": "711fb1d0-4855-483e-bb9f-ceba79b22c84",
   "metadata": {},
   "outputs": [
    {
     "name": "stdout",
     "output_type": "stream",
     "text": [
      "SLOPE VALUE : [167.7]\n",
      "\n",
      " INTERCEPT VALUE : -8005.45\n"
     ]
    }
   ],
   "source": [
    "Slope_value = model.coef_.round(2)\n",
    "Intercept_value = model.intercept_.round(2)\n",
    "\n",
    "print(\"SLOPE VALUE :\",Slope_value)\n",
    "print(\"\\n INTERCEPT VALUE :\",Intercept_value)"
   ]
  },
  {
   "cell_type": "markdown",
   "id": "7981800a-c5ec-4d38-b58b-79b225243f05",
   "metadata": {},
   "source": [
    "#### PREDICTION"
   ]
  },
  {
   "cell_type": "code",
   "execution_count": 1506,
   "id": "b986428d-0beb-41df-8c2b-979967ae7e92",
   "metadata": {},
   "outputs": [
    {
     "name": "stdout",
     "output_type": "stream",
     "text": [
      "Car Prices : [17484.7 14801.5 27043.5  3733.4]\n"
     ]
    }
   ],
   "source": [
    "price = model.predict([[152],[136],[209],[70]]).round(1) \n",
    "print(\"Car Prices :\",price)"
   ]
  },
  {
   "cell_type": "markdown",
   "id": "9b40257e-2781-40f8-964d-4f9b7357f3d8",
   "metadata": {},
   "source": [
    "#### MODEL EVALUATION"
   ]
  },
  {
   "cell_type": "code",
   "execution_count": 1507,
   "id": "5382a5b9-1d78-4788-84fe-c8234fb493a2",
   "metadata": {},
   "outputs": [
    {
     "data": {
      "text/plain": [
       "3870.4342657576967"
      ]
     },
     "execution_count": 1507,
     "metadata": {},
     "output_type": "execute_result"
    }
   ],
   "source": [
    "# Mean square error (MSE) is the average of the square of the errors. The larger the number the larger the error.\n",
    "mse = mean_squared_error(y,pred_1)\n",
    "rmse = np.sqrt(mse)\n",
    "rmse"
   ]
  },
  {
   "cell_type": "code",
   "execution_count": 1508,
   "id": "2152eeac-44b2-4f92-a428-bd090af1837a",
   "metadata": {},
   "outputs": [
    {
     "name": "stdout",
     "output_type": "stream",
     "text": [
      "76.0 %\n"
     ]
    }
   ],
   "source": [
    "print(r2_score(y, pred_1).round(2)*100,\"%\") # R-Squared Evaluation Technique "
   ]
  },
  {
   "cell_type": "markdown",
   "id": "60be4f44-eee6-459f-9432-cb3ab4120242",
   "metadata": {},
   "source": [
    "### SECOND -----"
   ]
  },
  {
   "cell_type": "markdown",
   "id": "8c8eb6e9-f297-4ea5-b087-22e9a7574f90",
   "metadata": {},
   "source": [
    "#### PREDICTIVE MODEL"
   ]
  },
  {
   "cell_type": "code",
   "execution_count": 1509,
   "id": "18f93ff6-21f3-43dc-acce-30f76f5ccadf",
   "metadata": {},
   "outputs": [],
   "source": [
    "model.fit(X_2, y)  # Method takes Input set and Output set --- training model\n",
    "\n",
    "pred_2 = model.predict(X_2) # Make predictions using Input values for testing"
   ]
  },
  {
   "cell_type": "markdown",
   "id": "1a2365a8-e635-452c-9286-526adb102a90",
   "metadata": {},
   "source": [
    "#### Determining the Slope and Intercept"
   ]
  },
  {
   "cell_type": "code",
   "execution_count": 1510,
   "id": "0a8f6aac-8f46-4773-8987-4de5e380c8ea",
   "metadata": {},
   "outputs": [
    {
     "name": "stdout",
     "output_type": "stream",
     "text": [
      "SLOPE VALUE : [ 142.38 -225.98]\n",
      "\n",
      " INTERCEPT VALUE : 2156.73\n"
     ]
    }
   ],
   "source": [
    "Slope_value = model.coef_.round(2)\n",
    "Intercept_value = model.intercept_.round(2)\n",
    "\n",
    "print(\"SLOPE VALUE :\",Slope_value)\n",
    "print(\"\\n INTERCEPT VALUE :\",Intercept_value)"
   ]
  },
  {
   "cell_type": "markdown",
   "id": "b5be9042-6744-42f3-8e73-d098796c3538",
   "metadata": {},
   "source": [
    "#### PREDICTION"
   ]
  },
  {
   "cell_type": "code",
   "execution_count": 1511,
   "id": "16947a7b-3bce-43e1-8fcb-fff8bf5f95c6",
   "metadata": {},
   "outputs": [
    {
     "name": "stdout",
     "output_type": "stream",
     "text": [
      "Car Prices : [17923.1 15871.  26942.8  6925.8]\n"
     ]
    }
   ],
   "source": [
    "price = model.predict([[152,26],[136,25],[209,22],[70,23]]).round(1)  \n",
    "print(\"Car Prices :\",price)"
   ]
  },
  {
   "cell_type": "markdown",
   "id": "dbb5ae7d-535e-4b62-b1db-319de9df9296",
   "metadata": {},
   "source": [
    "#### MODEL EVALUATION"
   ]
  },
  {
   "cell_type": "code",
   "execution_count": 1512,
   "id": "99dcd5b5-0371-4d04-bdf1-1c49989ae7e7",
   "metadata": {},
   "outputs": [
    {
     "data": {
      "text/plain": [
       "3698.159111653715"
      ]
     },
     "execution_count": 1512,
     "metadata": {},
     "output_type": "execute_result"
    }
   ],
   "source": [
    "# Mean square error (MSE) is the average of the square of the errors. The larger the number the larger the error.\n",
    "mse = mean_squared_error(y,pred_2)\n",
    "rmse = np.sqrt(mse)\n",
    "rmse"
   ]
  },
  {
   "cell_type": "code",
   "execution_count": 1513,
   "id": "3a896c1b-8e63-4166-9884-8d1b432c980d",
   "metadata": {},
   "outputs": [
    {
     "name": "stdout",
     "output_type": "stream",
     "text": [
      "78.0 %\n"
     ]
    }
   ],
   "source": [
    "print(r2_score(y, pred_2).round(2)*100,\"%\") # R-Squared Evaluation Technique "
   ]
  },
  {
   "cell_type": "markdown",
   "id": "cdec5185-5e66-44be-a7ca-9640e01cc5d7",
   "metadata": {},
   "source": [
    "### THIRD -----"
   ]
  },
  {
   "cell_type": "markdown",
   "id": "64761528-a874-496f-8e75-70f0001fc988",
   "metadata": {},
   "source": [
    "#### PREDICTIVE MODEL"
   ]
  },
  {
   "cell_type": "code",
   "execution_count": 1514,
   "id": "fc103379-0435-404e-9957-ab4303e75cac",
   "metadata": {},
   "outputs": [],
   "source": [
    "model.fit(X_3, y)  # Method takes Input set and Output set --- training model\n",
    "\n",
    "pred_3 = model.predict(X_3) # Make predictions using Input values for testing"
   ]
  },
  {
   "cell_type": "markdown",
   "id": "2aff88da-7a22-473d-b76f-8598b84b8197",
   "metadata": {},
   "source": [
    "#### Determining the Slope and Intercept"
   ]
  },
  {
   "cell_type": "code",
   "execution_count": 1515,
   "id": "8a3b9e34-cb8b-4ef8-900a-c30e1b76af51",
   "metadata": {},
   "outputs": [
    {
     "name": "stdout",
     "output_type": "stream",
     "text": [
      "SLOPE VALUE : [   4.35  111.63 -336.62  220.8 ]\n",
      "\n",
      " INTERCEPT VALUE : -10300.84\n"
     ]
    }
   ],
   "source": [
    "Slope_value = model.coef_.round(2)\n",
    "Intercept_value = model.intercept_.round(2)\n",
    "\n",
    "print(\"SLOPE VALUE :\",Slope_value)\n",
    "print(\"\\n INTERCEPT VALUE :\",Intercept_value)"
   ]
  },
  {
   "cell_type": "markdown",
   "id": "27f9f2b2-2e37-4840-b766-acb43a2d5363",
   "metadata": {},
   "source": [
    "#### PREDICTION"
   ]
  },
  {
   "cell_type": "code",
   "execution_count": 1516,
   "id": "ba5172d4-8f7c-43da-bad9-95a9888ff320",
   "metadata": {},
   "outputs": [
    {
     "name": "stdout",
     "output_type": "stream",
     "text": [
      "Car Prices : [18285.  14904.3 27196.1  7216.2]\n"
     ]
    }
   ],
   "source": [
    "price = model.predict([[2823,152,19,26],[2507,136,19,25],[3380,209,16,22],[2380,70,17,23]]).round(1)  \n",
    "print(\"Car Prices :\",price)"
   ]
  },
  {
   "cell_type": "markdown",
   "id": "4b172778-d853-4e88-862d-9bf6eccc3952",
   "metadata": {},
   "source": [
    "#### MODEL EVALUATION"
   ]
  },
  {
   "cell_type": "code",
   "execution_count": 1517,
   "id": "35494aac-5472-4136-8bbb-d8e404c8b5c9",
   "metadata": {},
   "outputs": [
    {
     "data": {
      "text/plain": [
       "3549.758176212535"
      ]
     },
     "execution_count": 1517,
     "metadata": {},
     "output_type": "execute_result"
    }
   ],
   "source": [
    "# Mean square error (MSE) is the average of the square of the errors. The larger the number the larger the error.\n",
    "mse = mean_squared_error(y,pred_3)\n",
    "rmse = np.sqrt(mse)\n",
    "rmse"
   ]
  },
  {
   "cell_type": "code",
   "execution_count": 1518,
   "id": "92be363a-9130-4929-8d23-24d9c00a2263",
   "metadata": {},
   "outputs": [
    {
     "name": "stdout",
     "output_type": "stream",
     "text": [
      "80.0 %\n"
     ]
    }
   ],
   "source": [
    "print(r2_score(y, pred_3).round(2)*100,\"%\") # R-Squared Evaluation Technique "
   ]
  },
  {
   "cell_type": "markdown",
   "id": "a54e9740-f3b1-496e-ac55-0ffa91bba88c",
   "metadata": {},
   "source": [
    "### FOURTH -----"
   ]
  },
  {
   "cell_type": "markdown",
   "id": "87161bbf-df65-4bab-a3bb-bda473a3ba7a",
   "metadata": {},
   "source": [
    "#### PREDICTIVE MODEL"
   ]
  },
  {
   "cell_type": "code",
   "execution_count": 1519,
   "id": "2d842f62-b7d2-457b-b374-2fe1ce20399b",
   "metadata": {},
   "outputs": [],
   "source": [
    "model.fit(X, y)  # Method takes Input set and Output set --- training model\n",
    "\n",
    "pred = model.predict(X) # Make predictions using Input values for testing"
   ]
  },
  {
   "cell_type": "markdown",
   "id": "c316079f-f50c-4ecc-aa23-359232ce3442",
   "metadata": {},
   "source": [
    "#### Determining the Slope and Intercept"
   ]
  },
  {
   "cell_type": "code",
   "execution_count": 1520,
   "id": "e4c29d9e-98c6-4042-99d9-87b221f56472",
   "metadata": {},
   "outputs": [
    {
     "name": "stdout",
     "output_type": "stream",
     "text": [
      "SLOPE VALUE : [ 2.85880e+02  1.67700e+02 -9.48200e+01  4.66620e+02  1.94750e+02\n",
      "  1.88000e+00  1.16780e+02 -9.84430e+02 -3.05616e+03  2.86480e+02\n",
      "  3.25000e+01  2.36000e+00 -2.86940e+02  1.91300e+02]\n",
      "\n",
      " INTERCEPT VALUE : -51650.65\n"
     ]
    }
   ],
   "source": [
    "Slope_value = model.coef_.round(2)\n",
    "Intercept_value = model.intercept_.round(2)\n",
    "\n",
    "print(\"SLOPE VALUE :\",Slope_value)\n",
    "print(\"\\n INTERCEPT VALUE :\",Intercept_value)"
   ]
  },
  {
   "cell_type": "markdown",
   "id": "831da8c0-febd-4551-9479-fd84b5aefc27",
   "metadata": {},
   "source": [
    "#### PREDICTION"
   ]
  },
  {
   "cell_type": "code",
   "execution_count": 1521,
   "id": "8552dae1-06bc-4e6c-ae57-723eac212cd6",
   "metadata": {},
   "outputs": [
    {
     "name": "stdout",
     "output_type": "stream",
     "text": [
      "Car Prices : [17723.08 15493.53 26860.63  8545.08]\n"
     ]
    }
   ],
   "source": [
    "price = model.predict([[1,94.5,171.2,65.5,52.4,2823,152,2.68,3.47,9,154,5000,19,26],\n",
    "                       [2,99.8,177.3,66.3,53.1,2507,136,3.19,3.4,8.5,110,5500,19,25],\n",
    "                       [0,103.5,193.8,67.9,53.7,3380,209,3.62,3.39,8,182,5400,16,22],\n",
    "                       [3,95.3,169,65.7,49.6,2380,70,3.33,3.255,9.4,101,6000,17,23]]) \n",
    "print(\"Car Prices :\",price.round(2)) "
   ]
  },
  {
   "cell_type": "markdown",
   "id": "7e1e7a05-018c-4888-b6a5-534b78c9aaed",
   "metadata": {},
   "source": [
    "#### MODEL EVALUATION"
   ]
  },
  {
   "cell_type": "code",
   "execution_count": 1522,
   "id": "c160097d-e4da-4834-84c0-3434f000df0d",
   "metadata": {},
   "outputs": [
    {
     "data": {
      "text/plain": [
       "3067.2257440338026"
      ]
     },
     "execution_count": 1522,
     "metadata": {},
     "output_type": "execute_result"
    }
   ],
   "source": [
    "# Mean square error (MSE) is the average of the square of the errors. The larger the number the larger the error.\n",
    "mse = mean_squared_error(y,pred)\n",
    "rmse = np.sqrt(mse)\n",
    "rmse"
   ]
  },
  {
   "cell_type": "code",
   "execution_count": 1523,
   "id": "8e882e43-50dc-48aa-a765-9f4ff183d2cd",
   "metadata": {},
   "outputs": [
    {
     "name": "stdout",
     "output_type": "stream",
     "text": [
      "85.0 %\n"
     ]
    }
   ],
   "source": [
    "print(r2_score(y, pred).round(2)*100,\"%\") # R-Squared Evaluation Technique "
   ]
  },
  {
   "cell_type": "markdown",
   "id": "63f01b6e-5f3e-4a6a-bfe8-e152f57acca0",
   "metadata": {},
   "source": [
    "## DECISION TREE REGRESSION"
   ]
  },
  {
   "cell_type": "code",
   "execution_count": 1524,
   "id": "60742e5b-7170-4843-bd3c-dff504bce35e",
   "metadata": {},
   "outputs": [],
   "source": [
    "X_train, X_test, y_train, y_test = train_test_split(X, y, test_size=0.20, random_state=42)"
   ]
  },
  {
   "cell_type": "code",
   "execution_count": 1525,
   "id": "5d09d5cf-a421-4136-a588-edf26d1f46dd",
   "metadata": {},
   "outputs": [
    {
     "data": {
      "text/plain": [
       "DecisionTreeRegressor(random_state=2)"
      ]
     },
     "execution_count": 1525,
     "metadata": {},
     "output_type": "execute_result"
    }
   ],
   "source": [
    "DecisionTreeRegModel = DecisionTreeRegressor(random_state=2)\n",
    "DecisionTreeRegModel.fit(X_train,y_train)"
   ]
  },
  {
   "cell_type": "code",
   "execution_count": 1526,
   "id": "3eb046ee-fe54-4c31-af1a-e0363889b0f8",
   "metadata": {},
   "outputs": [
    {
     "data": {
      "text/plain": [
       "array([36880., 15998.,  8949., 12170., 33900.,  7349.,  7609.,  8058.,\n",
       "        8845.,  7995., 15250.,  7975., 11694., 10898., 45400.,  6338.,\n",
       "        5399., 12764.,  6989.,  9233., 10245., 14399.,  7349.,  5348.,\n",
       "        7609., 36880.,  8449., 16515.,  7349., 15985., 33900.,  6229.,\n",
       "        6785., 19045.,  7957., 33900., 11694., 11845.,  6575., 14869.,\n",
       "        8845.])"
      ]
     },
     "execution_count": 1526,
     "metadata": {},
     "output_type": "execute_result"
    }
   ],
   "source": [
    "pred_DTG = DecisionTreeRegModel.predict(X_test)\n",
    "pred_DTG "
   ]
  },
  {
   "cell_type": "code",
   "execution_count": 1527,
   "id": "24e1c9ed-918a-441a-80c4-ca4420e2951f",
   "metadata": {},
   "outputs": [
    {
     "data": {
      "text/plain": [
       "array([16500., 15250., 36880., 11845.])"
      ]
     },
     "execution_count": 1527,
     "metadata": {},
     "output_type": "execute_result"
    }
   ],
   "source": [
    "prediction = DecisionTreeRegModel.predict([[1,94.5,171.2,65.5,52.4,2823,152,2.68,3.47,9,154,5000,19,26],\n",
    "               [2,99.8,177.3,66.3,53.1,2507,136,3.19,3.4,8.5,110,5500,19,25],\n",
    "               [0,103.5,193.8,67.9,53.7,3380,209,3.62,3.39,8,182,5400,16,22],\n",
    "               [3,95.3,169,65.7,49.6,2380,70,3.33,3.255,9.4,101,6000,17,23]])\n",
    "prediction"
   ]
  },
  {
   "cell_type": "markdown",
   "id": "0a514597-d21b-4a55-ad4e-39d1b38a1baf",
   "metadata": {},
   "source": [
    "#### MODEL EVALUATION"
   ]
  },
  {
   "cell_type": "code",
   "execution_count": 1528,
   "id": "26e390aa-fa2b-4504-b22a-8c10e9ca6d4c",
   "metadata": {},
   "outputs": [
    {
     "data": {
      "text/plain": [
       "2759.4824932464926"
      ]
     },
     "execution_count": 1528,
     "metadata": {},
     "output_type": "execute_result"
    }
   ],
   "source": [
    "# Mean square error (MSE) is the average of the square of the errors. The larger the number the larger the error.\n",
    "mse = mean_squared_error(y_test,pred_DTG)\n",
    "rmse = np.sqrt(mse)\n",
    "rmse"
   ]
  },
  {
   "cell_type": "code",
   "execution_count": 1529,
   "id": "7e261857-89e1-47ec-9052-0ee5a0563162",
   "metadata": {},
   "outputs": [
    {
     "name": "stdout",
     "output_type": "stream",
     "text": [
      "90.0 %\n"
     ]
    }
   ],
   "source": [
    "# The r2 score varies between 0 and 100%\n",
    "print(r2_score(y_test, pred_DTG).round(2)*100,\"%\") # R-Squared Evaluation Technique "
   ]
  },
  {
   "cell_type": "markdown",
   "id": "7829d9ef-bcad-476f-82b8-78c717c91f8d",
   "metadata": {},
   "source": [
    "## RANDOM FOREST REGRESSION"
   ]
  },
  {
   "cell_type": "code",
   "execution_count": 1530,
   "id": "5706d3e8-2996-48b3-b65d-8a4833b48100",
   "metadata": {},
   "outputs": [],
   "source": [
    "X_train, X_test, y_train, y_test = train_test_split(X, y, test_size=0.20, random_state=42)"
   ]
  },
  {
   "cell_type": "code",
   "execution_count": 1531,
   "id": "4584aa19-0ef1-4f01-a74d-656e664d2658",
   "metadata": {},
   "outputs": [
    {
     "data": {
      "text/plain": [
       "RandomForestRegressor(n_estimators=300, random_state=0)"
      ]
     },
     "execution_count": 1531,
     "metadata": {},
     "output_type": "execute_result"
    }
   ],
   "source": [
    "from sklearn.ensemble import RandomForestRegressor\n",
    "regressor = RandomForestRegressor(n_estimators = 300, random_state = 0)\n",
    "regressor.fit(X_train,y_train)"
   ]
  },
  {
   "cell_type": "code",
   "execution_count": 1532,
   "id": "f09b804c-6f71-4f47-8e54-819757a5e128",
   "metadata": {},
   "outputs": [
    {
     "data": {
      "text/plain": [
       "array([36293.81      , 18789.05333333,  9080.34666667, 13240.99666667,\n",
       "       28038.5       ,  7335.50041667,  7951.40333333,  8030.19666667,\n",
       "       10243.41111111,  8183.82666667, 14890.25444444,  7988.37333333,\n",
       "       14689.98611111, 10753.95666667, 40684.94      ,  6353.5425    ,\n",
       "        5864.62647222, 13506.02333333,  8327.46611111,  9707.24222222,\n",
       "       10382.18277778, 15245.625     ,  7284.62708333,  5958.09008333,\n",
       "        7164.69      , 36193.92      ,  9253.83666667, 16824.95      ,\n",
       "        7287.93041667, 16340.98333333, 28110.185     ,  6589.39      ,\n",
       "        7934.84833333, 19808.94666667,  8009.37333333, 28161.81333333,\n",
       "       10638.33111111, 12512.88      ,  6902.03213889, 14448.23      ,\n",
       "        8497.30777778])"
      ]
     },
     "execution_count": 1532,
     "metadata": {},
     "output_type": "execute_result"
    }
   ],
   "source": [
    "pred_RFG = regressor.predict(X_test)\n",
    "pred_RFG"
   ]
  },
  {
   "cell_type": "code",
   "execution_count": 1533,
   "id": "84f7e4d1-fe69-4cef-9fc3-65ad519755ba",
   "metadata": {},
   "outputs": [
    {
     "data": {
      "text/plain": [
       "array([16475.02, 14486.49, 36193.92, 12512.88])"
      ]
     },
     "execution_count": 1533,
     "metadata": {},
     "output_type": "execute_result"
    }
   ],
   "source": [
    "prediction = regressor.predict([[1,94.5,171.2,65.5,52.4,2823,152,2.68,3.47,9,154,5000,19,26],\n",
    "               [2,99.8,177.3,66.3,53.1,2507,136,3.19,3.4,8.5,110,5500,19,25],\n",
    "               [0,103.5,193.8,67.9,53.7,3380,209,3.62,3.39,8,182,5400,16,22],\n",
    "               [3,95.3,169,65.7,49.6,2380,70,3.33,3.255,9.4,101,6000,17,23]])  \n",
    "prediction.round(2)"
   ]
  },
  {
   "cell_type": "code",
   "execution_count": 1534,
   "id": "4f88008b-82c6-4264-9152-f8a51ea0a6ea",
   "metadata": {},
   "outputs": [
    {
     "data": {
      "text/plain": [
       "1772.5070712140157"
      ]
     },
     "execution_count": 1534,
     "metadata": {},
     "output_type": "execute_result"
    }
   ],
   "source": [
    "# Mean square error (MSE) is the average of the square of the errors. The larger the number the larger the error.\n",
    "mse = mean_squared_error(y_test,pred_RFG)\n",
    "rmse = np.sqrt(mse)\n",
    "rmse"
   ]
  },
  {
   "cell_type": "code",
   "execution_count": 1535,
   "id": "45dba9ee-0a48-4f3f-bee1-3daeaf186db1",
   "metadata": {},
   "outputs": [
    {
     "name": "stdout",
     "output_type": "stream",
     "text": [
      "96.0 %\n"
     ]
    }
   ],
   "source": [
    "# The r2 score varies between 0 and 100%\n",
    "print(r2_score(y_test, pred_RFG).round(2)*100,\"%\") # R-Squared Evaluation Technique "
   ]
  }
 ],
 "metadata": {
  "kernelspec": {
   "display_name": "Python 3",
   "language": "python",
   "name": "python3"
  },
  "language_info": {
   "codemirror_mode": {
    "name": "ipython",
    "version": 3
   },
   "file_extension": ".py",
   "mimetype": "text/x-python",
   "name": "python",
   "nbconvert_exporter": "python",
   "pygments_lexer": "ipython3",
   "version": "3.8.8"
  }
 },
 "nbformat": 4,
 "nbformat_minor": 5
}
